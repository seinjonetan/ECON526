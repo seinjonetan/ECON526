{
  "cells": [
    {
      "cell_type": "markdown",
      "metadata": {},
      "source": [
        "# ECON526: Quantitative Economics with Data Science Applications\n",
        "\n",
        "Foundations of Numerical Linear Algebra\n",
        "\n",
        "Jesse Perla\n",
        "\n",
        "## Going Beyond “`reg y x, robust`”\n",
        "\n",
        "-   Data science, econometrics, and macroeconomics are built on linear\n",
        "    algebra.\n",
        "\n",
        "-   Numerical linear algebra has all sorts of pitfalls, which become\n",
        "    more critical as we scale up to larger problems.\n",
        "\n",
        "-   Speed differences in choosing better algorithms can be orders of\n",
        "    magnitude.\n",
        "\n",
        "-   Crucial to know what goes on under-the-hood in Stata/R/python\n",
        "    packages for applied work, even if you don’t implement it yourself.\n",
        "\n",
        "-   Material here is related to\n",
        "\n",
        "    -   [QuantEcon\n",
        "        Python](https://python.quantecon.org/linear_algebra.html)\n",
        "    -   [QuantEcon Data\n",
        "        Science](https://datascience.quantecon.org/scientific/applied_linalg.html)\n",
        "    -   [A First Course in Quantitative Economics with\n",
        "        Python](https://intro.quantecon.org/)\n",
        "\n",
        "## Packages\n",
        "\n",
        "This section uses the following packages:"
      ],
      "id": "b2e746b8-0dfc-49e8-bce7-0a8d6f258b64"
    },
    {
      "cell_type": "code",
      "execution_count": 2,
      "metadata": {},
      "outputs": [],
      "source": [
        "import numpy as np\n",
        "import matplotlib.pyplot as plt\n",
        "import scipy\n",
        "from numpy.linalg import cond, matrix_rank, norm\n",
        "from scipy.linalg import inv, solve, det, eig, lu, eigvals\n",
        "from scipy.linalg import solve_triangular, eigvalsh, cholesky"
      ],
      "id": "5f17559b"
    },
    {
      "cell_type": "markdown",
      "metadata": {},
      "source": [
        "## Basic Computational Complexity\n",
        "\n",
        "<span class=\"theorem-title\">**Definition 1 (Big-O Notation) **</span>For\n",
        "a function $f(N)$ and a positive constant $C$, we say $f(N)$ is\n",
        "$O(g(N))$, if there exist positive constants $C$ and $N_0$ such that:\n",
        "\n",
        "$$\n",
        "0 \\leq f(N) \\leq C \\cdot g(N) \\quad \\text{for all } N \\geq N_0\n",
        "$$\n",
        "\n",
        "-   Often crucial to know how problems scale asymptotically (as\n",
        "    $N\\to\\infty$)\n",
        "-   Caution: $f_1(N) = N^3 + N$ is $O(N^3)$ and\n",
        "    $f_2(N) = 1000 N^2 + 3 N$ is $O(N^2)$\n",
        "    -   Asymptotically choose $f_2(N)$ algorithm, but choose $f_1(N)$\n",
        "        for small $N$\n",
        "-   Simple examples:\n",
        "    -   $x \\cdot y = \\sum_{n=1}^N x_n y_n$ is $O(N)$ since it requires\n",
        "        $N$ multiplications and additions\n",
        "    -   $A x$ for $A\\in\\mathbb{R}^{N\\times N},x\\in\\mathbb{R}^N$ is\n",
        "        $O(N^2)$ since it requires $N$ dot products, each $O(N)$\n",
        "\n",
        "## Numerical Precision\n",
        "\n",
        "Computers have finite precision. 64-bit typical, but 32-bit on GPUs\n",
        "\n",
        "<span class=\"theorem-title\">**Definition 2 (Machine Epsilon)\n",
        "**</span>For a given datatype, $\\epsilon$ is defined as\n",
        "$\\epsilon = \\min_{\\delta > 0} \\left\\{ \\delta : 1 + \\delta > 1 \\right\\}$"
      ],
      "id": "52ba9d9f-6dbd-4f6e-8f77-05f595a55ccf"
    },
    {
      "cell_type": "code",
      "execution_count": 3,
      "metadata": {},
      "outputs": [
        {
          "output_type": "stream",
          "name": "stdout",
          "text": [
            "machine epsilon for float64 = 2.220446049250313e-16\n",
            "1 + eps/2 == 1? True\n",
            "machine epsilon for float32 = 1.1920928955078125e-07"
          ]
        }
      ],
      "source": [
        "print(f\"machine epsilon for float64 = {np.finfo(float).eps}\")\n",
        "print(f\"1 + eps/2 == 1? {1.0 + 1.1e-16 == 1.0}\")\n",
        "print(f\"machine epsilon for float32 = {np.finfo(np.float32).eps}\")"
      ],
      "id": "48294699"
    },
    {
      "cell_type": "markdown",
      "metadata": {},
      "source": [
        "# Basic Linear Algebra\n",
        "\n",
        "## Norms\n",
        "\n",
        "-   Common measure of \\`\\`size’’ is the Euclidean norm, or $L^2$ norm\n",
        "    for $x \\in \\mathbb{R}^2$\n",
        "-   Complexity is $O(N)$: requires squaring $N$ times then $N$ additions\n",
        "    to sum. Not nested $$\n",
        "    ||x||_2 = \\sqrt{\\sum_{n=1}^N x_n^2}\n",
        "    $$"
      ],
      "id": "d197852b-60f5-4a24-b42f-38ed50d08100"
    },
    {
      "cell_type": "code",
      "execution_count": 4,
      "metadata": {},
      "outputs": [
        {
          "output_type": "stream",
          "name": "stdout",
          "text": [
            "3.7416573867739413\n",
            "3.7416573867739413\n",
            "3.7416573867739413\n",
            "||x||_2^2 = 14.0 = 14 = 14"
          ]
        }
      ],
      "source": [
        "x = np.array([1, 2, 3]) # Calculating different ways (in order of preference)\n",
        "print(np.sqrt(sum(xval**2 for xval in x))) # manual with comprehensions\n",
        "print(np.sqrt(np.sum(np.square(x)))) # broadcasts\n",
        "print(norm(x)) # built-in to numpy norm(x, ord=2) alternatively\n",
        "print(f\"||x||_2^2 = {norm(x)**2} = {x.T @ x} = {np.dot(x, x)}\")"
      ],
      "id": "7c52a8b7"
    },
    {
      "cell_type": "markdown",
      "metadata": {},
      "source": [
        "## Solving Systems of Equations\n",
        "\n",
        "-   Solving $A x = b$ for $x$ is equivalent $A^{-1} A x = A^{-1} b$\n",
        "-   Then since $A^{-1}A = I$, and $I x = x$, we have $x = A^{-1} b$\n",
        "-   Careful since matrix algebra is not commutative!"
      ],
      "id": "11a8fb81-d8ea-42a7-8248-af6e57bf09c5"
    },
    {
      "cell_type": "code",
      "execution_count": 5,
      "metadata": {},
      "outputs": [
        {
          "output_type": "display_data",
          "metadata": {},
          "data": {
            "text/plain": [
              "array([-1.,  1.])"
            ]
          }
        }
      ],
      "source": [
        "A = np.array([[0, 2], [3, 4]]) # or ((0, 2), (3, 4))\n",
        "b = np.array([2,1])  # Column vector\n",
        "x = solve(A, b)  # Solve Ax = b for x\n",
        "x"
      ],
      "id": "342458cc"
    },
    {
      "cell_type": "markdown",
      "metadata": {},
      "source": [
        "## Using the Inverse Directly\n",
        "\n",
        "-   Can replace the `solve` with a calculation of an inverse\n",
        "-   But it can be slower or less accurate than solving the system\n",
        "    directly"
      ],
      "id": "2b010bd7-a9cc-43e6-b7fc-e73870c5e6cc"
    },
    {
      "cell_type": "code",
      "execution_count": 6,
      "metadata": {},
      "outputs": [
        {
          "output_type": "display_data",
          "metadata": {},
          "data": {
            "text/plain": [
              "array([-1.,  1.])"
            ]
          }
        }
      ],
      "source": [
        "A_inv = inv(A)\n",
        "A_inv @ b # i.e, A^{-1} * b"
      ],
      "id": "f24ccc4e"
    },
    {
      "cell_type": "markdown",
      "metadata": {},
      "source": [
        "## Linear Combinations\n",
        "\n",
        "We can think of solving a system as finding the linear combination of\n",
        "columns of $A$ that equal $b$"
      ],
      "id": "b7069d47-a6a2-4652-a0b5-cfa31c865cc4"
    },
    {
      "cell_type": "code",
      "execution_count": 7,
      "metadata": {},
      "outputs": [
        {
          "output_type": "stream",
          "name": "stdout",
          "text": [
            "b = [2 1], b_star = [2. 1.]"
          ]
        }
      ],
      "source": [
        "b_star = x[0] * A[:, 0] + x[1] * A[:, 1] # using x solution\n",
        "print(f\"b = {b}, b_star = {b_star}\")"
      ],
      "id": "a5eaeede"
    },
    {
      "cell_type": "markdown",
      "metadata": {},
      "source": [
        "## Column Space and Rank\n",
        "\n",
        "-   The column space of a matrix represents all possible linear\n",
        "    combinations of its columns.\n",
        "-   It forms a basis for the space of solutions when solving systems of\n",
        "    linear equations represented by the matrix\n",
        "-   The rank of a matrix is the dimension of its column space"
      ],
      "id": "4f821c7b-334c-4701-874e-9f40aa1b9ac1"
    },
    {
      "cell_type": "code",
      "execution_count": 8,
      "metadata": {},
      "outputs": [
        {
          "output_type": "display_data",
          "metadata": {},
          "data": {
            "text/plain": [
              "2"
            ]
          }
        }
      ],
      "source": [
        "A = np.array([[0, 2], [3, 4]])\n",
        "matrix_rank(A)"
      ],
      "id": "6e9f0769"
    },
    {
      "cell_type": "markdown",
      "metadata": {},
      "source": [
        "Hence, can solve $A x = b$ for any $b \\in \\mathbb{R}^2$ since the column\n",
        "space is the entire space $\\mathbb{R}^2$\n",
        "\n",
        "## Singular Matrices\n",
        "\n",
        "On the other hand, note"
      ],
      "id": "c90058ae-3ebc-43f6-9209-0c55cfe08606"
    },
    {
      "cell_type": "code",
      "execution_count": 9,
      "metadata": {},
      "outputs": [
        {
          "output_type": "display_data",
          "metadata": {},
          "data": {
            "text/plain": [
              "1"
            ]
          }
        }
      ],
      "source": [
        "A = np.array([[1, 2],\n",
        "              [2, 4]])\n",
        "matrix_rank(A)"
      ],
      "id": "f5e40bfa"
    },
    {
      "cell_type": "markdown",
      "metadata": {},
      "source": [
        "So we can only solve $A x = b$ for\n",
        "$b \\propto \\begin{bmatrix} 1 \\\\ 2 \\end{bmatrix} \\propto \\begin{bmatrix} 2 \\\\ 4 \\end{bmatrix}$\n",
        "\n",
        "## Checking Singularity"
      ],
      "id": "1e02b19d-1e8e-499b-b532-4668ee40f8f7"
    },
    {
      "cell_type": "code",
      "execution_count": 10,
      "metadata": {},
      "outputs": [
        {
          "output_type": "stream",
          "name": "stdout",
          "text": [
            "True\n",
            "True\n",
            "Matrix is singular (non-invertible)."
          ]
        }
      ],
      "source": [
        "A = np.array([[1, 2], [2, 4]])\n",
        "# An (expensive) way to check if A is singular is if det(A) = 0\n",
        "print(det(A) == 0.0)\n",
        "print(matrix_rank(A) != A.shape[0]) # or check rank\n",
        "# Check before inverting or use exceptions\n",
        "try:\n",
        "    inv(A)\n",
        "    print(\"Matrix is not singular (invertible).\")\n",
        "except np.linalg.LinAlgError:\n",
        "    print(\"Matrix is singular (non-invertible).\")"
      ],
      "id": "4ba51cd0"
    },
    {
      "cell_type": "markdown",
      "metadata": {},
      "source": [
        "## Determinant is Not Scale Invariant\n",
        "\n",
        "-   Reminder: numerical precision in calculations makes it hard to\n",
        "    compare to zero\n",
        "-   The determinate is useful but depends on the scale of the matrix\n",
        "-   A more robust alternative is the condition number (more next\n",
        "    lecture)"
      ],
      "id": "1fba38f9-a9f4-4edd-8dee-3837af31001c"
    },
    {
      "cell_type": "code",
      "execution_count": 11,
      "metadata": {},
      "outputs": [
        {
          "output_type": "stream",
          "name": "stdout",
          "text": [
            "det(A)=-1e-08, det(K*A)=-100\n",
            "cond(A)=1e+09, cond(K*A)=1e+09,\n",
            "det(inv(A))=-1e+08, cond(inv(A))=1e+09"
          ]
        }
      ],
      "source": [
        "eps, K = 1e-8, 100000\n",
        "A = np.array([[1, 2], [1 + eps, 2 + eps]])\n",
        "print(f\"det(A)={det(A):.5g}, det(K*A)={det(K*A):.5g}\")\n",
        "print(f\"cond(A)={cond(A):.5g}, cond(K*A)={cond(A):.5g},\")\n",
        "print(f\"det(inv(A))={det(inv(A)):.5g}, cond(inv(A))={cond(inv(A)):.5g}\")"
      ],
      "id": "01c52fdd"
    },
    {
      "cell_type": "markdown",
      "metadata": {},
      "source": [
        "# Solving Linear Systems of Equations\n",
        "\n",
        "## Solving Systems with Multiple RHS\n",
        "\n",
        "-   Inverse is nice because you can reuse the $A^{-1}$ to solve\n",
        "    $A x = b$ for many $b$\n",
        "-   However, you can do this with `solve` as well\n",
        "-   Or can reuse LR factorizations (discussed next)"
      ],
      "id": "a522d051-e48d-49c8-ab04-a1e3718fab7d"
    },
    {
      "cell_type": "code",
      "execution_count": 12,
      "metadata": {},
      "outputs": [
        {
          "output_type": "stream",
          "name": "stdout",
          "text": [
            "[[-1.         -1.33333333]\n",
            " [ 1.          1.5       ]]\n",
            "Checking: A*[-1.  1.] = [2. 1.] = [2 1], column of B"
          ]
        }
      ],
      "source": [
        "A = np.array([[0, 2], [3, 4]])\n",
        "B = np.array([[2,3], [1,2]])  # [2,1] and [3,2] as columns\n",
        "# or: B = np.column_stack([np.array([2, 1]),np.array([3,2])])\n",
        "X = solve(A, B)  # Solve AX = B for X\n",
        "print(X)\n",
        "print(f\"Checking: A*{X[:,0]} = {A@X[:, 0]} = {B[:,0]}, column of B\")"
      ],
      "id": "33ae380d"
    },
    {
      "cell_type": "markdown",
      "metadata": {},
      "source": [
        "## LU(P) Decompositions\n",
        "\n",
        "-   We can “factor” any square $A$ into $P A = L U$ for triangular $L$\n",
        "    and $U$. Invertible can have $A = L U$, called the LU decomposition.\n",
        "    “P” is for partial-pivoting\n",
        "-   Singular matrices may not have full-rank $L$ or $U$ matrices"
      ],
      "id": "0bbb45bc-fd47-41cf-ba67-5004a90ef8a9"
    },
    {
      "cell_type": "code",
      "execution_count": 13,
      "metadata": {},
      "outputs": [
        {
          "output_type": "stream",
          "name": "stdout",
          "text": [
            "L*U =\n",
            "[[2. 4.]\n",
            " [1. 2.]]\n",
            "P*A =\n",
            "[[2. 4.]\n",
            " [1. 2.]]"
          ]
        }
      ],
      "source": [
        "A = np.array([[1, 2], [2, 4]])\n",
        "P, L, U = lu(A)\n",
        "print(f\"L*U =\\n{L @ U}\")\n",
        "print(f\"P*A =\\n{P @ A}\")"
      ],
      "id": "b197f06a"
    },
    {
      "cell_type": "markdown",
      "metadata": {},
      "source": [
        "## P, U, and L\n",
        "\n",
        "The $P$ matrix is a permutation matrix of “pivots” the others are\n",
        "triangular"
      ],
      "id": "2fa9ef1d-a972-4348-9419-cbbf5f0f09c9"
    },
    {
      "cell_type": "code",
      "execution_count": 14,
      "metadata": {},
      "outputs": [
        {
          "output_type": "stream",
          "name": "stdout",
          "text": [
            "P =\n",
            "[[0. 1.]\n",
            " [1. 0.]]\n",
            "L =\n",
            "[[1.  0. ]\n",
            " [0.5 1. ]]\n",
            "U =\n",
            "[[2. 4.]\n",
            " [0. 0.]]"
          ]
        }
      ],
      "source": [
        "print(f\"P =\\n{P}\")\n",
        "print(f\"L =\\n{L}\")\n",
        "print(f\"U =\\n{U}\")"
      ],
      "id": "4c89530f"
    },
    {
      "cell_type": "markdown",
      "metadata": {},
      "source": [
        "## LU Decompositions and Systems of Equations\n",
        "\n",
        "-   Pivoting is typically implied when talking about “LU”\n",
        "-   Used in the default `solve` algorithm (without more structure)\n",
        "-   Solving systems of equations with triangular matrices: for\n",
        "    $A x = L U x = b$\n",
        "    1.  Define $y = U x$\n",
        "    2.  Solve $L y = b$ for $y$ and $U x = y$ for $x$\n",
        "-   Since both are triangular, process is $O(N^2)$ (but LU itself\n",
        "    $O(N^3)$)\n",
        "-   Could be used to find `inv`\n",
        "    -   $A = L U$ then $A A^{-1} = I = L U A^{-1} = I$\n",
        "    -   Solve for $Y$ in $L Y = I$, then solve $U A^{-1} = Y$\n",
        "-   Tight connection to textbook Gaussian elimination (including\n",
        "    pivoting)\n",
        "\n",
        "## LU for Non-Singular Matrices"
      ],
      "id": "346a2f91-406e-4374-922a-fcb217c604c6"
    },
    {
      "cell_type": "code",
      "execution_count": 15,
      "metadata": {},
      "outputs": [
        {
          "output_type": "stream",
          "name": "stdout",
          "text": [
            "L*U =\n",
            "[[3. 4.]\n",
            " [1. 2.]]\n",
            "P*A =\n",
            "[[3. 4.]\n",
            " [1. 2.]]"
          ]
        }
      ],
      "source": [
        "A = np.array([[1, 2], [3, 4]])\n",
        "P, L, U = lu(A)\n",
        "print(f\"L*U =\\n{L @ U}\")\n",
        "print(f\"P*A =\\n{P @ A}\")"
      ],
      "id": "1473c6f3"
    },
    {
      "cell_type": "markdown",
      "metadata": {},
      "source": [
        "## L, U, P"
      ],
      "id": "6b5aa3b5-9d0f-4fba-aa31-a84fe1b0fed8"
    },
    {
      "cell_type": "code",
      "execution_count": 16,
      "metadata": {},
      "outputs": [
        {
          "output_type": "stream",
          "name": "stdout",
          "text": [
            "P =\n",
            "[[0. 1.]\n",
            " [1. 0.]]\n",
            "L =\n",
            "[[1.         0.        ]\n",
            " [0.33333333 1.        ]]\n",
            "U =\n",
            "[[3.         4.        ]\n",
            " [0.         0.66666667]]"
          ]
        }
      ],
      "source": [
        "print(f\"P =\\n{P}\")\n",
        "print(f\"L =\\n{L}\")\n",
        "print(f\"U =\\n{U}\")"
      ],
      "id": "ac054d1f"
    },
    {
      "cell_type": "markdown",
      "metadata": {},
      "source": [
        "## Backwards Substitution Example\n",
        "\n",
        "$$\n",
        "\\begin{aligned}\n",
        "U x &= b\\\\\n",
        "U &\\equiv \\begin{bmatrix}\n",
        "3 & 1 \\\\\n",
        "0 & 2 \\\\\n",
        "\\end{bmatrix}, \\quad b = \\begin{bmatrix}\n",
        "7 \\\\\n",
        "2 \\\\\n",
        "\\end{bmatrix}\n",
        "\\end{aligned}\n",
        "$$\n",
        "\n",
        "Solving bottom row for $x_2$\n",
        "\n",
        "$$\n",
        "2 x_2 = 2,\\quad x_2 = 1\n",
        "$$\n",
        "\n",
        "Move up a row, solving for $x_1$, substituting for $x_2$\n",
        "\n",
        "$$\n",
        "3 x_1 + 1 x_2 = 7,\\quad 3 x_1 + 1 \\times 1 =  7,\\quad x_1 = 2\n",
        "$$\n",
        "\n",
        "Generalizes to many rows. For $L$ it is “forward substitution”\n",
        "\n",
        "## Use Triangular Structure if Possible\n",
        "\n",
        "-   Triangular matrices of size $N$ can be solved with back substitution\n",
        "    in $O(N^2)$\n",
        "-   Is $O(N^2)$ good or bad? Beats, $O(N^3)$ typical of general methods"
      ],
      "id": "e6de1be3-fb11-4e69-9aec-029de9cb5102"
    },
    {
      "cell_type": "code",
      "execution_count": 17,
      "metadata": {},
      "outputs": [
        {
          "output_type": "display_data",
          "metadata": {},
          "data": {
            "text/plain": [
              "array([2., 1.])"
            ]
          }
        }
      ],
      "source": [
        "U = np.array([[3, 1],\n",
        "              [0, 2]])\n",
        "b = np.array([7,2])\n",
        "solve(U,b) # works, but internally does an LU which is O(N^3)\n",
        "solve_triangular(U, b, lower=False) # fast O(N^2)"
      ],
      "id": "fa71fb61"
    },
    {
      "cell_type": "markdown",
      "metadata": {},
      "source": [
        "## Symmetric Matrix Structure\n",
        "\n",
        "Another common matrix type are symmetric, $A = A^{T}$"
      ],
      "id": "e0609263-d8d9-4d33-8720-4e8e5e8a8225"
    },
    {
      "cell_type": "code",
      "execution_count": 18,
      "metadata": {},
      "outputs": [
        {
          "output_type": "stream",
          "name": "stdout",
          "text": [
            "Symmetric A? True"
          ]
        },
        {
          "output_type": "display_data",
          "metadata": {},
          "data": {
            "text/plain": [
              "array([-3.,  2.])"
            ]
          }
        }
      ],
      "source": [
        "A = np.array([[1, 2], [2, 5]]) # also posdef, not singular\n",
        "b = np.array([1,4])\n",
        "print(f\"Symmetric A? {scipy.linalg.issymmetric(A)}\")\n",
        "solve(A, b, assume_a=\"sym\") # could also use \"pos\" since positive definite"
      ],
      "id": "e6cc9bea"
    },
    {
      "cell_type": "markdown",
      "metadata": {},
      "source": [
        "## Positive Definite Matrices\n",
        "\n",
        "-   A symmetric matrix $A$ is positive definite if $x^T A x > 0$ for all\n",
        "    $x \\neq 0$\n",
        "-   Useful in many areas, such as covariance matrices. Example"
      ],
      "id": "ba3f70f2-f67d-4ac4-bd7c-392d40f25e47"
    },
    {
      "cell_type": "code",
      "execution_count": 19,
      "metadata": {},
      "outputs": [
        {
          "output_type": "stream",
          "name": "stdout",
          "text": [
            "x^T A x = 5"
          ]
        }
      ],
      "source": [
        "A = np.array([[1, 2], [2, 5]])\n",
        "x = np.array([0, 1]) # can't really check for all x\n",
        "print(f\"x^T A x = {x.T @ A @ x}\")"
      ],
      "id": "fb08874d"
    },
    {
      "cell_type": "markdown",
      "metadata": {},
      "source": [
        "-   Example of a symmetric matrix that is not positive definite"
      ],
      "id": "5a5520c6-f3e0-49ba-9b15-781ebf1b7cd7"
    },
    {
      "cell_type": "code",
      "execution_count": 20,
      "metadata": {},
      "outputs": [
        {
          "output_type": "stream",
          "name": "stdout",
          "text": [
            "x^T A x = 0"
          ]
        }
      ],
      "source": [
        "A = np.array([[1, 2], [2, 0]])\n",
        "print(f\"x^T A x = {x.T @ A @ x}\")  # one counterexample is enough"
      ],
      "id": "7a9b27f9"
    },
    {
      "cell_type": "markdown",
      "metadata": {},
      "source": [
        "-   We can check these with eigenvalues\n",
        "\n",
        "## Cholesky Decomposition\n",
        "\n",
        "-   For symmetric positive definite matrices: $L = U^T$’\n",
        "-   Called a Cholesky decomposition: $A = L L^T$ for a lower triangular\n",
        "    matrix $L$.\n",
        "-   Equivalently, could find A = $U^T U$ for an upper triangular matrix\n",
        "    $U$"
      ],
      "id": "15543439-4486-4285-9e0c-e8ecbb3cca7c"
    },
    {
      "cell_type": "code",
      "execution_count": 21,
      "metadata": {},
      "outputs": [
        {
          "output_type": "stream",
          "name": "stdout",
          "text": [
            "[[1. 0.]\n",
            " [2. 1.]]\n",
            "L*L^T =\n",
            "[[1. 2.]\n",
            " [2. 5.]]"
          ]
        }
      ],
      "source": [
        "A = np.array([[1, 2], [2, 5]])\n",
        "L = cholesky(A, lower=True) # cholesky also defined for upper=True\n",
        "print(L)\n",
        "print(f\"L*L^T =\\n{L @ L.T}\")"
      ],
      "id": "de332984"
    },
    {
      "cell_type": "markdown",
      "metadata": {},
      "source": [
        "## Solving Positive Definite Systems"
      ],
      "id": "1530c677-4b95-4793-945b-3a62503e3182"
    },
    {
      "cell_type": "code",
      "execution_count": 22,
      "metadata": {},
      "outputs": [
        {
          "output_type": "stream",
          "name": "stdout",
          "text": [
            "[-3.  2.]\n",
            "[-3.  2.]"
          ]
        }
      ],
      "source": [
        "A = np.array([[1, 2], [2, 5]])\n",
        "b = np.array([1,4])\n",
        "print(solve(A, b, assume_a=\"pos\")) # uses cholesky internally\n",
        "\n",
        "L = cholesky(A, lower=True)\n",
        "y = solve_triangular(L, b, lower=True)\n",
        "x = solve_triangular(L.T, y, lower=False)\n",
        "print(x)"
      ],
      "id": "2b19f271"
    },
    {
      "cell_type": "markdown",
      "metadata": {},
      "source": [
        "## Cholesky for Covariance Matrices\n",
        "\n",
        "-   Covariance matrices are positive-definite, semi-definite if\n",
        "    degenerate\n",
        "-   Key property of Gaussian random variables:\n",
        "    -   $X \\sim N(\\mu, \\Sigma)$ for\n",
        "        $\\mu \\in \\mathbb{R}^N, \\Sigma \\in \\mathbb{R}^{N \\times N}$\n",
        "    -   $X = \\mu + A Z$ for $Z \\sim N(0_N, I_N)$ where $A A^T = \\Sigma$\n",
        "-   That is, $A$ is the Cholesky decomposition of the covariance matrix\n",
        "\n",
        "## Matrices as Linear Transformations\n",
        "\n",
        "-   Recall: for $x \\in \\mathbb{R}^N$ we should think of a $f(x) = A x$\n",
        "    for $A\\in\\mathbb{R}^{M \\times N}$ as a linear transformation from\n",
        "    $\\mathbb{R}^N$ to $\\mathbb{R}^M$\n",
        "    -   Definition of Linear: $f(a x_1 + b x_2) = a f(x_1) + b f(x_2)$\n",
        "        for scalar $a,b$\n",
        "-   Similarly, the $y = f(x) = A x$ then $f^{-1}(y) = A^{-1} y$\n",
        "    transforms from $\\mathbb{R}^M$ to $\\mathbb{R}^N$\n",
        "    -   If the matrix is square and invertible, this means we can go\n",
        "        back and forth without losing information (i.e., it is\n",
        "        bijective). Otherwise we may be projected onto a\n",
        "        lower-dimensional “manifold” (e.g. a line in a plane or plane in\n",
        "        a cube)\n",
        "-   The vector norm $||x||_2$ is an important feature in many\n",
        "    applications\n",
        "    -   Hence $||f(x)||_2 = ||A x||_2$ frequently comes up in economics\n",
        "        and datascience\n",
        "    -   e.g. linear regression is written as minimizing a vector norm\n",
        "        $||y - X \\beta||_2$\n",
        "-   Matrix structure or decompositions of $A$ help us better understand\n",
        "    the $f(x)$ mapping\n",
        "\n",
        "## Orthogonal Matrices\n",
        "\n",
        "<span class=\"theorem-title\">**Definition 3 (Orthogonal Matrices)\n",
        "**</span>A square matrix $Q$ is orthogonal if $Q^{-1} = Q^T$, and hence\n",
        "$Q^T Q = Q Q^T = I$\n",
        "\n",
        "-   For orthogonal $Q$, $f(x) = Q x$ is interpreted as rotating $x$\n",
        "    without stretching it\n",
        "-   Similarly if $y = f(x) = Q x$ then $f^{-1}(y) = Q^{-1} y = Q^T y$ is\n",
        "    rotating $y$ back\n",
        "-   Columns are orthonormal:\n",
        "    $Q = \\begin{bmatrix}q_1 |& \\ldots & | q_N\\end{bmatrix}$ then\n",
        "    -   $q_i \\cdot q_j = 0$ for $i \\neq j$ and $q_i \\cdot q_i = 1$\n",
        "-   Rotation means the length doesn’t change: $||Q x||_2 = ||x||_2$\n",
        "-   Transformations which preserve norms are central in many\n",
        "    applications within data science, machine learning, and economics -\n",
        "    especially with high-dimensional data\n",
        "\n",
        "# Eigenvalues and Eigenvectors\n",
        "\n",
        "## Eigenvalues and Eigenvectors\n",
        "\n",
        "-   For a square $A$, an eigenvector $x$ and eigenvalue $\\lambda$\n",
        "    satisfy $$\n",
        "    A x = \\lambda x\n",
        "    $$\n",
        "\n",
        "-   $A\\in\\mathbb{R}^{N\\times N}$ has $N$ eigenvalue/eigenvector pairs,\n",
        "    possible multiplicity of $\\lambda$\n",
        "\n",
        "-   Intuition: $x$ is a direction $A x \\propto x$ and $\\lambda$ says how\n",
        "    much it “stretches”\n",
        "\n",
        "-   Properties:\n",
        "\n",
        "    -   For any eigenvector $x$ and scalar $c$ then $c x \\propto A x$ as\n",
        "        well\n",
        "    -   Symmetric matrices have real eigenvalues and orthogonal\n",
        "        eigenvectors. i.e. $x_1 \\cdot x_2 = 0$ for $x_1 \\neq x_2$\n",
        "        eigenvectors. Complex in general\n",
        "    -   Singular if and only if it has an eigenvalue of zero\n",
        "    -   Positive (semi)definite if and only if all eigenvalues are\n",
        "        strictly (weakly) positive\n",
        "    -   Diagonal matrix has eigenvalues as its diagonal\n",
        "    -   Triangular matrix has eigenvalues as its diagonal\n",
        "\n",
        "## Positive Definite and Eigenvalues\n",
        "\n",
        "You cannot check $x^T A x > 0$ for all $x$. Check if “stretching” is\n",
        "positive"
      ],
      "id": "81f9fb10-6dfa-4314-b940-35880277ed21"
    },
    {
      "cell_type": "code",
      "execution_count": 23,
      "metadata": {},
      "outputs": [
        {
          "output_type": "stream",
          "name": "stdout",
          "text": [
            "[-0.23606798  4.23606798]\n",
            "pos-def? False\n",
            "pos-semi-def? False"
          ]
        }
      ],
      "source": [
        "A = np.array([[3, 1], [2, 1]])\n",
        "# A_eigs = np.real(eigvals(A)) # symmetric matrices have real eigenvalues\n",
        "A_eigs = eigvalsh(A) # specialized for symmetric/hermitian matrices\n",
        "print(A_eigs)\n",
        "is_positive_definite = np.all(A_eigs > 0)\n",
        "is_positive_semi_definite = np.all(A_eigs >= 0) # or eigvals(A) >= -eps\n",
        "print(f\"pos-def? {is_positive_definite}\")\n",
        "print(f\"pos-semi-def? {is_positive_semi_definite}\")"
      ],
      "id": "a8afc62f"
    },
    {
      "cell_type": "markdown",
      "metadata": {},
      "source": [
        "## Positive Semi-Definite Matrices **May** Have a Zero Eigenvalue\n",
        "\n",
        "The simplest positive-semi-definite (but not posdef) matrix is"
      ],
      "id": "9a968b0a-7c41-403d-81fe-dcc9506c69b8"
    },
    {
      "cell_type": "code",
      "execution_count": 24,
      "metadata": {},
      "outputs": [
        {
          "output_type": "stream",
          "name": "stdout",
          "text": [
            "[0. 1.]\n",
            "pos-def? False\n",
            "pos-semi-def? True"
          ]
        }
      ],
      "source": [
        "A_eigs = eigvalsh(np.array([[1, 0], [0, 0]]))\n",
        "print(A_eigs)\n",
        "is_positive_definite = np.all(A_eigs > 0)\n",
        "is_positive_semi_definite = np.all(A_eigs >= 0) # or eigvals(A) >= -eps\n",
        "print(f\"pos-def? {is_positive_definite}\")\n",
        "print(f\"pos-semi-def? {is_positive_semi_definite}\")"
      ],
      "id": "51d51e9d"
    },
    {
      "cell_type": "markdown",
      "metadata": {},
      "source": [
        "## Eigen Decomposition (i.e., Spectral Decomposition if Symmetric)\n",
        "\n",
        "-   For square, symmetric, non-singular matrix $A$ factor into\n",
        "\n",
        "$$\n",
        "A = Q \\Lambda Q^{-1}\n",
        "$$\n",
        "\n",
        "-   $Q$ is a matrix of eigenvectors, $\\Lambda$ is a diagonal matrix of\n",
        "    paired eigenvalues (in order)\n",
        "-   For symmetric matrices, the eigenvectors are orthogonal and\n",
        "    $Q^{-1} Q = Q^T Q = I$, and we can think of them as forming an\n",
        "    orthonormal basis\n",
        "-   Orthogonal matrices can be thought of as rotations without\n",
        "    stretching\n",
        "-   More general matrices all have a Singular Value Decomposition (SVD)\n",
        "-   With symmetric $A$, an interpretation of $A x$ is that we can first\n",
        "    rotate $x$ into the $Q$ basis, then stretch by $\\Lambda$, then\n",
        "    rotate back\n",
        "-   Can be used to find $A^t$ for large $t$ (e.g. for Markov chains)\n",
        "    -   $P^t$, i.e. $P \\cdot P \\cdot \\ldots \\cdot P$ for $t$ times\n",
        "    -   $P = Q \\Lambda Q^{-1}$ then $P^t = Q \\Lambda^t Q^{-1}$ where\n",
        "        $\\Lambda^t$ is just the pointwise power\n",
        "-   Related tools such as SVD can help with dimensionality reduction\n",
        "\n",
        "## Spectral/Eigendecomposition of Symmetric Matrix Example"
      ],
      "id": "444f598c-61ce-4af1-8e12-c5ba48df270a"
    },
    {
      "cell_type": "code",
      "execution_count": 25,
      "metadata": {},
      "outputs": [
        {
          "output_type": "stream",
          "name": "stdout",
          "text": [
            "eigenvectors are column-by-column in Q =\n",
            "[[-0.85065081 -0.52573111]\n",
            " [ 0.52573111 -0.85065081]]\n",
            "eigenvalues are in Lambda = [1.38196601+0.j 3.61803399+0.j]\n",
            "Q Lambda Q^T =\n",
            "[[2. 1.]\n",
            " [1. 3.]]"
          ]
        }
      ],
      "source": [
        "A = np.array([[2, 1], [1, 3]])\n",
        "Lambda, Q = eig(A)\n",
        "print(f\"eigenvectors are column-by-column in Q =\\n{Q}\")\n",
        "print(f\"eigenvalues are in Lambda = {Lambda}\")\n",
        "print(f\"Q Lambda Q^T =\\n{Q @ np.diag(np.real(Lambda)) @ Q.T}\")"
      ],
      "id": "009b4c4c"
    },
    {
      "cell_type": "markdown",
      "metadata": {},
      "source": [
        "## Spectral Radius is Maximum Absolute Eigenvalue\n",
        "\n",
        "-   If any $\\lambda \\in \\Lambda$ are $> 1$ can see this would explode\n",
        "-   Useful for seeing if iteration $x_{t+1} = A x_t$ from a $x_0$\n",
        "    explodes\n",
        "\n",
        "<span class=\"theorem-title\">**Definition 4 (Spectral Radius)\n",
        "**</span>The spectral radius of matrix $A$ is\n",
        "$\\rho(A) = \\max_{\\lambda \\in \\Lambda}|\\lambda|$\n",
        "\n",
        "# Least Squares and the Normal Equations\n",
        "\n",
        "## Least Squares\n",
        "\n",
        "Given a matrix $X \\in \\mathbb{R}^{N \\times M}$ and a vector\n",
        "$y \\in \\mathbb{R}^N$, we want to find $\\beta \\in \\mathbb{R}^M$ such that\n",
        "$$\n",
        "\\begin{aligned}\n",
        "\\min_{\\beta} &||y - X \\beta||^2, \\text{ that is,}\\\\\n",
        "\\min_{\\beta} &\\sum_{n=1}^N \\frac{1}{N}(y_n - X_n \\cdot \\beta)^2\n",
        "\\end{aligned}\n",
        "$$\n",
        "\n",
        "Where $X_n$ is n’th row. Take FOCS and rearrange to get\n",
        "\n",
        "$$\n",
        "(X^T X) \\beta =  X^T y\n",
        "$$\n",
        "\n",
        "## Solving the Normal Equations\n",
        "\n",
        "-   The $X$ is often referred to as the “design matrix”. $X^T X$ as the\n",
        "    Gram matrix\n",
        "-   Can form $A = X^T X$ and $b = X^T y$ and solve $A \\beta = b$.\n",
        "    -   Or invert $X^T X$ to get $\\beta = (X^T X)^{-1} X^T y$\n",
        "    -   Note that $X^T X$ is symmetric and, if $X$ is full-rank,\n",
        "        positive definite\n",
        "-   In practice, use the `lstsq` function in scipy\n",
        "    -   It uses better algorithms using eigenvectors. More stable (see\n",
        "        next lecture on conditioning)\n",
        "    -   One algorithm uses another factoring, the QR decomposition\n",
        "    -   There, $X = Q R$ for $Q$ orthogonal and $R$ upper triangular.\n",
        "        See [QR\n",
        "        Decomposition](https://python.quantecon.org/qr_decomp.html) for\n",
        "        more\n",
        "-   We are exploring linear algebra in this lecture\n",
        "    -   For applied work use higher-level libraries like `statsmodels`\n",
        "        (integrated well with `pandas` and `seaborn`)\n",
        "    -   See [statsmodels\n",
        "        docs](https://www.statsmodels.org/dev/example_formulas.html) for\n",
        "        R-style notation\n",
        "    -   See [QuantEcon OLS NOtes](https://python.quantecon.org/ols.html)\n",
        "        for more.\n",
        "\n",
        "## Example of LLS using Scipy"
      ],
      "id": "85b1fca5-1dd6-47b8-a6f8-0649de59e2b0"
    },
    {
      "cell_type": "code",
      "execution_count": 26,
      "metadata": {},
      "outputs": [
        {
          "output_type": "stream",
          "name": "stdout",
          "text": [
            "beta =\n",
            " [ 0.72051065 -0.48571146  0.53304306  0.34249426  1.11006486]\n",
            "beta_hat =\n",
            "[ 0.7278302  -0.49052305  0.53815358  0.3394763   1.11388165]"
          ]
        }
      ],
      "source": [
        "N, M = 100, 5\n",
        "X = np.random.randn(N, M)\n",
        "beta = np.random.randn(M)\n",
        "y = X @ beta + 0.05 * np.random.randn(N)\n",
        "beta_hat, residuals, rank, s = scipy.linalg.lstsq(X, y)\n",
        "print(f\"beta =\\n {beta}\\nbeta_hat =\\n{beta_hat}\")"
      ],
      "id": "2e227ac7"
    },
    {
      "cell_type": "markdown",
      "metadata": {},
      "source": [
        "## Solving using the Normal Equations\n",
        "\n",
        "Or we can solve it directly. Provide matrix structure (so it can use a\n",
        "Cholesky)"
      ],
      "id": "1553bfff-2c45-4aa4-bac2-0106148a37eb"
    },
    {
      "cell_type": "code",
      "execution_count": 27,
      "metadata": {},
      "outputs": [
        {
          "output_type": "stream",
          "name": "stdout",
          "text": [
            "beta =\n",
            " [ 0.72051065 -0.48571146  0.53304306  0.34249426  1.11006486]\n",
            "beta_hat =\n",
            "[ 0.7278302  -0.49052305  0.53815358  0.3394763   1.11388165]"
          ]
        }
      ],
      "source": [
        "beta_hat = solve(X.T @ X, X.T @ y, assume_a=\"pos\")\n",
        "print(f\"beta =\\n {beta}\\nbeta_hat =\\n{beta_hat}\")"
      ],
      "id": "3c4e092f"
    },
    {
      "cell_type": "markdown",
      "metadata": {},
      "source": [
        "## Collinearity in “Tall” Matrices\n",
        "\n",
        "-   Tall $\\mathbb{R}^{N\\times M}$ “design matrices” have $N > M$ and are\n",
        "    “overdetermined”\n",
        "-   The rank of a matrix is full rank if all columns are linearly\n",
        "    independent\n",
        "-   You can only identify $M$ parameters with $M$ linearly independent\n",
        "    columns"
      ],
      "id": "49a39674-38a2-4fec-a026-e07d320474d3"
    },
    {
      "cell_type": "code",
      "execution_count": 28,
      "metadata": {},
      "outputs": [
        {
          "output_type": "stream",
          "name": "stdout",
          "text": [
            "rank(X) = 2, rank(X_col) = 1"
          ]
        }
      ],
      "source": [
        "X = np.array([[1, 2], [2, 5], [3, 7]]) # 3 observations, 2 variables\n",
        "X_col = np.array([[1, 2], [2, 4], [3, 6]]) # all proportional\n",
        "print(f\"rank(X) = {matrix_rank(X)}, rank(X_col) = {matrix_rank(X_col)}\")"
      ],
      "id": "296a78ee"
    },
    {
      "cell_type": "markdown",
      "metadata": {},
      "source": [
        "## Collinearity and Estimation\n",
        "\n",
        "-   If $X$ is not full rank, then $X^T X$ is not invertible. For\n",
        "    example:"
      ],
      "id": "b8ed5392-2307-4003-8eac-d9b291417f2f"
    },
    {
      "cell_type": "code",
      "execution_count": 29,
      "metadata": {},
      "outputs": [
        {
          "output_type": "stream",
          "name": "stdout",
          "text": [
            "cond(X'*X)=2819.3329786399063, cond(X_col'*X_col)=1.2999933999712892e+16"
          ]
        }
      ],
      "source": [
        "print(f\"cond(X'*X)={cond(X.T@X)}, cond(X_col'*X_col)={cond(X_col.T@X_col)}\")"
      ],
      "id": "a680a7bf"
    },
    {
      "cell_type": "markdown",
      "metadata": {},
      "source": [
        "-   Note that when you start doing operations on matrices, numerical\n",
        "    error creeps in, so you will not get an exact number\n",
        "-   The rule-of-thumb with condition numbers is that if it is\n",
        "    $1\\times 10^k$ then you lose about $k$ digits of precision. So this\n",
        "    effectively means it is singular\n",
        "-   Given the singular matrix, this means a continuum of $\\beta$ will\n",
        "    solve the problem\n",
        "\n",
        "## `lstsq` Solves it? Careful on Interpretation!\n",
        "\n",
        "-   Since $X_{col}^T X_{col}$ is singular, we cannot use\n",
        "    `solve(X.T@X, y)`\n",
        "-   But what about `lstsq` methods?\n",
        "-   As you will see, this gives an answer. Interpretation is hard\n",
        "-   The key is that in the case of non-full rank, you cannot identify\n",
        "    individual parameters\n",
        "    -   Related to “Identification” in econometrics\n",
        "    -   Having low residuals is not enough"
      ],
      "id": "959c0855-6c7c-4983-93a8-162efcacdfd6"
    },
    {
      "cell_type": "code",
      "execution_count": 30,
      "metadata": {},
      "outputs": [
        {
          "output_type": "stream",
          "name": "stdout",
          "text": [
            "beta_hat_col = [0.99857143 1.99714286]\n",
            "rank=1, cols=2, norm(X*beta_hat_col-y)=0.0"
          ]
        }
      ],
      "source": [
        "y = np.array([5.0, 10.1, 14.9])\n",
        "beta_hat, residuals, rank, s = scipy.linalg.lstsq(X_col, y)\n",
        "print(f\"beta_hat_col = {beta_hat}\")\n",
        "print(f\"rank={rank}, cols={X.shape[1]}, norm(X*beta_hat_col-y)={norm(residuals)}\")"
      ],
      "id": "3cbc1317"
    },
    {
      "cell_type": "markdown",
      "metadata": {},
      "source": [
        "## Fat Design Matrices\n",
        "\n",
        "-   Fat $\\mathbb{R}^{N\\times M}$ “design matrices” have $N < M$ and are\n",
        "    “underdetermined”\n",
        "-   Less common in econometrics, but useful to understand the structure\n",
        "-   A continuum $\\beta\\in\\mathbb{R}^{M - \\text{rank}(X)}$ solve this\n",
        "    problem"
      ],
      "id": "db470898-a81e-46f2-970c-6ac94b2758fd"
    },
    {
      "cell_type": "code",
      "execution_count": 31,
      "metadata": {},
      "outputs": [
        {
          "output_type": "stream",
          "name": "stdout",
          "text": [
            "beta_hat = [0.8 0.6 1. ], rank=2, ? residuals = []"
          ]
        }
      ],
      "source": [
        "X = np.array([[1, 2, 3], [0, 5, 7]]) # 2 rows, 3 variables\n",
        "y = np.array([5, 10])\n",
        "beta_hat, residuals, rank, s = scipy.linalg.lstsq(X, y)\n",
        "print(f\"beta_hat = {beta_hat}, rank={rank}, ? residuals = {residuals}\")"
      ],
      "id": "6f346e98"
    },
    {
      "cell_type": "markdown",
      "metadata": {},
      "source": [
        "## Which Solution?\n",
        "\n",
        "-   Residuals are zero here because there are enough parameters to fit\n",
        "    perfectly (i.e., it is underdetermined)\n",
        "-   Given the multiple solutions, the `lstsq` is giving\n",
        "\n",
        "$$\n",
        "\\min_{\\beta} ||\\beta||_2^2 \\text{ s.t. } X \\beta = y\n",
        "$$\n",
        "\n",
        "-   i.e., the “smallest” coefficients which interpolate the data exactly\n",
        "-   Which trivially fulfills the OLS objective:\n",
        "    $\\min_{\\beta} ||y - X \\beta||_2^2$\n",
        "-   Useful and common in ML, but be **very** careful when interpreting\n",
        "    for economics\n",
        "    -   Tight connections to Bayesian versions of statistical tests\n",
        "    -   But until you understand econometrics and “identification” well,\n",
        "        **stick to full-rank matrices**\n",
        "    -   **Advanced topics:** search for “Regularization”, “Ridgeless\n",
        "        Regression” and “Benign Overfitting in Linear Regression.”"
      ],
      "id": "25011d43-50d6-4c33-bc5e-f5da4a1228fd"
    }
  ],
  "nbformat": 4,
  "nbformat_minor": 5,
  "metadata": {
    "kernelspec": {
      "name": "python3",
      "display_name": "Python 3 (ipykernel)",
      "language": "python"
    },
    "language_info": {
      "name": "python",
      "codemirror_mode": {
        "name": "ipython",
        "version": "3"
      },
      "file_extension": ".py",
      "mimetype": "text/x-python",
      "nbconvert_exporter": "python",
      "pygments_lexer": "ipython3",
      "version": "3.11.4"
    }
  }
}