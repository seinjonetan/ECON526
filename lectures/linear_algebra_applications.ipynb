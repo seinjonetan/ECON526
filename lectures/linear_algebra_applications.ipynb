{
  "cells": [
    {
      "cell_type": "markdown",
      "metadata": {},
      "source": [
        "# ECON526: Quantitative Economics with Data Science Applications\n",
        "\n",
        "Applications of Linear Algebra\n",
        "\n",
        "Jesse Perla\n",
        "\n",
        "# Overview\n",
        "\n",
        "## Motivation and Materials\n",
        "\n",
        "-   In this lecture, we will cover some applications of the tools we\n",
        "    developed in the previous lecture\n",
        "\n",
        "-   The goal is to build some useful tools to sharpen your intuition on\n",
        "    linear algebra and eigenvalues/eigenvectors, and practice some basic\n",
        "    coding\n",
        "\n",
        "-   We introduce [scikit-learn](https://scikit-learn.org/stable/), a\n",
        "    package for old-school (i.e. not deep learning or neural networks)\n",
        "    ML and data analysis\n",
        "\n",
        "    -   Introduces “unsupervised learning” (i.e., tools to interpret\n",
        "        data structure without any forecasts/predictions)\n",
        "\n",
        "-   Some additional material and references\n",
        "\n",
        "    -   [QuantEcon\n",
        "        Python](https://python.quantecon.org/linear_algebra.html)\n",
        "    -   [QuantEcon\n",
        "        DataScience](https://datascience.quantecon.org/scientific/applied_linalg.html)\n",
        "    -   [A First Course in Quantitative Economics with\n",
        "        Python](https://intro.quantecon.org/)\n",
        "\n",
        "## Packages"
      ],
      "id": "44755c48-71f5-45c8-8e36-1a7dfa81b99a"
    },
    {
      "cell_type": "code",
      "execution_count": 1,
      "metadata": {},
      "outputs": [],
      "source": [
        "import numpy as np\n",
        "import matplotlib.pyplot as plt\n",
        "import scipy\n",
        "from numpy.linalg import cond, matrix_rank, norm\n",
        "from scipy.linalg import inv, solve, det, eig, lu, eigvals\n",
        "from scipy.linalg import solve_triangular, eigvalsh, cholesky"
      ],
      "id": "ed56a54a-89bf-4ad6-a8a4-98b157a1891a"
    },
    {
      "cell_type": "markdown",
      "metadata": {},
      "source": [
        "## New Packages for Data Science and ML"
      ],
      "id": "51626f35-e161-4d89-a036-48a8e7e5c94f"
    },
    {
      "cell_type": "code",
      "execution_count": 2,
      "metadata": {},
      "outputs": [],
      "source": [
        "import seaborn as sns\n",
        "import pandas as pd\n",
        "from sklearn.decomposition import PCA\n",
        "from sklearn.cluster import KMeans"
      ],
      "id": "3e5e6dce-dfee-4132-bb91-54d2d86472cf"
    },
    {
      "cell_type": "markdown",
      "metadata": {},
      "source": [
        "# Difference Equations\n",
        "\n",
        "## Linear Difference Equations as Iterative Maps\n",
        "\n",
        "-   Consider $A : \\mathbb{R}^N \\to \\mathbb{R}^N$ as the linear map for\n",
        "    the state $x_t \\in \\mathbb{R}^N$\n",
        "-   An example of a linear difference equation is $$\n",
        "    x_{t+1} = A x_t\n",
        "    $$ where\n",
        "\n",
        "$$\n",
        "A \\equiv \\begin{bmatrix}\n",
        "0.9 & 0.1 \\\\\n",
        "0.5 & 0.8 \\\\\n",
        "\\end{bmatrix}\n",
        "$$"
      ],
      "id": "27449a5e-66b4-4ea0-85bc-c7f5d6d17745"
    },
    {
      "cell_type": "code",
      "execution_count": 3,
      "metadata": {},
      "outputs": [
        {
          "output_type": "stream",
          "name": "stdout",
          "text": [
            "x_1 = [1.  1.3], x_2 = [1.03 1.54]"
          ]
        }
      ],
      "source": [
        "A = np.array([[0.9, 0.1], [0.5, 0.8]])\n",
        "x_0 = np.array([1, 1])\n",
        "x_1 = A @ x_0\n",
        "print(f\"x_1 = {x_1}, x_2 = {A @ x_1}\")"
      ],
      "id": "72239ad9-d8c3-4e66-a2f6-f8383ce0da6d"
    },
    {
      "cell_type": "markdown",
      "metadata": {},
      "source": [
        "## Iterating with $\\rho(A) > 1$\n",
        "\n",
        "Iterate $x_{t+1} = A x_t$ from $x_0$ for $t=100$"
      ],
      "id": "8c5cf0ca-19db-4f21-8c53-dd5772dbdfed"
    },
    {
      "cell_type": "code",
      "execution_count": 4,
      "metadata": {},
      "outputs": [
        {
          "output_type": "stream",
          "name": "stdout",
          "text": [
            "rho(A) = 1.079128784747792\n",
            "x_200 = [3406689.32410673 6102361.18640516]"
          ]
        }
      ],
      "source": [
        "x_0 = np.array([1, 1])\n",
        "t = 200\n",
        "print(f\"rho(A) = {np.max(np.abs(eigvals(A)))}\")\n",
        "print(f\"x_{t} = {np.linalg.matrix_power(A, t) @ x_0}\")"
      ],
      "id": "623a4de8-c5ae-405e-9b09-83b1b6708127"
    },
    {
      "cell_type": "markdown",
      "metadata": {},
      "source": [
        "-   Diverges to\n",
        "    $x_{\\infty} = \\begin{bmatrix} \\infty & \\infty \\end{bmatrix}^T$\n",
        "-   $\\rho = 1 + 0.079$ says in the worst case (i.e., $x_t \\propto$ the\n",
        "    eigenvector associated with $\\lambda = 1.079$ eigenvalue), expands\n",
        "    by $7.9\\%$ on each iteration\n",
        "\n",
        "## Iterating with $\\rho(A) < 1$"
      ],
      "id": "b46296eb-7bca-443f-8ed5-76a9e8c1d44d"
    },
    {
      "cell_type": "code",
      "execution_count": 5,
      "metadata": {},
      "outputs": [
        {
          "output_type": "stream",
          "name": "stdout",
          "text": [
            "rho(A) = 0.9449489742783178\n",
            "x_200 = [6.03450418e-06 2.08159603e-05]"
          ]
        }
      ],
      "source": [
        "A = np.array([[0.6, 0.1], [0.5, 0.8]])\n",
        "print(f\"rho(A) = {np.max(np.abs(eigvals(A)))}\")\n",
        "print(f\"x_{t} = {np.linalg.matrix_power(A, t) @ x_0}\")"
      ],
      "id": "934434e4-401e-4edf-8114-2f7cb5fcc302"
    },
    {
      "cell_type": "markdown",
      "metadata": {},
      "source": [
        "-   Converges to $x_{\\infty} = \\begin{bmatrix} 0 & 0 \\end{bmatrix}^T$\n",
        "\n",
        "## Iterating with $\\rho(A) = 1$\n",
        "\n",
        "-   To make a matrix that has $\\rho(A) = 1$ reverse eigendecomposition!\n",
        "-   Leave previous eigenvectors in $Q$, change $\\Lambda$ to force\n",
        "    $\\rho(A)$ directly"
      ],
      "id": "99736b35-d6ea-46e0-961b-b48fab28b8ee"
    },
    {
      "cell_type": "code",
      "execution_count": 6,
      "metadata": {},
      "outputs": [
        {
          "output_type": "stream",
          "name": "stdout",
          "text": [
            "check orthogonal: dot(x_1,x_2) approx 0: 0.0\n",
            "rho(A) = 1.0\n",
            "x_200 = [ 0.27639321 -0.17082039]"
          ]
        }
      ],
      "source": [
        "Q = np.array([[-0.85065081, -0.52573111], [0.52573111, -0.85065081]])\n",
        "print(f\"check orthogonal: dot(x_1,x_2) approx 0: {np.dot(Q[:,0], Q[:,1])}\")\n",
        "Lambda = [1.0, 0.8]  # choosing eigenvalue so max_n|lambda_n| = 1\n",
        "A = Q @ np.diag(Lambda) @ inv(Q)\n",
        "print(f\"rho(A) = {np.max(np.abs(eigvals(A)))}\")\n",
        "print(f\"x_{t} = {np.linalg.matrix_power(A, t) @ x_0}\")"
      ],
      "id": "b97769e5-d3aa-427a-8686-15be4c664fd2"
    },
    {
      "cell_type": "markdown",
      "metadata": {},
      "source": [
        "# Unemployment Dynamics\n",
        "\n",
        "## Dynamics of Employment without Population Growth\n",
        "\n",
        "-   Consider an economy where in a given year $\\alpha = 5\\%$ of employed\n",
        "    workers lose job and $\\phi = 10\\%$ of unemployed workers find a job\n",
        "-   We start with $E_0 = 900,000$ employed workers, $U_0 = 100,000$\n",
        "    unemployed workers, and no birth or death. Dynamics for the year:\n",
        "\n",
        "$$\n",
        "\\begin{aligned}\n",
        "E_{t+1} &= (1-\\alpha) E_t + \\phi U_t\\\\\n",
        "U_{t+1} &= \\alpha E_t + (1-\\phi) U_t\n",
        "\\end{aligned}\n",
        "$$\n",
        "\n",
        "-   Can write this as a matrix equation\n",
        "\n",
        "$$\n",
        "\\underbrace{\\begin{bmatrix} E_{t+1}\\\\U_{t+1}\\end{bmatrix}}_{X_{t+1}} = \\underbrace{\\begin{bmatrix} 1-\\alpha & \\phi \\\\ \\alpha & 1-\\phi \\end{bmatrix}}_{ A} \\underbrace{\\begin{bmatrix} E_{t}\\\\U_{t}\\end{bmatrix}}_{X_t}\n",
        "$$\n",
        "\n",
        "## Simulating\n",
        "\n",
        "Simulate by iterating $X_{t+1} = A X_t$ from $X_0$ until $T=100$"
      ],
      "id": "ac560fc3-37b0-44c4-8439-af01fbfbceee"
    },
    {
      "cell_type": "code",
      "execution_count": 7,
      "metadata": {},
      "outputs": [
        {
          "output_type": "stream",
          "name": "stdout",
          "text": [
            "X_100 = [666666.6870779  333333.31292209]"
          ]
        }
      ],
      "source": [
        "def simulate(A, X_0, T):\n",
        "    X = np.zeros((2, T+1))\n",
        "    X[:,0] = X_0\n",
        "    for t in range(T):\n",
        "        X[:,t+1] = A @ X[:,t]\n",
        "    return X\n",
        "X_0 = np.array([900000, 100000])\n",
        "A = np.array([[0.95, 0.1], [0.05, 0.9]])\n",
        "T = 100\n",
        "X = simulate(A, X_0, T)\n",
        "print(f\"X_{T} = {X[:,T]}\")"
      ],
      "id": "039b398e-a307-4ce6-8292-9506217f0be6"
    },
    {
      "cell_type": "markdown",
      "metadata": {},
      "source": [
        "## Plotting Code"
      ],
      "id": "d889d0ce-e617-4a5b-a311-fac6c84e872a"
    },
    {
      "cell_type": "code",
      "execution_count": 8,
      "metadata": {},
      "outputs": [],
      "source": [
        "fig, ax = plt.subplots(figsize=(6, 4))\n",
        "ax.plot(range(T+1), X.T, label=[\"Employed\", \"Unemployed\"])\n",
        "ax.set(xlabel=\"t\", ylabel=\"Number of Workers\", title=\"Employment Status\")\n",
        "ax.legend()\n",
        "plt.show()"
      ],
      "id": "ac9b9bff-02ca-4b81-be45-373124636cc9"
    },
    {
      "cell_type": "markdown",
      "metadata": {},
      "source": [
        "## Dynamics of Unemployment"
      ],
      "id": "57e04184-16bc-4d6d-9897-2e3190d6bab6"
    },
    {
      "cell_type": "code",
      "execution_count": 9,
      "metadata": {},
      "outputs": [
        {
          "output_type": "display_data",
          "metadata": {},
          "data": {
            "image/png": "[encoded data removed]"
          }
        }
      ],
      "source": [
        "fig, ax = plt.subplots(figsize=(6, 4))\n",
        "ax.plot(range(T+1), X.T, label=[\"Employed\", \"Unemployed\"])\n",
        "ax.set(xlabel=\"t\", ylabel=\"Number of Workers\", title=\"Employment Status\")\n",
        "ax.legend()\n",
        "plt.show()"
      ],
      "id": "0c723583-3fb1-4fe4-91da-ae6685430c1b"
    },
    {
      "cell_type": "markdown",
      "metadata": {},
      "source": [
        "## Convergence to a Longrun Distribution\n",
        "\n",
        "-   Find $X_{\\infty}$ by iterating $X_{t+1} = A X_t$ many times from a\n",
        "    $X_0$?\n",
        "\n",
        "    -   Check if it has converged with $X_{\\infty} \\approx A X_{\\infty}$\n",
        "    -   Is $X_{\\infty}$ the same from any $X_0$? Will discuss\n",
        "        “ergodicity” later\n",
        "\n",
        "-   Alternatively, note that this expression is the same as\n",
        "\n",
        "    $$\n",
        "    1 \\times \\bar{X} = A \\bar{X}\n",
        "    $$\n",
        "\n",
        "    -   i.e, a $\\lambda = 1$ where $\\bar{X}$ is the corresponding\n",
        "        eigenvector of $A$\n",
        "    -   Is $\\lambda = 1$ always an eigenvalue? (yes if all\n",
        "        $\\sum_{n=1}^N A_{ni} = 1$ for all $i$)\n",
        "    -   Does $\\bar{X} = X_{\\infty}$? For any $X_0$?\n",
        "    -   Multiple eigenvalues with $\\lambda = 1 \\implies$ multiple\n",
        "        $\\bar{X}$\n",
        "\n",
        "## Using the First Eigenvector for the Steady State"
      ],
      "id": "8a1a7fe5-da65-48d8-a51e-c0eab0940ce5"
    },
    {
      "cell_type": "code",
      "execution_count": 10,
      "metadata": {},
      "outputs": [
        {
          "output_type": "stream",
          "name": "stdout",
          "text": [
            "real eigenvalues = [1.   0.85]\n",
            "eigenvectors are column-by-column in Q =\n",
            "[[ 0.89442719 -0.70710678]\n",
            " [ 0.4472136   0.70710678]]\n",
            "first eigenvalue = 1? True\n",
            "X_bar = [666666.66666667 333333.33333333]\n",
            "X_100 = [666666.6870779  333333.31292209]"
          ]
        }
      ],
      "source": [
        "Lambda, Q = eig(A)\n",
        "print(f\"real eigenvalues = {np.real(Lambda)}\")\n",
        "print(f\"eigenvectors are column-by-column in Q =\\n{Q}\")\n",
        "print(f\"first eigenvalue = 1? {np.isclose(Lambda[0], 1.0)}\")\n",
        "X_bar = Q[:,0] / np.sum(Q[:,0]) * np.sum(X_0)\n",
        "print(f\"X_bar = {X_bar}\\nX_{T} = {X[:,T]}\")"
      ],
      "id": "7fae0aa1-a338-4df9-a99a-65b24fe84a4e"
    },
    {
      "cell_type": "markdown",
      "metadata": {},
      "source": [
        "## Using the Second Eigenvalue for the Convergence Speed\n",
        "\n",
        "-   The second largest ($\\lambda_2 < 1$) provides information on the\n",
        "    speed of convergence\n",
        "    -   $0$ is instantaneous convergence here\n",
        "    -   $1$ is no convergence here\n",
        "-   We will create a new matrix with the same steady state, different\n",
        "    speed\n",
        "    -   To do this, build a new matrix with the same eigenvectors (in\n",
        "        particular the same eigenvector associated with the $\\lambda=1$\n",
        "        eigenvalue)\n",
        "    -   But we will replace the eigenvalues\n",
        "        $\\begin{bmatrix}1.0 & 0.85\\end{bmatrix}$ with\n",
        "        $\\begin{bmatrix}1.0 & 0.5\\end{bmatrix}$\n",
        "    -   Then we will reconstruct $A$ matrix and simulate again\n",
        "-   Intuitively we will see the that the resulting $A_{\\text{fast}}$\n",
        "    implies $\\alpha$ and $\\phi$ which are larger by the same proportion\n",
        "\n",
        "## Simulating with Different Eigenvalues"
      ],
      "id": "28aaf3bb-bc4f-47bf-be00-92104083a5ee"
    },
    {
      "cell_type": "code",
      "execution_count": 11,
      "metadata": {},
      "outputs": [
        {
          "output_type": "stream",
          "name": "stdout",
          "text": [
            "A_fast =\n",
            " [[0.8 0.4]\n",
            " [0.2 0.6]]\n",
            "alpha_fast/alpha = 4, phi_fast/phi = 4\n",
            "X_100 = [666666.66666667 333333.33333333]"
          ]
        }
      ],
      "source": [
        "Lambda_fast = np.array([1.0, 0.4])\n",
        "A_fast = Q @ np.diag(Lambda_fast) @ inv(Q) # same eigenvectors\n",
        "print(\"A_fast =\\n\", A_fast)\n",
        "print(f\"alpha_fast/alpha = {A_fast[1,0]/A[1,0]:.2g}, \\\n",
        "phi_fast/phi = {A_fast[0,1]/A[0,1]:.2g}\")\n",
        "X_fast = simulate(A_fast, X_0, T)\n",
        "print(f\"X_{T} = {X_fast[:,T]}\")"
      ],
      "id": "c4346d42-6ede-48b7-be51-b018fc9df8b0"
    },
    {
      "cell_type": "markdown",
      "metadata": {},
      "source": [
        "## Dynamics of Unemployment For Difference Convergence Speeds"
      ],
      "id": "d2429c65-4842-4efa-b9b1-e3fece2004da"
    },
    {
      "cell_type": "code",
      "execution_count": 12,
      "metadata": {},
      "outputs": [
        {
          "output_type": "display_data",
          "metadata": {},
          "data": {
            "image/png": "[encoded data removed]"
          }
        }
      ],
      "source": [
        "lambda_2_old = np.real(Lambda[1])\n",
        "lambda_2_new = Lambda_fast[1]\n",
        "fig, ax = plt.subplots(figsize=(6, 4))\n",
        "ax.plot(range(T+1), X.T, label=[rf\"Employed$(\\lambda_2={lambda_2_old})$\", rf\"Unemployed$(\\lambda_2={lambda_2_old})$\"])\n",
        "ax.plot(range(T+1), X_fast.T, label=[rf\"Employed$(\\lambda_2={lambda_2_new})$\", rf\"Unemployed$(\\lambda_2={lambda_2_new})$\"])\n",
        "ax.set(xlabel=\"t\", ylabel=\"Number of Workers\", title=\"Employment Status\")\n",
        "ax.legend()\n",
        "plt.show()"
      ],
      "id": "c9021f23-29f2-4c73-abce-b05f53a365f4"
    },
    {
      "cell_type": "markdown",
      "metadata": {},
      "source": [
        "# Present Discounted Values\n",
        "\n",
        "## Geometric Series\n",
        "\n",
        "-   Assume dividends follow $y_{t+1} = G y_t$ for $t=0,1,\\ldots$ and\n",
        "    $y_0$ is given\n",
        "\n",
        "-   $G > 0$, dividends are discounted at factor $\\beta > 1$ then\n",
        "    $p_t = \\sum_{s=0}^{\\infty} \\beta^s y_{t+s} = \\frac{y_t}{1-\\beta G}$\n",
        "\n",
        "-   More generally if $x_{t+1} = A x_t$, $x_t \\in \\mathbb{R}^N$,\n",
        "    $y_t = G x_t$ and $A \\in \\mathbb{R}^{N \\times N}$, then\n",
        "\n",
        "    $$\n",
        "    \\begin{aligned}\n",
        "    p_t &= y_t + \\beta y_{t+1} + \\beta^2 y_{t+2} + \\ldots = G x_t + \\beta G A x_t + \\beta G A A  x_t + \\ldots\\\\\n",
        "    &= \\sum_{s=0}^{\\infty} \\beta^s A^s y_t\\\\\n",
        "    &= G (I - \\beta A)^{-1} x_t\\quad,\\text{ if } \\rho(A) < 1/\\beta\n",
        "    \\end{aligned}\n",
        "    $$\n",
        "\n",
        "-   i.e., spectral radius of $A$, the maximum scaling, must be less than\n",
        "    discounting\n",
        "\n",
        "-   Intuition from univariate: of $G \\in \\mathbb{R}^{1 \\times 1}$ then\n",
        "    $\\text{eig}(G) = G$, so must have $|\\beta G| < 1$\n",
        "\n",
        "## PDV Example\n",
        "\n",
        "Here is an example with $1 < \\rho(A) < 1/\\beta$. Try with different $A$"
      ],
      "id": "3e02a50d-1cca-4b9d-ac4d-2ad976f9c4d7"
    },
    {
      "cell_type": "code",
      "execution_count": 13,
      "metadata": {},
      "outputs": [
        {
          "output_type": "stream",
          "name": "stdout",
          "text": [
            "p_t = 24.43, spectral radius = 1.019, 1/beta = 1.111"
          ]
        }
      ],
      "source": [
        "beta = 0.9\n",
        "A = np.array([[0.85, 0.1], [0.2, 0.9]])\n",
        "G = np.array([[1.0, 1.0]]) # row vector\n",
        "x_0 = np.array([1.0, 1.0])\n",
        "p_t = G @ solve(np.eye(2) - beta * A, x_0)\n",
        "#p_t = G @ inv(np.eye(2) - beta * A) @ x_0 # alternative\n",
        "rho_A = np.max(np.abs(np.real(eigvals(A))))\n",
        "print(f\"p_t = {p_t[0]:.4g}, spectral radius = {rho_A:.4g}, 1/beta = {1/beta:.4g}\")"
      ],
      "id": "f7f9d0b7-a9c4-4a46-bbb8-e28fa7a6a50d"
    },
    {
      "cell_type": "markdown",
      "metadata": {},
      "source": [
        "# Latent Variables\n",
        "\n",
        "## Features, Labels, and Latents\n",
        "\n",
        "-   Data science and ML often use different terminology than economists:\n",
        "    -   **Features** are economists **explanatory or independent\n",
        "        variables**. They have the key source of variation to make\n",
        "        predictions and conduct counterfactuals\n",
        "    -   **Labels** correspond to economists **observables or dependent\n",
        "        variables**\n",
        "    -   **Latent Variables** are **unobserved variables**, typically\n",
        "        sources of heterogeneity or which may drive both the dependent\n",
        "        and independent variables\n",
        "-   Economists will use theory and experience to transform data (i.e.,\n",
        "    what ML people call “feature engineering”) for better explanatory\n",
        "    power or map to theoretical models\n",
        "-   ML refers to methods using only **features** as **unsupervised\n",
        "    learning**. The structure of the underlying data can teach you about\n",
        "    its data generating process\n",
        "-   Key: uncover and interpret latent variables using statistics coupled\n",
        "    with assumptions from economic theory. There is theory beyond all\n",
        "    interpretation\n",
        "\n",
        "## Principle Components and Factor Analysis\n",
        "\n",
        "-   Another application of eigenvalues is dimension reduction, which\n",
        "    simplifies **features** by uncovering **latent** variables.\n",
        "    Unsupervised\n",
        "-   One technique is Principle Components Analysis (PCA), which uncovers\n",
        "    latent variables that capture the primary directions of variation in\n",
        "    the underlying data\n",
        "    -   May allow mapping data into a lower-dimensional, uncorrelated\n",
        "        set of features\n",
        "    -   Uses Singular Value Decomposition (SVD) - a generalization of\n",
        "        eigendecomposition to non-square matrices\n",
        "-   Given a matrix $X \\in \\mathbb{R}^{N \\times M}$, can we find a\n",
        "    lower-dimensional representation $Z \\in \\mathbb{R}^{N \\times L}$ for\n",
        "    $L < M$ that captures the most variation in $X$?\n",
        "-   The goal is to invert the $X$ data to find the $Z$—and provide a\n",
        "    mapping to reduce the dimensionality for future data.\n",
        "    -   One of many methods. Many algorithms in ML and econometrics have\n",
        "        similar goals\n",
        "\n",
        "## Singular Value Decomposition\n",
        "\n",
        "PCA can be interpreted with an\n",
        "[eigendecomposition](https://python.quantecon.org/svd_intro.html#application-principal-components-analysis-pca),\n",
        "but can be more confusing than just using the SVD directly. An SVD for\n",
        "any $X \\in \\mathbb{R}^{N\\times M}$ is:\n",
        "\n",
        "$$\n",
        "X = U \\Sigma V^T\n",
        "$$\n",
        "\n",
        "-   $\\Sigma \\in \\mathbb{R}^{N\\times M}$ where\n",
        "    -   The diagonal elements are called singular values, and there are\n",
        "        zeros everywhere else. If $M < N$ then there $M$ singular values\n",
        "        ($\\sigma_1, \\ldots \\sigma_M$)\n",
        "    -   Those singular values are also the square roots of the\n",
        "        eigenvalues of $X X^T$ (or $X^T X$)\n",
        "    -   The number of non-zero singular values is the rank of the matrix\n",
        "        $X$\n",
        "-   $U\\in\\mathbb{R}^{N\\times N}$ and $V \\in \\mathbb{R}^{M \\times M}$ are\n",
        "    orthogonal matrices\n",
        "    -   $U$ is the set of eigenvectors of $X X^T$ and $V$ is the set of\n",
        "        eigenvectors of $X^T X$\n",
        "-   Many applications of SVD (e.g., least squares, checking rank), in\n",
        "    part because it is especially “numerically stable” (i.e., not\n",
        "    sensitive to the roundoff errors we talked about previously)\n",
        "\n",
        "## Decomposing the Data\n",
        "\n",
        "A key result is that we can decompose the data into a sum of outer\n",
        "products of the eigenvectors and singular values. Assume ordered so that\n",
        "$\\sigma_1 \\geq \\sigma_2 \\geq \\ldots \\geq \\sigma_M$: $$\n",
        "X = U \\Sigma V^T = \\sum_{m=1}^M \\sigma_m u_m v_m^T\n",
        "$$\n",
        "\n",
        "Where here we assumed that the $\\text{rank}(X) \\leq M$ and\n",
        "\n",
        "-   $u_m \\in\\mathbb{R}^N$ is the $m$-th column of $U$ and\n",
        "    $v_m \\in\\mathbb{R}^M$ is the $m$th column of $V$\n",
        "-   So $u_m v_m^T$ is an $N \\times M$ matrix but you can show that it is\n",
        "    rank-1. i.e., you can decompose it into the product of two vectors.\n",
        "-   Intuition: rank $r$ if it can be decomposed into the sum of $r$\n",
        "    rank-1 matrices\n",
        "    -   Alternatively, can interpret rank of an $N \\times M$ matrix is\n",
        "        $3$ if can find a $A \\in \\mathbb{R}^{N \\times 3}$ and\n",
        "        $B \\in \\mathbb{R}^{3 \\times M}$ such that $X = A B$\n",
        "-   Remember: this works for **any** matrix\n",
        "    $X \\in \\mathbb{R}^{N \\times M}$\n",
        "\n",
        "## Dimension Reduction\n",
        "\n",
        "-   Frequently $\\sigma_1 \\gg \\sigma_M$ and the $\\sigma_m$ may decay\n",
        "    quickly, so we can approximate $X$ with fewer terms by truncating\n",
        "    the sum at $L < M$.\n",
        "\n",
        "$$\n",
        "X \\approx \\sum_{m=1}^L \\sigma_m u_m v_m^T\n",
        "$$\n",
        "\n",
        "-   Note that if the data is actually lower-dimensional in a suitable\n",
        "    space (e.g., $\\text{rank}(X) = L < M$) then $\\sigma_m = 0$ for\n",
        "    $L < m \\leq M$, so the truncated sum is exact\n",
        "-   Can prove that if we truncate at $L < M$, this is the best rank $L$\n",
        "    approximation to $X$ according to some formal criteria.\n",
        "    -   Intuitively, finds directions of the data that capture the most\n",
        "        variation in the covariance matrix\n",
        "    -   Can prove it is the solution to the optimization problem to\n",
        "        explain the most variation in the data with the lowest\n",
        "        dimensionality\n",
        "\n",
        "## Creating a Dataset with Latent Factors\n",
        "\n",
        "Create a dataset with two latent factors, the first dominating"
      ],
      "id": "a0a2a775-9e00-438d-a293-fb4a8f2792da"
    },
    {
      "cell_type": "code",
      "execution_count": 14,
      "metadata": {},
      "outputs": [],
      "source": [
        "N = 50 # number of observations\n",
        "L, M = 2, 3 # number of latent and observed factors\n",
        "Z = np.random.randn(N, L) # latent factors\n",
        "F = np.array([[1.0, 0.05], # X_1 = Z_1 + 0.05 Z_2\n",
        "              [2.0, 0.0], # X_2 = 2 Z_1\n",
        "              [3.0, 0.1]]) # X_3 = 3 Z_1 + 0.1 Z_2\n",
        "X = Z @ F.T + 0.1 * np.random.randn(N, M) # added noise"
      ],
      "id": "73f00957-4deb-427f-9a02-117eac55e528"
    },
    {
      "cell_type": "markdown",
      "metadata": {},
      "source": [
        "## PCA Without Dimension Reduction\n",
        "\n",
        "-   See [QuantEcon SVD](https://python.quantecon.org/svd_intro.html) for\n",
        "    coding yourself. We will use the\n",
        "    [sklearn](https://scikit-learn.org/stable/modules/generated/sklearn.decomposition.PCA.html)\n",
        "    package\n",
        "-   The explained variance is the fraction of the variance explained by\n",
        "    each factor"
      ],
      "id": "ba0e79cb-8e42-4895-b44e-d2948636d388"
    },
    {
      "cell_type": "code",
      "execution_count": 15,
      "metadata": {},
      "outputs": [
        {
          "output_type": "stream",
          "name": "stdout",
          "text": [
            "Singular Values (sqrt eigenvalues):\n",
            "[28.808   0.8325  0.7392]\n",
            "Explained Variance (ordered):\n",
            "[0.9985 0.0008 0.0007]"
          ]
        }
      ],
      "source": [
        "pca = PCA(n_components=3)\n",
        "pca.fit(X)\n",
        "with np.printoptions(precision=4, suppress=True, threshold=5):\n",
        "  print(f\"Singular Values (sqrt eigenvalues):\\n{pca.singular_values_}\")\n",
        "  print(f\"Explained Variance (ordered):\\n{pca.explained_variance_ratio_}\")"
      ],
      "id": "47fc6dd8-7cc5-4eb4-bee2-6e7f3e8294a0"
    },
    {
      "cell_type": "markdown",
      "metadata": {},
      "source": [
        "## Dimension Reduction with PCA"
      ],
      "id": "1831d876-396c-4437-8dfc-2b7e26293c7f"
    },
    {
      "cell_type": "code",
      "execution_count": 16,
      "metadata": {},
      "outputs": [
        {
          "output_type": "stream",
          "name": "stdout",
          "text": [
            "Correlation of Z_1 to Z_hat_1 = -0.9995012085704378\n",
            "Correlation of Z_2 to Z_hat_2 = 0.5846619872687514"
          ]
        }
      ],
      "source": [
        "pca = PCA(n_components=2) # one less, and correctly specified\n",
        "Z_hat = pca.fit_transform(X) # transformed by dropping last factor \n",
        "# Scale and sign may not match due to indeterminacy\n",
        "print(f\"Correlation of Z_1 to Z_hat_1 = {np.corrcoef(Z.T, Z_hat.T)[0,2]}\")\n",
        "print(f\"Correlation of Z_2 to Z_hat_2 = {np.corrcoef(Z.T, Z_hat.T)[1,3]}\")"
      ],
      "id": "c4c954b0-b0dd-4cac-88a3-2ce43e5dc86e"
    },
    {
      "cell_type": "markdown",
      "metadata": {},
      "source": [
        "## Interpreting the Results\n",
        "\n",
        "-   The first factor in the decomposition is nearly perfectly (positive\n",
        "    or negatively) correlated with the more important latent factor\n",
        "    -   The sign could have gone either way. The key is the shared\n",
        "        information\n",
        "    -   How could you have known the sign is indeterminate?\n",
        "-   The 2nd factor has a good but not great correlation with the 2nd\n",
        "    latent. Why?\n",
        "-   The variance decomposition that gave a 3rd factor with non-zero\n",
        "    variance\n",
        "    -   In our process, there are only two latent variables. Why didn’t\n",
        "        it figure it out?\n",
        "-   How could you have changed the DGP to make this **less** successful?\n",
        "-   **Warning:** have just scratched the surface to build some\n",
        "    intuition. Many missing details and caveats (e.g., you may want to\n",
        "    rescale your data, make sure everything is de-meaned if implementing\n",
        "    yourself, etc.)\n",
        "\n",
        "## Auto-Encoders and Dimensionality Reduction\n",
        "\n",
        "-   General class of problems which they call auto-encoders in ML/data\n",
        "    science\n",
        "    -   Function $f$, the encoder, maps $X$ to a latent space $Z$, which\n",
        "        may be lower-dimensional\n",
        "    -   Function $g$, the decoder, maps points in the latent space $Z$\n",
        "        back to $X$\n",
        "    -   $\\theta_e$ and $\\theta_d$ are parameters for $f$ and $g$ which\n",
        "        we are trying to find\n",
        "-   Then the goal is to find the $\\theta_e$ and $\\theta_d$ parameters\n",
        "    for our encoder, $f$, and decoder, $g$, where for as many $X$ as\n",
        "    possible we have\n",
        "\n",
        "$$\n",
        "g(f(x; \\theta_e); \\theta_d) \\approx x\n",
        "$$\n",
        "\n",
        "-   If $z = f(x;\\theta_e)$ may be lower-dimensional, but may be useful\n",
        "    regardless\n",
        "-   In more advanced machine learning examples, intuition seems to come\n",
        "    up frequently. Related to embeddings, which come up with NLP,\n",
        "    networks, etc.\n",
        "\n",
        "## PCA as a Linear Auto-Encoder\n",
        "\n",
        "$$\n",
        "\\begin{aligned}\n",
        "\\min_{\\theta_e, \\theta_d} \\mathbb{E}&||g(f(x; \\theta_e); \\theta_d) - x||_2^2,\\quad \\text{If we had distribution for $x$}\\\\\n",
        "\\min_{\\theta_e, \\theta_d} \\frac{1}{N} \\sum_{n=1}^N &||g(f(x_n; \\theta_e); \\theta_d) - x_n||_2^2,\\quad \\text{Using data as empirical distribution}\n",
        "\\end{aligned}\n",
        "$$\n",
        "\n",
        "PCA is a linear encoder and decoder, where $f(x) = W^T x$ and\n",
        "$g(z) = W z$ where $W \\in \\mathbb{R}^{M \\times L}$. If\n",
        "$\\hat{x} \\approx W W^T x$, “reconstruction error” is\n",
        "$||\\hat{x} - x||_2^2$.\n",
        "\n",
        "$$\n",
        "\\min_{W} \\frac{1}{N} \\sum_{n=1}^N ||W \\overbrace{W^T x_n}^{z_n = f(x_n;W)} - x_n||_2^2,\\quad \\text{with } W^T W = I\n",
        "$$\n",
        "\n",
        "Can show the solution gives equivalent to PCA! For fixed $L$ latent\n",
        "space size, $W$ are the first $L$ columns of $V$ from the SVD (sorted by\n",
        "size of singular values)\n",
        "\n",
        "# Discrete Latent Variables\n",
        "\n",
        "## Clustering and Discrete Latent Variables\n",
        "\n",
        "-   PCA was a way to uncover continuous latent variables or find\n",
        "    low-dimensional continuous approximations\n",
        "-   But latent variables may be discrete (e.g., types of people, firms)\n",
        "-   Hidden discrete variables require assigning observations to groups\n",
        "-   Clustering lets you take a set of observations with (potentially)\n",
        "    variables (i.e., features) and try to assign a discrete latent\n",
        "    variable to each observation\n",
        "    -   Sometimes, we know the number of groups from theory, usually, we\n",
        "        do not\n",
        "    -   While some are statistical and probabilistic, most methods\n",
        "        assign a single latent type rather than a distribution\n",
        "    -   Choosing the number of groups to assign to is a challenge that\n",
        "        requires theory and regularization - which we will avoid here\n",
        "    -   Instead, just as with PCA we will choose the number of groups\n",
        "        ad-hoc rather than in a disciplined way\n",
        "\n",
        "## Partitioning Sets\n",
        "\n",
        "-   Let $X\\in\\mathbb{R}^{N\\times M}$ with\n",
        "    $x_1,\\ldots x_N\\in\\mathbb{R}^M$ the individual observations\n",
        "-   Assume that each $x_n$ has a latent discrete $k \\in \\{1, \\ldots K\\}$\n",
        "    then we can assign each observation to one group\n",
        "    -   $\\mathbf{S} \\equiv \\{S_1, \\ldots, S_K\\}$ where each\n",
        "        $n=1,\\ldots N$ is in exactly one $S_k$ (i.e. a partition)\n",
        "-   The goal is to find the partition which is the most likely to assign\n",
        "    each $x_n$ the correct latent variable $k$\n",
        "-   An alternative interpretation is to think of this as a\n",
        "    dimension-reduction technique that reduces complicated data into a\n",
        "    low-dimensional discrete variable\n",
        "-   In economics, we will sometimes cluster on some observations to\n",
        "    reduce the dimension, then leave others continuous\n",
        "\n",
        "## k-means Clustering\n",
        "\n",
        "-   If theory suggests that $n\\in S_k$ with similar latent variables\n",
        "    should have similar $x_n$\n",
        "\n",
        "    -   Group observations that are close or similar to each other\n",
        "    -   As always in linear algebra, close suggests using a norm. The\n",
        "        Euclidean norm in the $M$ dimensional feature space is a good\n",
        "        baseline\n",
        "\n",
        "-   The objective of k-means is to choose the partition $\\mathbf{S}$\n",
        "    which minimizes the norm between observations within each group\n",
        "    (normalized by group size $|S_k|$):\n",
        "\n",
        "    $$\n",
        "    \\min_{\\mathbf{S}} \\sum_{k=1}^K \\frac{1}{|S_k|}\\sum_{x_n, x_{n'} \\in S_k} ||x_n - x_{n'}||_2^2\n",
        "    $$\n",
        "\n",
        "-   Using standard Euclidean norm between two elements in $S_k$ $$\n",
        "    ||x_n - x_{n'}||_2^2 = \\sum_{m=1}^M (x_{nm} - x_{n'm})^2\n",
        "    $$\n",
        "\n",
        "## k-means Objective Function\n",
        "\n",
        "-   Can prove that the previous objective is equivalent to minimizing\n",
        "    the sum of the squared distances from the group $k$’s mean\n",
        "\n",
        "    $$\n",
        "    \\min_{\\mathbf{S}} \\sum_{k=1}^K \\sum_{n \\in S_k} ||x_n - \\bar{x}_k||_2^2\n",
        "    $$\n",
        "\n",
        "-   Where the mean of group $k$ is standard, and across all $m$ features\n",
        "\n",
        "    $$\n",
        "    \\bar{x}_k \\equiv \\frac{1}{|S_k|}\\sum_{x_n \\in S_k} x_n\n",
        "    $$\n",
        "\n",
        "-   Careful with using wildly different scales (i.e. $\\bar{x}_k$ may be\n",
        "    dominated by one feature)\n",
        "\n",
        "## Generating Data with Latent Groups\n",
        "\n",
        "Generate data with 2 features and 2 latent groups and see how k-means\n",
        "does"
      ],
      "id": "9b8886d2-dfc1-4ddf-942f-94348c2cdbe5"
    },
    {
      "cell_type": "code",
      "execution_count": 17,
      "metadata": {},
      "outputs": [],
      "source": [
        "mu_1 = np.array([0.0, 0.0]) # mean of k=1\n",
        "mu_2 = np.array([1.0, 1.0]) # mean of k=2\n",
        "sigma = np.array([[0.2, 0], [0, 0.2]]) # use same variance\n",
        "N = 100 # observations\n",
        "X_1 = np.random.multivariate_normal(mu_1, sigma, N)\n",
        "X_2 = np.random.multivariate_normal(mu_2, sigma, N)\n",
        "df_1 = pd.DataFrame({\"f1\": X_1[:, 0], \"f2\": X_1[:, 1], \"k\": 1})\n",
        "df_2 = pd.DataFrame({\"f1\": X_2[:, 0], \"f2\": X_2[:, 1], \"k\": 2})\n",
        "df = pd.concat([df_1, df_2], ignore_index=True)"
      ],
      "id": "8542fd1a-379f-47fd-9b04-289c43095851"
    },
    {
      "cell_type": "markdown",
      "metadata": {},
      "source": [
        "## Plotting Code with Seaborn"
      ],
      "id": "7ddf3606-d881-4ac8-aadf-da6dc9319470"
    },
    {
      "cell_type": "code",
      "execution_count": 18,
      "metadata": {},
      "outputs": [],
      "source": [
        "fig, ax = plt.subplots(figsize=(6, 4))\n",
        "sns.scatterplot(data=df, x=\"f1\", y=\"f2\", hue=\"k\", ax=ax)\n",
        "ax.set(xlabel=\"Feature 1\", ylabel=\"Feature 2\", title=\"Latent Groups\")\n",
        "plt.show()"
      ],
      "id": "dcd64166-a40d-47c6-bc9b-0fe7a094900f"
    },
    {
      "cell_type": "markdown",
      "metadata": {},
      "source": [
        "## Plot of Features and Latents"
      ],
      "id": "c023fb1f-b848-44b2-8b06-6e779eeacd15"
    },
    {
      "cell_type": "code",
      "execution_count": 19,
      "metadata": {},
      "outputs": [
        {
          "output_type": "display_data",
          "metadata": {},
          "data": {
            "image/png": "[encoded data removed]"
          }
        }
      ],
      "source": [
        "fig, ax = plt.subplots(figsize=(6, 4))\n",
        "sns.scatterplot(data=df, x=\"f1\", y=\"f2\", hue=\"k\", ax=ax)\n",
        "ax.set(xlabel=\"Feature 1\", ylabel=\"Feature 2\", title=\"Latent Groups\")\n",
        "plt.show()"
      ],
      "id": "a262ea4b-388a-4f5e-b60b-b191ab6bfe6a"
    },
    {
      "cell_type": "markdown",
      "metadata": {},
      "source": [
        "## k-means to Recover the Latent Groups\n",
        "\n",
        "-   Run k-means with 2 clusters and check the results\n",
        "-   If correlation is close to 1 then succesfully recovered the latent\n",
        "    groups\n",
        "-   If the correlation is close to -1 then it was succesful. The latent\n",
        "    groups $\\hat{k}$ numbers are ordered arbitrarily, just as $k$ was"
      ],
      "id": "70ed6e53-4747-4bc8-8c97-eeb0a203afff"
    },
    {
      "cell_type": "code",
      "execution_count": 20,
      "metadata": {},
      "outputs": [
        {
          "output_type": "stream",
          "name": "stdout",
          "text": [
            "Correlation between k and k_hat:0.92"
          ]
        }
      ],
      "source": [
        "kmeans = KMeans(n_clusters=2, random_state=0)\n",
        "k_hat = kmeans.fit_predict(df[[\"f1\", \"f2\"]])\n",
        "df[\"k_hat\"] = k_hat + 1\n",
        "corr = df[\"k\"].corr(df[\"k_hat\"])\n",
        "print(f\"Correlation between k and k_hat:{corr:.2f}\")"
      ],
      "id": "96aa6f48-2cf4-4bd2-8c1d-ef66dda0ecce"
    },
    {
      "cell_type": "markdown",
      "metadata": {},
      "source": [
        "## Confusion Matrix"
      ],
      "id": "03afa5d3-7eed-4804-aaaa-259906f52852"
    },
    {
      "cell_type": "code",
      "execution_count": 21,
      "metadata": {},
      "outputs": [],
      "source": [
        "from sklearn.metrics import confusion_matrix\n",
        "\n",
        "# compute confusion matrix\n",
        "cm = confusion_matrix(df[\"k\"], df[\"k_hat\"])\n",
        "\n",
        "# plot confusion matrix\n",
        "sns.heatmap(cm, annot=True, cmap='Blues')\n",
        "plt.xlabel('Predicted k')\n",
        "plt.ylabel('True k')\n",
        "plt.title('Confusion Matrix for K-Means Clustering')\n",
        "plt.show()"
      ],
      "id": "9997b48f-f53a-4426-9932-c083b4386b42"
    },
    {
      "cell_type": "markdown",
      "metadata": {},
      "source": [
        "## Confusion Matrix"
      ],
      "id": "5c79a91d-51d2-410a-a126-4ec9ae4e1e53"
    },
    {
      "cell_type": "code",
      "execution_count": 22,
      "metadata": {},
      "outputs": [
        {
          "output_type": "display_data",
          "metadata": {},
          "data": {
            "image/png": "[encoded data removed]"
          }
        }
      ],
      "source": [
        "from sklearn.metrics import confusion_matrix\n",
        "\n",
        "# compute confusion matrix\n",
        "cm = confusion_matrix(df[\"k\"], df[\"k_hat\"])\n",
        "\n",
        "# plot confusion matrix\n",
        "sns.heatmap(cm, annot=True, cmap='Blues')\n",
        "plt.xlabel('Predicted Labels')\n",
        "plt.ylabel('True Labels')\n",
        "plt.title('Confusion Matrix for K-Means Clustering')\n",
        "plt.show()"
      ],
      "id": "6bff47da-ac59-45d1-b2d8-b3c14d1ca57d"
    },
    {
      "cell_type": "markdown",
      "metadata": {},
      "source": [
        "## Potentially Swap $\\hat{k}$ and Compare\n",
        "\n",
        "Label ordering arbitary, so “confusion matrix might require reordering\n",
        "to compare"
      ],
      "id": "2327437f-8c67-4d2f-b16e-712f5268fd92"
    },
    {
      "cell_type": "code",
      "execution_count": 23,
      "metadata": {},
      "outputs": [],
      "source": [
        "if df['k'].corr(df['k_hat']) < 0.5:\n",
        "  df['k_hat'] = df['k_hat'].replace({1: 2, 2: 1})\n",
        "  print(f\"Correlation now {df['k'].corr(df['k_hat'])}\")\n",
        "\n",
        "df['Cluster'] = df.apply(lambda x: rf\"$k=\\hat{{k}}={{{x['k']:.0g}}}$\"\n",
        "                         if x['k'] == x['k_hat'] else r'$k \\neq \\hat{k}$',\n",
        "                         axis=1)"
      ],
      "id": "8ca1a8ff-4569-497a-a786-c5a29be449a6"
    },
    {
      "cell_type": "markdown",
      "metadata": {},
      "source": [
        "## Plotting the Uncovered Latent Groups"
      ],
      "id": "52da8669-1ee2-44e2-9a34-e2145fa79ca3"
    },
    {
      "cell_type": "code",
      "execution_count": 24,
      "metadata": {},
      "outputs": [],
      "source": [
        "fig, ax = plt.subplots(figsize=(6, 4))\n",
        "sns.scatterplot(data=df, x=\"f1\", y=\"f2\", hue=\"Cluster\", ax=ax)\n",
        "ax.set(xlabel=\"Feature 1\", ylabel=\"Feature 2\",\\\n",
        "       title=\"k-means Recovered Groups\")\n",
        "plt.show()"
      ],
      "id": "0fd2c7d4-1b44-44dd-8669-cb8e6c1cca5e"
    },
    {
      "cell_type": "markdown",
      "metadata": {},
      "source": [
        "## Plotting the Uncovered Latent Groups"
      ],
      "id": "df3867b9-eae2-480e-8109-1d47b5a1ff51"
    },
    {
      "cell_type": "code",
      "execution_count": 25,
      "metadata": {},
      "outputs": [
        {
          "output_type": "display_data",
          "metadata": {},
          "data": {
            "image/png": "[encoded data removed]"
          }
        }
      ],
      "source": [
        "fig, ax = plt.subplots(figsize=(6, 4))\n",
        "sns.scatterplot(data=df, x=\"f1\", y=\"f2\", hue=\"Cluster\", ax=ax)\n",
        "\n",
        "ax.set(xlabel=\"Feature 1\", ylabel=\"Feature 2\", title=\"k-means Recovered Groups\")\n",
        "plt.show()"
      ],
      "id": "0fc1c201-3f1a-410e-a6f7-0e07f14062f0"
    },
    {
      "cell_type": "markdown",
      "metadata": {},
      "source": [
        "# (Optional) Matrix Conditioning and Stability\n",
        "\n",
        "## Matrix Conditioning\n",
        "\n",
        "-   Poorly conditioned matrices can lead to inaccurate or wrong\n",
        "    solutions\n",
        "-   Tends to happen when matrices are close to singular or when they\n",
        "    have very different scales - so there will be times when you need to\n",
        "    rescale your problems"
      ],
      "id": "55d89a10-5629-4b01-919f-c6763f18f930"
    },
    {
      "cell_type": "code",
      "execution_count": 26,
      "metadata": {},
      "outputs": [
        {
          "output_type": "stream",
          "name": "stdout",
          "text": [
            "A =\n",
            "[[1.        1.       ]\n",
            " [1.0000001 1.       ]]\n",
            "A^-1 =\n",
            "[[-9999999.99336215  9999999.99336215]\n",
            " [10000000.99336215 -9999999.99336215]]"
          ]
        }
      ],
      "source": [
        "eps = 1e-7\n",
        "A = np.array([[1, 1], [1 + eps, 1]])\n",
        "print(f\"A =\\n{A}\")\n",
        "print(f\"A^{-1} =\\n{inv(A)}\")"
      ],
      "id": "3392e53c-0364-4ff5-a0e7-38d4da8678c6"
    },
    {
      "cell_type": "markdown",
      "metadata": {},
      "source": [
        "## Condition Numbers of Matrices\n",
        "\n",
        "-   $\\det(A) \\approx 0$ may say it is “almost” singular, but it is not\n",
        "    scale-invariant\n",
        "-   $\\text{cond}(A) \\equiv ||A|| \\cdot ||A^{-1}||$ where $||\\cdot||$ is\n",
        "    the matrix norm - expensive to calculate in practice. Connected to\n",
        "    eigenvalues $\\text{cond}(A) = |\\frac{\\lambda_{max}}{\\lambda_{min}}|$\n",
        "-   Scale free measure of numerical issues for a variety of matrix\n",
        "    operations\n",
        "-   Intuition: if $\\text{cond}(A) = K$, then $b \\to b + \\nabla b$ change\n",
        "    in $b$ amplifies to a $x \\to x + K \\nabla b$ error when solving\n",
        "    $A x = b$.\n",
        "-   See [Matlab Docs on\n",
        "    inv](https://www.mathworks.com/help/matlab/ref/inv.html#bu6sfy8-1)\n",
        "    for example, where `inv` is a bad idea due to poor conditioning"
      ],
      "id": "4f2e536a-fb31-4ce0-8a59-cb31eb7201a1"
    },
    {
      "cell_type": "code",
      "execution_count": 27,
      "metadata": {},
      "outputs": [
        {
          "output_type": "stream",
          "name": "stdout",
          "text": [
            "condition(I) = 1.0\n",
            "condition(A) = 40000001.962777555, condition(A^(-1)) = 40000002.02779216"
          ]
        }
      ],
      "source": [
        "print(f\"condition(I) = {cond(np.eye(2))}\")\n",
        "print(f\"condition(A) = {cond(A)}, condition(A^(-1)) = {cond(inv(A))}\")"
      ],
      "id": "04df43dd-ab62-416c-b892-e85726db7ed9"
    },
    {
      "cell_type": "markdown",
      "metadata": {},
      "source": [
        "## Example with Interpolation\n",
        "\n",
        "-   Consider fitting data $x\\in\\mathbb{R}^{N+1}$ and\n",
        "    $y\\in\\mathbb{R}^{N+1}$ with an $N$-degree polynomial\n",
        "-   That is, find $c \\in \\mathbb{R}^{N+1}$ such that\n",
        "\n",
        "$$\n",
        "\\begin{aligned}\n",
        "c_0 + c_1 x_1 + c_2 x_1^2 + \\ldots + c_N x_1^N &= y_1\\\\\n",
        "\\dots &= \\dots\\\\\n",
        "c_0 + c_1 x_N + c_2 x_N^2 + \\ldots + c_N x_N^N &= y_N\\\\\n",
        "\\end{aligned}\n",
        "$$\n",
        "\n",
        "-   Which we can then use as $P(x) = \\sum_{n=0}^N c_n x^n$ to\n",
        "    interpolate between the points\n",
        "\n",
        "## Writing as a Linear System\n",
        "\n",
        "-   Define a matrix of all of the powers of the $x$ values\n",
        "\n",
        "$$\n",
        "A \\equiv \\begin{bmatrix}\n",
        "1 & x_0 & x_0^2 & \\ldots & x_0^N\\\\\n",
        "\\vdots & \\vdots &\\vdots & \\vdots & \\vdots\\\\\n",
        "1 & x_N & x_N^2 & \\ldots & x_N^N\n",
        "\\end{bmatrix}\n",
        "$$\n",
        "\n",
        "-   Then solve for $c$ as the solution to,\n",
        "\n",
        "$$\n",
        "A c = y\n",
        "$$\n",
        "\n",
        "-   Which we can solve using our tools. As long as $x_n$ are unique, it\n",
        "    is $A$ is invertible\n",
        "-   Let’s look at the numerical error here from the interpolation using\n",
        "    the inf-norm, i.e., $||x||_{\\infty} = \\max_n |x_n|$\n",
        "\n",
        "## Solving an Example"
      ],
      "id": "d6a5a81e-3f76-4f44-9fa4-554b7782d41b"
    },
    {
      "cell_type": "code",
      "execution_count": 28,
      "metadata": {},
      "outputs": [
        {
          "output_type": "stream",
          "name": "stdout",
          "text": [
            "error = 1.574562702444382e-11, error using inv(A) = 1.1932570487260818e-09\n",
            "cond(A) = 564652.3214000753"
          ]
        }
      ],
      "source": [
        "N = 5\n",
        "x = np.linspace(0.0, 10.0, N + 1)\n",
        "y = np.exp(x)  # example function to interpolate\n",
        "A = np.array([[x_i**n for n in range(N + 1)] for x_i in x])  # or np.vander\n",
        "c = solve(A, y)\n",
        "c_inv = inv(A) @ y\n",
        "print(f\"error = {norm(A @ c - y, np.inf)}, \\\n",
        "error using inv(A) = {norm(A @ c_inv - y, np.inf)}\")\n",
        "print(f\"cond(A) = {cond(A)}\")"
      ],
      "id": "e2cbca8e-285f-4c80-9224-4c9c99e1c0f7"
    },
    {
      "cell_type": "markdown",
      "metadata": {},
      "source": [
        "## Things Getting Poorly Conditioned Quickly"
      ],
      "id": "002b632b-8b9b-4311-a97f-b68c792f5679"
    },
    {
      "cell_type": "code",
      "execution_count": 29,
      "metadata": {},
      "outputs": [
        {
          "output_type": "stream",
          "name": "stdout",
          "text": [
            "error = 5.334186425898224e-10, error using inv(A) = 6.22717197984457e-06\n",
            "cond(A) = 4462824600234.486"
          ]
        }
      ],
      "source": [
        "N = 10\n",
        "x = np.linspace(0.0, 10.0, N + 1)\n",
        "y = np.exp(x)  # example function to interpolate\n",
        "A = np.array([[x_i**n for n in range(N + 1)] for x_i in x])  # or np.vander\n",
        "c = solve(A, y)\n",
        "c_inv = inv(A) @ y # Solving with inv(A) instead of solve(A, y)\n",
        "print(f\"error = {norm(A @ c - y, np.inf)}, \\\n",
        "error using inv(A) = {norm(A @ c_inv - y, np.inf)}\")\n",
        "print(f\"cond(A) = {cond(A)}\")"
      ],
      "id": "eba105da-eeba-4f79-a6f4-4c683e420580"
    },
    {
      "cell_type": "markdown",
      "metadata": {},
      "source": [
        "## Matrix Inverses Fail Completely for $N = 20$"
      ],
      "id": "31d2607c-a49f-455e-945b-b42a55964fd1"
    },
    {
      "cell_type": "code",
      "execution_count": 30,
      "metadata": {},
      "outputs": [
        {
          "output_type": "stream",
          "name": "stdout",
          "text": [
            "error = 6.784830475226045e-10, error using inv(A) = 31732.823760853855\n",
            "cond(A) = 1.697e+24"
          ]
        },
        {
          "output_type": "stream",
          "name": "stderr",
          "text": [
            "C:\\Users\\jesse\\AppData\\Local\\Temp\\ipykernel_29436\\1043797195.py:5: LinAlgWarning:\n",
            "\n",
            "Ill-conditioned matrix (rcond=6.45105e-28): result may not be accurate.\n"
          ]
        }
      ],
      "source": [
        "N = 20\n",
        "x = np.linspace(0.0, 10.0, N + 1)\n",
        "y = np.exp(x)  # example function to interpolate\n",
        "A = np.array([[x_i**n for n in range(N + 1)] for x_i in x])  # or np.vander\n",
        "c = solve(A, y)\n",
        "c_inv = inv(A) @ y # Solving with inv(A) instead of solve(A, y)\n",
        "print(f\"error = {norm(A @ c - y, np.inf)}, \\\n",
        "error using inv(A) = {norm(A @ c_inv - y, np.inf)}\")\n",
        "print(f\"cond(A) = {cond(A):.4g}\")"
      ],
      "id": "99af5427-d80b-4a70-a42e-5e5787d821d8"
    },
    {
      "cell_type": "markdown",
      "metadata": {},
      "source": [
        "## Moral of this Story\n",
        "\n",
        "-   Use `solve`, which is faster and can often solve ill-conditioned\n",
        "    problems. Rarely use `inv`, and only when you know the problem is\n",
        "    well-conditioned\n",
        "-   Check conditioning of matrices when doing numerical work as an\n",
        "    occasional diagnostic, as it is a good indicator of potential\n",
        "    problems and collinearity\n",
        "-   For approximation, never use a monomial basis for polynomials\n",
        "    -   Prefer polynomials like Chebyshev, which are designed to be as\n",
        "        orthogonal as possible"
      ],
      "id": "57fe725c-2ffe-4aca-bdda-8953ad99ffbc"
    },
    {
      "cell_type": "code",
      "execution_count": 31,
      "metadata": {},
      "outputs": [
        {
          "output_type": "stream",
          "name": "stdout",
          "text": [
            "cond(A) = 3.64e+09, cond(A_monimial) = 2.926e+18"
          ]
        }
      ],
      "source": [
        "N = 40\n",
        "x = np.linspace(-1, 1, N+1)  # Or any other range of x values\n",
        "A = np.array([[np.polynomial.Chebyshev.basis(n)(x_i) for n in range(N+1)] for x_i in x])\n",
        "A_monomial = np.array([[x_i**n for n in range(N + 1)] for x_i in x])  # or np.vander\n",
        "print(f\"cond(A) = {cond(A):.4g}, cond(A_monimial) = {cond(A_monomial):.4g}\")"
      ],
      "id": "e9e54ac0-93db-4ff1-a6bb-74d69826de7b"
    },
    {
      "cell_type": "markdown",
      "metadata": {},
      "source": [
        "# (Optional) Factors within a Porfolio Model\n",
        "\n",
        "## A Portfolio Example\n",
        "\n",
        "-   Two assets pay dividends\n",
        "    $d_t \\equiv \\begin{bmatrix} d_{1t} & d_{2t} \\end{bmatrix}^T$\n",
        "    following $d_{t+1} = A\\, d_t$ from $d_0$\n",
        "-   Porfolio has $G \\equiv \\begin{bmatrix} G_1 & G_2 \\end{bmatrix}$\n",
        "    shares of each asset and you discount at rate $\\beta$"
      ],
      "id": "0f543543-f998-476e-afd8-3eb70182996a"
    },
    {
      "cell_type": "code",
      "execution_count": 32,
      "metadata": {},
      "outputs": [
        {
          "output_type": "stream",
          "name": "stdout",
          "text": [
            "Portfolio value at t=0 is 1424.5, total dividends at time 10 is 36.955"
          ]
        }
      ],
      "source": [
        "A = np.array([[0.6619469, 0.49646018],[0.5840708, 0.4380531]])\n",
        "G = np.array([[10.0, 4.0]])       \n",
        "d_0 = np.array([1.0, 1.0])\n",
        "T, beta = 10, 0.9\n",
        "p_0 = G @ solve(np.eye(2) - beta * A, d_0)\n",
        "d = simulate(A, d_0, T)\n",
        "y = G @ d # total dividends from portfolio\n",
        "print(f\"Portfolio value at t=0 is {p_0[0]:.5g}, total dividends at time {T} is {y[0,T]:.5g}\")"
      ],
      "id": "61ab658f-747c-4620-ad88-a86a44f31270"
    },
    {
      "cell_type": "markdown",
      "metadata": {},
      "source": [
        "## Dividends Seem to Grow at a Similar Rate?"
      ],
      "id": "895507f4-2820-46ee-a7eb-b3551ccf85f3"
    },
    {
      "cell_type": "code",
      "execution_count": 33,
      "metadata": {},
      "outputs": [
        {
          "output_type": "display_data",
          "metadata": {},
          "data": {
            "image/png": "[encoded data removed]"
          }
        }
      ],
      "source": [
        "fig, ax = plt.subplots(figsize=(6, 4))\n",
        "ax.plot(range(T+1), d.T, label=[r\"$d_{1t}$\", r\"$d_{2t}$\"])\n",
        "ax.set(xlabel=\"t\", title=\"Dividend Simulation\")\n",
        "ax.legend()\n",
        "plt.show()"
      ],
      "id": "793ceab6-9054-46f2-a9b7-7ef23bffe303"
    },
    {
      "cell_type": "markdown",
      "metadata": {},
      "source": [
        "## Digging Deeper\n",
        "\n",
        "-   Let’s do an eigendecomposition to analyze the factors"
      ],
      "id": "148a3fab-cb44-40d8-ab35-3d049eeee49e"
    },
    {
      "cell_type": "code",
      "execution_count": 34,
      "metadata": {},
      "outputs": [
        {
          "output_type": "stream",
          "name": "stdout",
          "text": [
            "[ 1.10000000e+00 -2.65486733e-09]"
          ]
        }
      ],
      "source": [
        "Lambda, Q = eig(A)\n",
        "print(np.real(Lambda))"
      ],
      "id": "8cae2205-2df4-4bf8-bb0b-40f80335ee21"
    },
    {
      "cell_type": "markdown",
      "metadata": {},
      "source": [
        "-   The first eigenvector is 1.1, but the second is very close to zero!\n",
        "    -   (In fact, I rigged it to be zero by constructing from a\n",
        "        $\\Lambda$, so this is all numerical copy/paste errors)\n",
        "-   Suggests that maybe only one latent factor driving both $d_{1t}$ and\n",
        "    $d_{2t}$?\n",
        "-   Of course, you may have noticed that the columns in the matrix\n",
        "    looked collinear, which was another clue.\n",
        "\n",
        "## Evolution Matrix is Very Simple with $\\lambda_2 = 0$\n",
        "\n",
        "If we stack columns $Q \\equiv \\begin {bmatrix} q_1 & q_2 \\end{bmatrix}$\n",
        "then, $$\n",
        "A = Q \\Lambda Q^{-1} = Q \\begin{bmatrix} \\lambda_1 & 0 \\\\ 0 & 0 \\end{bmatrix} Q^{-1} = \\lambda_1 q_1  q_1^{-1}\n",
        "$$"
      ],
      "id": "34989764-11ad-4e4b-9a7f-bc1ed0655e2e"
    },
    {
      "cell_type": "code",
      "execution_count": 35,
      "metadata": {},
      "outputs": [
        {
          "output_type": "display_data",
          "metadata": {},
          "data": {
            "text/plain": [
              "2.663274500543771e-09"
            ]
          }
        }
      ],
      "source": [
        "lambda_1 = np.real(Lambda[0])\n",
        "q_1 = np.reshape(Q[:,0], (2,1))\n",
        "q_1_inv = np.reshape(inv(Q)[0,:], (1,2))\n",
        "norm(A - lambda_1 * q_1 @ q_1_inv) # pretty close to zero!"
      ],
      "id": "9da50bf7-cbe1-465a-9cbc-b5eee3170232"
    },
    {
      "cell_type": "markdown",
      "metadata": {},
      "source": [
        "## Transforming to the Latent State\n",
        "\n",
        "-   Recall: $A = Q \\Lambda Q^{-1}$ can be interpreted as:\n",
        "    -   Transformation to latent space, scaling, transform back\n",
        "-   We can demonstrate this in our example:\n",
        "    -   Transforming $d_0$ to $\\ell_0$ using $q_1^{-1}$\n",
        "    -   Evolving $\\ell_t$ from $\\ell_0$ with\n",
        "        $\\ell_{t+1} = \\lambda_1 \\ell_t$, or\n",
        "        $\\ell_t = \\lambda_1^t \\ell_0$\n",
        "    -   Transforming back with $q_1$\n",
        "    -   Checking if it aligns with the $d_t$\n",
        "\n",
        "## Implementation"
      ],
      "id": "72442b32-ccfd-4333-b8a4-97b49329a7dc"
    },
    {
      "cell_type": "code",
      "execution_count": 36,
      "metadata": {},
      "outputs": [
        {
          "output_type": "stream",
          "name": "stdout",
          "text": [
            "norm = 2.3494410875961204e-10"
          ]
        }
      ],
      "source": [
        "l_0 = lambda_1 * q_1_inv @ d_0 # latent space\n",
        "l = l_0 * np.power(lambda_1, np.arange(0, T)) # powers\n",
        "d_hat = q_1 * l # back to original space\n",
        "# Missing d_0 since doing A * d_0 iterations\n",
        "print(f\"norm = {norm(d[:,1:] - d_hat)}\")\n",
        "y_hat = G @ d_hat"
      ],
      "id": "91466031-e478-4fcd-b435-e215d051febb"
    },
    {
      "cell_type": "markdown",
      "metadata": {},
      "source": [
        "Let’s see if these line up perfectly\n",
        "\n",
        "## Total Dividends and the Latent Variable"
      ],
      "id": "608164ba-e5a1-444a-99f4-24e867046b3d"
    },
    {
      "cell_type": "code",
      "execution_count": 37,
      "metadata": {},
      "outputs": [
        {
          "output_type": "display_data",
          "metadata": {},
          "data": {
            "image/png": "[encoded data removed]"
          }
        }
      ],
      "source": [
        "fig, ax = plt.subplots(figsize=(6, 4))\n",
        "data = np.vstack((y_hat / y_hat[:,0], l / l[0]))\n",
        "ax.plot(range(1, T+1), data.T, label=[r\"$\\frac{y_t}{y_1}$\", r\"$\\frac{\\ell_t}{\\ell_1}$\"])\n",
        "ax.set(xlabel=\"t\", title=\"Latents vs. Total Dividends\")\n",
        "ax.legend()\n",
        "plt.show()"
      ],
      "id": "940911db-41f8-465c-8b14-cf03eb82ee0c"
    }
  ],
  "nbformat": 4,
  "nbformat_minor": 5,
  "metadata": {
    "kernelspec": {
      "name": "python3",
      "display_name": "Python 3 (ipykernel)",
      "language": "python"
    },
    "language_info": {
      "name": "python",
      "codemirror_mode": {
        "name": "ipython",
        "version": "3"
      },
      "file_extension": ".py",
      "mimetype": "text/x-python",
      "nbconvert_exporter": "python",
      "pygments_lexer": "ipython3",
      "version": "3.9.12"
    }
  }
}