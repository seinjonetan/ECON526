{
  "cells": [
    {
      "cell_type": "markdown",
      "metadata": {},
      "source": [
        "# ECON526: Quantitative Economics with Data Science Applications\n",
        "\n",
        "Introduction to Causality\n",
        "\n",
        "Jesse Perla (University of British Columbia)  \n",
        "Phil Solimine (University of British Columbia)\n",
        "\n",
        "# Overview\n",
        "\n",
        "## Summary\n",
        "\n",
        "-   Introduction and motivation for causal inference and randomization\n",
        "\n",
        "-   We will introduce the concepts of treatment effects, potential\n",
        "    outcomes, and the fundamental problem of causal inference\n",
        "\n",
        "-   Material includes much adapted from [Causal Inference for the Brave\n",
        "    and True: Introduction to\n",
        "    Causality](https://matheusfacure.github.io/python-causality-handbook/01-Introduction-To-Causality.html)\n",
        "\n",
        "-   Using the following packages and definitions"
      ],
      "id": "83ce0ddb-f576-4ffb-bdc0-09426264d326"
    },
    {
      "cell_type": "code",
      "execution_count": 2,
      "metadata": {},
      "outputs": [],
      "source": [
        "import pandas as pd\n",
        "import numpy as np\n",
        "from scipy.special import expit\n",
        "import seaborn as sns\n",
        "from matplotlib import pyplot as plt\n",
        "from matplotlib import style"
      ],
      "id": "9f93ca55"
    },
    {
      "cell_type": "markdown",
      "metadata": {},
      "source": [
        "# Introduction\n",
        "\n",
        "## Prediction and Inference\n",
        "\n",
        "-   Machine learning is often criticized as being only about\n",
        "    “prediction” and sometimes “inference”\n",
        "    -   This isn’t quite true, but it provides a good starting point to\n",
        "        ask what prediction really means\n",
        "-   “Inference” is used in different ways within ML and datascience\n",
        "    -   Sometimes the “point estimate” of some $\\hat{f}(X)$\n",
        "        approximation even if we think $y = f(X) + \\epsilon$ is the true\n",
        "        model\n",
        "    -   Other times means the entire distribution of $y$ given $X$\n",
        "        (e.g., Bayesian inference) or some approximation around the mean\n",
        "        with normal covariance (confidence intervals)\n",
        "-   But prefer thinking in probabilities. If there was some true\n",
        "    $f(\\cdot)$ function,\n",
        "    -   Take some $X_1$ and $X_2$ and want to find the distribution\n",
        "        $y \\sim \\mathbb{P}(f(X_1, X_2)\\,|\\,X_2)$\n",
        "\n",
        "## Forecasts and Prediction\n",
        "\n",
        "-   The key becomes the distribution itself and what you can and can’t\n",
        "    condition on. e.g. permissable $X_2$ values\n",
        "-   From this perspective, prediction is just an unconditional\n",
        "    evaluation of the probability distribution, maybe the mean, a sample\n",
        "    from it, or with confidence intervals - and not really special\n",
        "    -   The question is whether you have the right joint distribution!\n",
        "-   Forecasts typically just condition on the past observations, but\n",
        "    could condition on future events\n",
        "    -   i.e., how might GDP grow if a tax cut is passed in 3 years\n",
        "\n",
        "## Counterfactuals: “What If?”\n",
        "\n",
        "-   Most interesting problems in economics are about counterfactuals in\n",
        "    one way or another\n",
        "    -   What would have happened to the economy if the government had\n",
        "        not intervened?\n",
        "    -   What would have been her income if she had not gone to college,\n",
        "        or if she wasn’t subjected to gender bias?\n",
        "-   By definition these are not observable. If we had the data we\n",
        "    wouldn’t need to ponder “What if?”. How? One way or another…."
      ],
      "id": "146e42b4-ba74-4def-af62-05925226787d"
    },
    {
      "cell_type": "raw",
      "metadata": {
        "raw_mimetype": "text/html"
      },
      "source": [
        "<center>"
      ],
      "id": "112a3e4c-e46c-48b3-8302-a3503e53e2d9"
    },
    {
      "cell_type": "markdown",
      "metadata": {},
      "source": [
        "**YOU HAVE TO MAKE \\$HIT UP**"
      ],
      "id": "90aab15f-cc1e-4fd3-81de-44a06b0d7c07"
    },
    {
      "cell_type": "raw",
      "metadata": {
        "raw_mimetype": "text/html"
      },
      "source": [
        "</center>"
      ],
      "id": "f6aedafe-217c-4f83-b638-cd3710de5b9b"
    },
    {
      "cell_type": "markdown",
      "metadata": {},
      "source": [
        "## The Role of Theory\n",
        "\n",
        "-   There is no data interpretation without some theory - even if it is\n",
        "    sometimes implicit\n",
        "-   The role of both data and theory is then to help constrain the set\n",
        "    of possible counterfactual\n",
        "-   So any criticisms of ML as “merely prediction” are basically a\n",
        "    statement on whether the theory makes sense\n",
        "    -   i.e., if you fit $y = f(X) + \\epsilon$ on data to find a\n",
        "        $\\hat{f}(X)$ function, then theory tells you if you made the\n",
        "        right assumptions (e.g., that the $X$ data is representative and\n",
        "        wouldn’t change for your counterfactual of interest, etc)\n",
        "-   Some models (e.g., random assignment) have easier to swallow\n",
        "    assumptions than others.\n",
        "\n",
        "## Approaches\n",
        "\n",
        "-   Always remember: you need assumptions in one form or another because\n",
        "    the counterfactuals are inherently not factual\n",
        "-   Broadly there are three approaches to conducting counterfactuals.\n",
        "    They are not mutually exclusive\n",
        "    1.  Structural models: i.e. emphasize theory + data to put structure\n",
        "        on the joint distribution of $\\mathbb{P}(X_1, X_2)$\n",
        "    2.  Causal inference using matching, instrumental variables, etc.\n",
        "        which use theoretical assumptions on independence to adjust for\n",
        "        bias and missing latents\n",
        "    3.  Randomized Experiments/Treatment Effects where you can get good\n",
        "        data which truly randomizes some sort of “treatment”.\n",
        "\n",
        "## Why do People Love Randomized Experiments?\n",
        "\n",
        "-   Because the assumptions are often easy to believe if you trust your\n",
        "    random assignment\n",
        "    -   It often requires fewer assumptions beyond random assignment -\n",
        "        for better or worse\n",
        "-   However:\n",
        "    -   They are not always possible, and even when they are, they are\n",
        "        not always ethical\n",
        "    -   And even when possible and ethical, the inherent difficulty in\n",
        "        randomization means it has limited scope and generalizability.\n",
        "        i.e., you can learn an effect in one circumstance, but how\n",
        "        common are those exact circumstances?\n",
        "\n",
        "# Potential Outcomes Framework\n",
        "\n",
        "## Treatments\n",
        "\n",
        "-   A coherent approach, which fits will with randomized trials, is to\n",
        "    emphasize “treatment”. This means conditioning on binaries.\n",
        "    Language/tools best thought of in terms of pharmaceutical trails\n",
        "    -   Call the value $T_i \\in \\{0,1\\}$ as the treatment\n",
        "    -   Let $Y_i(T_i)$ be the observed outcome\n",
        "    -   Let $Y_i(0)$ be the outcome if $T_i = 0$\n",
        "    -   Let $Y_i(1)$ be the outcome if $T_i = 1$\n",
        "-   The key: **you never get to see both**. One is always counterfactual\n",
        "\n",
        "## Potential Outcomes\n",
        "\n",
        "-   Many economic questions posed as: what would have happened if $T_i$\n",
        "    was different for person $i$? (or country $i$, etc)\n",
        "-   A “structural” model might be able to help answer that question, but\n",
        "    might require a lot of assumptions on the underlying structure of\n",
        "    $i$\n",
        "-   Alternatively, maybe we can make fewer (or different) assumptions\n",
        "    and ask:\n",
        "    -   **Average Treatment Effect**: $\\mathbb{E}[Y_i(1) - Y_i(0)]$\n",
        "    -   **Average Treatment Effect on the Treated**:\n",
        "        $\\mathbb{E}[Y_i(1) - Y_i(0)\\,|\\,T_i = 1]$\n",
        "-   Note here that we are taking expectations over the distribution of\n",
        "    $i$. Hides lots of probability.\n",
        "\n",
        "## Potential Outcomes Framework\n",
        "\n",
        "-   The potential outcomes framework is a way to formalize causal\n",
        "    inference\n",
        "-   It involves defining potential outcomes $Y_{0i}$ and $Y_{1i}$ for\n",
        "    each unit under different treatment conditions\n",
        "-   The treatment variable $T_i$ is a binary variable that indicates\n",
        "    whether unit $i$ receives the treatment ($T_i = 1$) or not\n",
        "    ($T_i = 0$)\n",
        "-   The treatment effect on a unit of type $i$ is the difference between\n",
        "    the potential outcomes under different treatment conditions:\n",
        "    $\\tau_i = Y_{1i} - Y_{0i}$\n",
        "\n",
        "## Treatment Effects\n",
        "\n",
        "-   We are generally intersted in treatment effects of the form\n",
        "    $\\tau_i = Y_{1i} - Y_{0i}$. However, we cannot observe *both*\n",
        "    potential outcomes for a given unit. Instead, we can estimate\n",
        "    -   The **average treatment effect (ATE)**, which is the average of\n",
        "        the treatment effects across all units:\n",
        "        $\\tau = E[Y_{1i} - Y_{0i}]$\n",
        "    -   The **average treatment effect on the treated (ATT)**, which is\n",
        "        the average of the treatment effects for units that receive the\n",
        "        treatment: $\\tau_{T} = E[Y_{1i} - Y_{0i} | T_i = 1]$\n",
        "-   In randomized experiments, we can estimate the ATE and ATT using the\n",
        "    difference in means between the treatment and control groups\n",
        "    -   Why is randomization important? To find out, let’s look at a\n",
        "        stylized example\n",
        "\n",
        "## A Stylized Example\n",
        "\n",
        "Let’s say that we are interested in calculating the effect of providing\n",
        "a tablet on the academic performance of students, measured by their test\n",
        "scores.\n",
        "\n",
        "In some strange universe, imagine that we are actually able to observe\n",
        "the outcome for each unit under both treatment conditions. Suppose the\n",
        "data look like this:"
      ],
      "id": "27b1e5c4-c9f9-46d8-8bac-e83a31968dac"
    },
    {
      "cell_type": "code",
      "execution_count": 3,
      "metadata": {
        "output-location": "column"
      },
      "outputs": [
        {
          "output_type": "display_data",
          "metadata": {},
          "data": {
            "text/html": [
              "\n",
              "</div>"
            ]
          }
        }
      ],
      "source": [
        "import pandas as pd\n",
        "import numpy as np\n",
        "\n",
        "df = pd.DataFrame(dict(\n",
        "    i= [1,2,3,4],\n",
        "    Y0=[500,600,800,700],\n",
        "    Y1=[450,600,600,750],\n",
        "    T= [0,0,1,1],\n",
        "    test_score= [500,600,600,750]\n",
        "))\n",
        "df.head()"
      ],
      "id": "000029d6"
    },
    {
      "cell_type": "markdown",
      "metadata": {},
      "source": [
        "## A Stylized Example"
      ],
      "id": "0dde0672-cb2e-47a8-a1b2-f6252da0ed09"
    },
    {
      "cell_type": "code",
      "execution_count": 4,
      "metadata": {
        "output-location": "column"
      },
      "outputs": [
        {
          "output_type": "display_data",
          "metadata": {},
          "data": {
            "text/html": [
              "\n",
              "</div>"
            ]
          }
        }
      ],
      "source": [
        "df.head()"
      ],
      "id": "780dbfe0"
    },
    {
      "cell_type": "markdown",
      "metadata": {},
      "source": [
        "Then we can simply calculate the average treatment effect directly:"
      ],
      "id": "fd21b7bf-51dd-4ba3-acc8-a07767bb394b"
    },
    {
      "cell_type": "code",
      "execution_count": 5,
      "metadata": {
        "output-location": "column"
      },
      "outputs": [
        {
          "output_type": "display_data",
          "metadata": {},
          "data": {
            "text/plain": [
              "-50.0"
            ]
          }
        }
      ],
      "source": [
        "df[\"TE\"] = df.Y1 - df.Y0\n",
        "df.TE.mean()"
      ],
      "id": "179d2408"
    },
    {
      "cell_type": "markdown",
      "metadata": {},
      "source": [
        "And the ATT would be the mean of the last column for units that receive\n",
        "the treatment:"
      ],
      "id": "3f78119c-f7b1-4de8-b1ed-bc1ffb4e5a7c"
    },
    {
      "cell_type": "code",
      "execution_count": 6,
      "metadata": {
        "output-location": "column"
      },
      "outputs": [
        {
          "output_type": "display_data",
          "metadata": {},
          "data": {
            "text/plain": [
              "-75.0"
            ]
          }
        }
      ],
      "source": [
        "treatment_rows = df[\"T\"] == 1\n",
        "df[treatment_rows].TE.mean()"
      ],
      "id": "ea5f72c6"
    },
    {
      "cell_type": "markdown",
      "metadata": {},
      "source": [
        "# Bias\n",
        "\n",
        "## A More Realistic Example\n",
        "\n",
        "In practice, we can’t really ever observe both potential outcomes for\n",
        "each unit. Instead, we can only observe the outcome for each unit under\n",
        "the treatment condition that they actually receive.\n",
        "\n",
        "Suppose that instead of what we had before, the data look like this:"
      ],
      "id": "63f2a0a5-a8d5-49d6-a975-70e41cf03b8d"
    },
    {
      "cell_type": "code",
      "execution_count": 7,
      "metadata": {
        "output-location": "column"
      },
      "outputs": [
        {
          "output_type": "display_data",
          "metadata": {},
          "data": {
            "text/html": [
              "\n",
              "</div>"
            ]
          }
        }
      ],
      "source": [
        "df_real = pd.DataFrame(dict(\n",
        "    i= [1,2,3,4],\n",
        "    Y0=[500,600,np.nan,np.nan],\n",
        "    Y1=[np.nan,np.nan,600,750],\n",
        "    T= [0,0,1,1],\n",
        "    test_score= [500,600,600,750]\n",
        "))\n",
        "df_real.head()"
      ],
      "id": "5b365239"
    },
    {
      "cell_type": "markdown",
      "metadata": {},
      "source": [
        "## A More Realistic Example"
      ],
      "id": "b0bb74fd-67f6-4354-939a-33a9442f993d"
    },
    {
      "cell_type": "code",
      "execution_count": 8,
      "metadata": {
        "output-location": "column"
      },
      "outputs": [
        {
          "output_type": "display_data",
          "metadata": {},
          "data": {
            "text/html": [
              "\n",
              "</div>"
            ]
          }
        }
      ],
      "source": [
        "df_real.head()"
      ],
      "id": "d11449f0"
    },
    {
      "cell_type": "markdown",
      "metadata": {},
      "source": [
        "Let’s try to estimate the ATE again. We don’t observe the counterfactual\n",
        "outcomes, but we can try to estimate the ATE using the difference in\n",
        "means between the treatment and control groups:"
      ],
      "id": "ee60aca0-e985-4684-a324-2ea6784eb87b"
    },
    {
      "cell_type": "code",
      "execution_count": 9,
      "metadata": {
        "output-location": "column"
      },
      "outputs": [
        {
          "output_type": "display_data",
          "metadata": {},
          "data": {
            "text/plain": [
              "125.0"
            ]
          }
        }
      ],
      "source": [
        "group_averages = df_real.groupby(\"T\").test_score.mean()\n",
        "group_averages[1] - group_averages[0]"
      ],
      "id": "b179905e"
    },
    {
      "cell_type": "markdown",
      "metadata": {},
      "source": [
        "This is **not** the correct answer! Why not?\n",
        "\n",
        "## Bias\n",
        "\n",
        "-   In this case, the $\\bar{Y}_0$ for the treated is different than the\n",
        "    $\\bar{Y}_0$ for the control group, (which is what we are using in\n",
        "    the calculation)\n",
        "-   In the example of schools adopting a tablet program, the $\\bar{Y}_0$\n",
        "    for the treated is higher than the $\\bar{Y}_0$ for the control group\n",
        "    -   This is because the schools that adopt the tablet program would\n",
        "        have had higher test scores even if they had not adopted the\n",
        "        program\n",
        "    -   However, once they adopt the program, their test scores drop\n",
        "-   Blindly taking the difference in means between the treatment and\n",
        "    control groups will give us a biased estimate of the ATE\n",
        "    -   In other words, the expected value of our estimator is not equal\n",
        "        to the true value of the parameter we are trying to estimate\n",
        "-   **Bias** is measured as the difference between the **expected value\n",
        "    of our estimator** and the **true value of the parameter** we are\n",
        "    trying to estimate\n",
        "\n",
        "## Bias\n",
        "\n",
        "-   Using potential outcome notation, we can write the conditional mean\n",
        "    calculation (from the previous example) as:\n",
        "    $$E[Y \\mid T=1] - E[Y\\mid T=0] = E[Y_1\\mid T=1] - E[Y_0\\mid T=0]$$\n",
        "\n",
        "-   Then adding and subtracting $E[Y_0\\mid T=1]$, and rearranging gives:\n",
        "    $$\\begin{align}E[Y\\mid T=1] - E[Y\\mid T=0] = &\\underbrace{E[Y_1 - Y_0\\mid T=1]}_{ATT}+\\\\& \\underbrace{ E[Y_0\\mid T=1] - E[Y_0\\mid T=0]}_{BIAS}\\end{align}$$\n",
        "\n",
        "# Randomized Experiments\n",
        "\n",
        "## Randomization\n",
        "\n",
        "-   Earlier, we said that randomization is important for estimating\n",
        "    treatment effects. Why is that?\n",
        "-   Randomization is the easiest way to ensure that the treatment and\n",
        "    control groups are similar on average\n",
        "    -   If the treatment and control groups have the same counterfactual\n",
        "        average outcome, then the bias term is zero\n",
        "-   To see why, note that if the treatment and control groups are\n",
        "    similar on average, then $E[Y_0\\mid T=1] = E[Y_0\\mid T=0] = E[Y_0]$,\n",
        "    the population average of the potential outcome under the control\n",
        "    condition\n",
        "    -   The bias term is\n",
        "        $E[Y_0\\mid T=1] - E[Y_0\\mid T=0] = E[Y_0] - E[Y_0] = 0$\n",
        "    -   Therefore, the difference in means between the treatment and\n",
        "        control groups is equal to the ATT\n",
        "\n",
        "## Randomized Experiments\n",
        "\n",
        "-   Experimental randomization is the gold standard for estimating\n",
        "    treatment effects\n",
        "-   In a randomized experiment, the treatment assignment is independent\n",
        "    of the potential outcomes\n",
        "    -   This means that the treatment assignment is independent of the\n",
        "        outcome under both treatment conditions\n",
        "    -   In other words, $Y_0$ and $Y_1$ are independent of $T$\n",
        "-   These randomized experiments are also called **randomized controlled\n",
        "    trials (RCTs)**\n",
        "\n",
        "## Randomized Experiments - The Difficulties\n",
        "\n",
        "-   RCTs are the gold standard for estimating treatment effects because\n",
        "    they ensure that the treatment and control groups are similar on\n",
        "    average\n",
        "\n",
        "-   However, RCTs are not always ethical or feasible. For example, it\n",
        "    would be unethical to\n",
        "\n",
        "    -   Randomly assign people to smoke cigarettes\n",
        "    -   Randomly assign people to be exposed to a deadly virus\n",
        "\n",
        "-   Throughout (recent) history, there have been many examples of\n",
        "    unethical experiments\n",
        "\n",
        "    -   The Tuskegee experiment (1932-1972)\n",
        "    -   The Stanford prison experiment (1971)\n",
        "    -   The Milgram experiment (1961-1962)\n",
        "\n",
        "-   These experiments have led to the development of ethical guidelines\n",
        "    for conducting experiments on humans and animals\n",
        "\n",
        "## Estimating Treatment Effects Without Randomization\n",
        "\n",
        "-   While many RCTs, especially to answer economic questions, are not\n",
        "    unethical, they are often not feasible\n",
        "    -   For example, it would be difficult to randomly assign people to\n",
        "        be born in different countries\n",
        "    -   It could also be very expensive to randomly assign people to\n",
        "        receive a house or to supplement their income\n",
        "-   Due to the ethical and practical constraints, we often have to rely\n",
        "    on observational data to estimate treatment effects\n",
        "    -   In this case, we have to make assumptions about the\n",
        "        data-generating process to estimate treatment effects\n",
        "    -   These assumptions are called **identification assumptions**\n",
        "\n",
        "## Estimating Treatment Effects Without Randomization\n",
        "\n",
        "-   Many identification assumptions are based on the idea of **selection\n",
        "    on observables**\n",
        "\n",
        "    -   This means that the treatment assignment is independent of the\n",
        "        potential outcomes *conditional* on the observed covariates\n",
        "    -   In other words, $Y_0$ and $Y_1$ are independent of $T$\n",
        "        conditional on $X$\n",
        "\n",
        "-   This allows us to do things like **match** units in the treatment\n",
        "    and control groups that are similar on average\n",
        "\n",
        "    -   We can then estimate the treatment effect by comparing the\n",
        "        outcomes of the matched units, assuming that the matched units\n",
        "        are similar on average\n",
        "\n",
        "-   Another option is to use **instrumental variables** to estimate the\n",
        "    treatment effect\n",
        "\n",
        "-   Alternatively, a **structural model** can be used to estimate the\n",
        "    treatment effect by integrating a theoretical model to fill in the\n",
        "    missing counterfactuals\n",
        "\n",
        "## Credits\n",
        "\n",
        "This lecture draws heavily from [Causal Inference for the Brave and\n",
        "True: Introduction to\n",
        "Causality](https://matheusfacure.github.io/python-causality-handbook/01-Introduction-To-Causality.html)\n",
        "by Matheus Facure"
      ],
      "id": "17d16026-e344-48fc-8c7a-12ce7a069034"
    }
  ],
  "nbformat": 4,
  "nbformat_minor": 5,
  "metadata": {
    "kernelspec": {
      "name": "python3",
      "display_name": "Python 3 (ipykernel)",
      "language": "python"
    },
    "language_info": {
      "name": "python",
      "codemirror_mode": {
        "name": "ipython",
        "version": "3"
      },
      "file_extension": ".py",
      "mimetype": "text/x-python",
      "nbconvert_exporter": "python",
      "pygments_lexer": "ipython3",
      "version": "3.11.4"
    }
  }
}