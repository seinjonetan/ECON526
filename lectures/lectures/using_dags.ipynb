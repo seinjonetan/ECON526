{
  "cells": [
    {
      "cell_type": "markdown",
      "metadata": {},
      "source": [
        "# ECON526: Quantitative Economics with Data Science Applications\n",
        "\n",
        "Practical Uses of Directed Graphical Models\n",
        "\n",
        "Phil Solimine (University of British Columbia)\n",
        "\n",
        "# Overview\n",
        "\n",
        "## Summary\n",
        "\n",
        "-   Previously in the course, we introduced Directed Acyclic Graphs as a\n",
        "    way to represent conditional independence relationships between\n",
        "    variables.\n",
        "\n",
        "-   We built a DAG to represent the causal relationships between\n",
        "    variables in a simple model of online learning.\n",
        "\n",
        "-   We used this example to discuss how we can use DAGs to build a\n",
        "    causal model of a data generating process.\n",
        "\n",
        "    -   We also discussed some techniques to build concise models\n",
        "        without losing too much information.\n",
        "\n",
        "-   Today, we will discuss how these DAGs can actually be used in\n",
        "    practice, both to identify causal effects, and to reduce the\n",
        "    representational complexity of a model.\n",
        "\n",
        "# Dependence Flows\n",
        "\n",
        "## Dependence Flows\n",
        "\n",
        "-   In order to determine whether or not we can identify a treatment\n",
        "    effect, we need to understand how dependence **flows** through a\n",
        "    graphical model.\n",
        "\n",
        "-   We have seen that conditioning on a node can either make or break\n",
        "    the dependence relationship between two other nodes\n",
        "\n",
        "-   To identify the treatment effect, we want the *link between the\n",
        "    treatment and the outcome to be unblocked*.\n",
        "\n",
        "-   However, we also need to make sure that there is *no other\n",
        "    dependence path* between the treatment and the outcome that is\n",
        "    unblocked.\n",
        "\n",
        "## The Rules of Bayes-Ball\n",
        "\n",
        "-   We can think about the flow of dependence as a game of “Bayes-ball”\n",
        "-   The rules of Bayes-ball are reasonably simple. A dependence path is\n",
        "    blocked if and only if:\n",
        "    1.  It contains a *non-collider* that is conditioned on\n",
        "    2.  It contains a *collider* that is not conditioned on, and neither\n",
        "        are *any of its descendants*\n",
        "\n",
        "![](attachment:./data/fig/graph-flow.png)\n",
        "\n",
        "## Directed Graphical Models\n",
        "\n",
        "Turning back to our **collider** example:"
      ],
      "attachments": {
        "./data/fig/graph-flow.png": {
          "image/png": "[encoded data removed]"
        }
      },
      "id": "0769f6a0-e103-4a23-a738-3b283a832c29"
    },
    {
      "cell_type": "code",
      "execution_count": 2,
      "metadata": {},
      "outputs": [],
      "source": [
        "import graphviz as gr\n",
        "g = gr.Digraph()\n",
        "g.edge(\"B\", \"C\")\n",
        "g.edge(\"A\", \"C\")\n",
        "\n",
        "g.edge(\"Y\", \"X\")\n",
        "g.edge(\"Z\", \"X\")\n",
        "g.node(\"X\", \"X\", style=\"filled\")"
      ],
      "id": "4461a6ea"
    },
    {
      "cell_type": "markdown",
      "metadata": {},
      "source": [
        "-   Notice that when we do not condition on $C$, $A$ and $B$ are\n",
        "    independent.\n",
        "-   However, somewhat unintuitively, when we condition on $X$, $Y$ and\n",
        "    $Z$ become dependent.\n",
        "    -   This is because conditioning on $X$ opens the flow of dependence\n",
        "        from $Y$ to $Z$.\n",
        "    -   In any case that is *not* a collider, conditioning on a node\n",
        "        *blocks* the flow of dependence.\n",
        "\n",
        "## Two Games of Bayes Ball\n",
        "\n",
        "![](attachment:./data/fig/two-games.png)\n",
        "\n",
        "# Viualizing Bias\n",
        "\n",
        "## Bias and Causality\n",
        "\n",
        "-   In a causal inference framework, we can use graphical models to\n",
        "    determine whether or not we can identify a treatment effect, and\n",
        "    which covariates we need to condition on.\n",
        "\n",
        "-   Typically, drawing out a graphical model is not necessary, but it\n",
        "    can be a useful exercise to help you think through the problem.\n",
        "\n",
        "    -   The links you draw represent the assumptions you are making\n",
        "        about the data generating process\n",
        "\n",
        "## Bias and Causality\n",
        "\n",
        "-   There are two major types of bias that we need to worry about in\n",
        "    causal inference:\n",
        "    -   **Confounding**: When there is an unobserved variable that is a\n",
        "        common cause of both the treatment and the outcome\n",
        "    -   **Selection**: When there is an unobserved variable that is a\n",
        "        common cause of both the treatment and the selection into the\n",
        "        sample\n",
        "-   Both of these types of bias can be represented using a graphical\n",
        "    model\n",
        "\n",
        "# Confounding\n",
        "\n",
        "## Confounding\n",
        "\n",
        "-   Let’s look at an example of confounding:"
      ],
      "attachments": {
        "./data/fig/two-games.png": {
          "image/png": "[encoded data removed]"
        }
      },
      "id": "a6871187-6bc6-4d71-9f91-379904c639a6"
    },
    {
      "cell_type": "code",
      "execution_count": 3,
      "metadata": {
        "output-location": "column"
      },
      "outputs": [
        {
          "output_type": "display_data",
          "metadata": {},
          "data": {
            "image/svg+xml": "PD94bWwgdmVyc2lvbj0iMS4wIiBlbmNvZGluZz0iVVRGLTgiIHN0YW5kYWxvbmU9Im5vIj8+Cjwh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\n"
          }
        }
      ],
      "source": [
        "g = gr.Digraph()\n",
        "g.edge(\"X\", \"T\")\n",
        "g.edge(\"X\", \"Y\")\n",
        "g.edge(\"T\", \"Y\")\n",
        "\n",
        "g.edge(\"rain\", \"umbrella\")\n",
        "g.edge(\"rain\", \"wet\")\n",
        "g.edge(\"umbrella\", \"wet\")\n",
        "\n",
        "g.edge(\"severeness\", \"medicine\")\n",
        "g.edge(\"severeness\", \"survived\")\n",
        "g.edge(\"medicine\", \"survived\")\n",
        "g"
      ],
      "id": "a61ea914"
    },
    {
      "cell_type": "markdown",
      "metadata": {},
      "source": [
        "-   To control for confounding, we need to condition on all of the\n",
        "    common causes of the treatment and the outcome.\n",
        "\n",
        "## Confounding"
      ],
      "id": "92dbdc63-ec04-4c49-bd24-2deb1d6d7c8e"
    },
    {
      "cell_type": "code",
      "execution_count": 4,
      "metadata": {
        "output-location": "column"
      },
      "outputs": [
        {
          "output_type": "display_data",
          "metadata": {},
          "data": {
            "image/svg+xml": "PD94bWwgdmVyc2lvbj0iMS4wIiBlbmNvZGluZz0iVVRGLTgiIHN0YW5kYWxvbmU9Im5vIj8+Cjwh\nRE9DVFlQRSBzdmcgUFVCTElDICItLy9XM0MvL0RURCBTVkcgMS4xLy9FTiIKICJodHRwOi8vd3d3\nLnczLm9yZy9HcmFwaGljcy9TVkcvMS4xL0RURC9zdmcxMS5kdGQiPgo8IS0tIEdlbmVyYXRlZCBi\neSBncmFwaHZpeiB2ZXJzaW9uIDIuNTAuMCAoMCkKIC0tPgo8IS0tIFBhZ2VzOiAxIC0tPgo8c3Zn\nIHdpZHRoPSIyNjRwdCIgaGVpZ2h0PSIyNjBwdCIKIHZpZXdCb3g9IjAuMDAgMC4wMCAyNjMuNjQg\nMjYwLjAwIiB4bWxucz0iaHR0cDovL3d3dy53My5vcmcvMjAwMC9zdmciIHhtbG5zOnhsaW5rPSJo\ndHRwOi8vd3d3LnczLm9yZy8xOTk5L3hsaW5rIj4KPGcgaWQ9ImdyYXBoMCIgY2xhc3M9ImdyYXBo\nIiB0cmFuc2Zvcm09InNjYWxlKDEgMSkgcm90YXRlKDApIHRyYW5zbGF0ZSg0IDI1NikiPgo8cG9s\neWdvbiBmaWxsPSJ3aGl0ZSIgc3Ryb2tlPSJ0cmFuc3BhcmVudCIgcG9pbnRzPSItNCw0IC00LC0y\nNTYgMjU5LjY0LC0yNTYgMjU5LjY0LDQgLTQsNCIvPgo8IS0tIEZhbWlseSBJbmNvbWUgLS0+Cjxn\nIGlkPSJub2RlMSIgY2xhc3M9Im5vZGUiPgo8dGl0bGU+RmFtaWx5IEluY29tZTwvdGl0bGU+Cjxl\nbGxpcHNlIGZpbGw9Im5vbmUiIHN0cm9rZT0iYmxhY2siIGN4PSI2NS42NCIgY3k9Ii0xNjIiIHJ4\nPSI2NS43OSIgcnk9IjE4Ii8+Cjx0ZXh0IHRleHQtYW5jaG9yPSJtaWRkbGUiIHg9IjY1LjY0IiB5\nPSItMTU4LjMiIGZvbnQtZmFtaWx5PSJUaW1lcyBOZXcgUm9tYW4sc2VyaWYiIGZvbnQtc2l6ZT0i\nMTQuMDAiPkZhbWlseSBJbmNvbWU8L3RleHQ+CjwvZz4KPCEtLSBFZHVjIC0tPgo8ZyBpZD0ibm9k\nZTIiIGNsYXNzPSJub2RlIj4KPHRpdGxlPkVkdWM8L3RpdGxlPgo8ZWxsaXBzZSBmaWxsPSJub25l\nIiBzdHJva2U9ImJsYWNrIiBjeD0iMTYxLjY0IiBjeT0iLTkwIiByeD0iMjguNyIgcnk9IjE4Ii8+\nCjx0ZXh0IHRleHQtYW5jaG9yPSJtaWRkbGUiIHg9IjE2MS42NCIgeT0iLTg2LjMiIGZvbnQtZmFt\naWx5PSJUaW1lcyBOZXcgUm9tYW4sc2VyaWYiIGZvbnQtc2l6ZT0iMTQuMDAiPkVkdWM8L3RleHQ+\nCjwvZz4KPCEtLSBGYW1pbHkgSW5jb21lJiM0NTsmZ3Q7RWR1YyAtLT4KPGcgaWQ9ImVkZ2UxIiBj\nbGFzcz0iZWRnZSI+Cjx0aXRsZT5GYW1pbHkgSW5jb21lJiM0NTsmZ3Q7RWR1YzwvdGl0bGU+Cjxw\nYXRoIGZpbGw9Im5vbmUiIHN0cm9rZT0iYmxhY2siIGQ9Ik04Ny45MSwtMTQ0Ljc2QzEwMi4wOCwt\nMTM0LjQzIDEyMC40OSwtMTIxLjAxIDEzNS4zOCwtMTEwLjE1Ii8+Cjxwb2x5Z29uIGZpbGw9ImJs\nYWNrIiBzdHJva2U9ImJsYWNrIiBwb2ludHM9IjEzNy42NSwtMTEyLjgyIDE0My42NywtMTA0LjEg\nMTMzLjUzLC0xMDcuMTcgMTM3LjY1LC0xMTIuODIiLz4KPC9nPgo8IS0tIFdhZ2UgLS0+CjxnIGlk\nPSJub2RlMyIgY2xhc3M9Im5vZGUiPgo8dGl0bGU+V2FnZTwvdGl0bGU+CjxlbGxpcHNlIGZpbGw9\nIm5vbmUiIHN0cm9rZT0iYmxhY2siIGN4PSIxNjEuNjQiIGN5PSItMTgiIHJ4PSIzMC41OSIgcnk9\nIjE4Ii8+Cjx0ZXh0IHRleHQtYW5jaG9yPSJtaWRkbGUiIHg9IjE2MS42NCIgeT0iLTE0LjMiIGZv\nbnQtZmFtaWx5PSJUaW1lcyBOZXcgUm9tYW4sc2VyaWYiIGZvbnQtc2l6ZT0iMTQuMDAiPldhZ2U8\nL3RleHQ+CjwvZz4KPCEtLSBGYW1pbHkgSW5jb21lJiM0NTsmZ3Q7V2FnZSAtLT4KPGcgaWQ9ImVk\nZ2U0IiBjbGFzcz0iZWRnZSI+Cjx0aXRsZT5GYW1pbHkgSW5jb21lJiM0NTsmZ3Q7V2FnZTwvdGl0\nbGU+CjxwYXRoIGZpbGw9Im5vbmUiIHN0cm9rZT0iYmxhY2siIGQ9Ik03Ni4zMywtMTQ0LjEyQzg3\nLjgsLTEyNi4xMSAxMDYuNjgsLTk2LjgxIDEyMy42NCwtNzIgMTMwLjEzLC02Mi41MSAxMzcuNDUs\nLTUyLjIxIDE0My45MywtNDMuMjMiLz4KPHBvbHlnb24gZmlsbD0iYmxhY2siIHN0cm9rZT0iYmxh\nY2siIHBvaW50cz0iMTQ2Ljc4LC00NS4yNiAxNDkuODEsLTM1LjExIDE0MS4xMSwtNDEuMTUgMTQ2\nLjc4LC00NS4yNiIvPgo8L2c+CjwhLS0gRWR1YyYjNDU7Jmd0O1dhZ2UgLS0+CjxnIGlkPSJlZGdl\nMiIgY2xhc3M9ImVkZ2UiPgo8dGl0bGU+RWR1YyYjNDU7Jmd0O1dhZ2U8L3RpdGxlPgo8cGF0aCBm\naWxsPSJub25lIiBzdHJva2U9ImJsYWNrIiBkPSJNMTYxLjY0LC03MS43QzE2MS42NCwtNjMuOTgg\nMTYxLjY0LC01NC43MSAxNjEuNjQsLTQ2LjExIi8+Cjxwb2x5Z29uIGZpbGw9ImJsYWNrIiBzdHJv\na2U9ImJsYWNrIiBwb2ludHM9IjE2NS4xNCwtNDYuMSAxNjEuNjQsLTM2LjEgMTU4LjE0LC00Ni4x\nIDE2NS4xNCwtNDYuMSIvPgo8L2c+CjwhLS0gU0FUIC0tPgo8ZyBpZD0ibm9kZTQiIGNsYXNzPSJu\nb2RlIj4KPHRpdGxlPlNBVDwvdGl0bGU+CjxlbGxpcHNlIGZpbGw9Im5vbmUiIHN0cm9rZT0iYmxh\nY2siIGN4PSIxNzYuNjQiIGN5PSItMTYyIiByeD0iMjciIHJ5PSIxOCIvPgo8dGV4dCB0ZXh0LWFu\nY2hvcj0ibWlkZGxlIiB4PSIxNzYuNjQiIHk9Ii0xNTguMyIgZm9udC1mYW1pbHk9IlRpbWVzIE5l\ndyBSb21hbixzZXJpZiIgZm9udC1zaXplPSIxNC4wMCI+U0FUPC90ZXh0Pgo8L2c+CjwhLS0gU0FU\nJiM0NTsmZ3Q7RWR1YyAtLT4KPGcgaWQ9ImVkZ2UzIiBjbGFzcz0iZWRnZSI+Cjx0aXRsZT5TQVQm\nIzQ1OyZndDtFZHVjPC90aXRsZT4KPHBhdGggZmlsbD0ibm9uZSIgc3Ryb2tlPSJibGFjayIgZD0i\nTTE3My4wMSwtMTQ0LjA1QzE3MS4zNCwtMTM2LjI2IDE2OS4zMiwtMTI2LjgyIDE2Ny40NSwtMTE4\nLjA4Ii8+Cjxwb2x5Z29uIGZpbGw9ImJsYWNrIiBzdHJva2U9ImJsYWNrIiBwb2ludHM9IjE3MC44\nNiwtMTE3LjMyIDE2NS4zNSwtMTA4LjI4IDE2NC4wMiwtMTE4Ljc5IDE3MC44NiwtMTE3LjMyIi8+\nCjwvZz4KPCEtLSBJbnRlbGxpZ2VuY2UgLS0+CjxnIGlkPSJub2RlNSIgY2xhc3M9Im5vZGUiPgo8\ndGl0bGU+SW50ZWxsaWdlbmNlPC90aXRsZT4KPGVsbGlwc2UgZmlsbD0ibm9uZSIgc3Ryb2tlPSJi\nbGFjayIgY3g9IjIwMy42NCIgY3k9Ii0yMzQiIHJ4PSI1MS45OSIgcnk9IjE4Ii8+Cjx0ZXh0IHRl\neHQtYW5jaG9yPSJtaWRkbGUiIHg9IjIwMy42NCIgeT0iLTIzMC4zIiBmb250LWZhbWlseT0iVGlt\nZXMgTmV3IFJvbWFuLHNlcmlmIiBmb250LXNpemU9IjE0LjAwIj5JbnRlbGxpZ2VuY2U8L3RleHQ+\nCjwvZz4KPCEtLSBJbnRlbGxpZ2VuY2UmIzQ1OyZndDtXYWdlIC0tPgo8ZyBpZD0iZWRnZTYiIGNs\nYXNzPSJlZGdlIj4KPHRpdGxlPkludGVsbGlnZW5jZSYjNDU7Jmd0O1dhZ2U8L3RpdGxlPgo8cGF0\naCBmaWxsPSJub25lIiBzdHJva2U9ImJsYWNrIiBkPSJNMjA3LjMsLTIxNS45MUMyMDkuMzIsLTIw\nNS41NyAyMTEuNjIsLTE5Mi4wOSAyMTIuNjQsLTE4MCAyMTYuNzEsLTEzMS44MiAyMTguNDksLTEx\nNi41MiAxOTkuNjQsLTcyIDE5NS4xNiwtNjEuNDEgMTg4LjI2LC01MC44OCAxODEuNTYsLTQyLjA0\nIi8+Cjxwb2x5Z29uIGZpbGw9ImJsYWNrIiBzdHJva2U9ImJsYWNrIiBwb2ludHM9IjE4NC4yNCwt\nMzkuNzggMTc1LjI4LC0zNC4xMiAxNzguNzUsLTQ0LjEzIDE4NC4yNCwtMzkuNzgiLz4KPC9nPgo8\nIS0tIEludGVsbGlnZW5jZSYjNDU7Jmd0O1NBVCAtLT4KPGcgaWQ9ImVkZ2U1IiBjbGFzcz0iZWRn\nZSI+Cjx0aXRsZT5JbnRlbGxpZ2VuY2UmIzQ1OyZndDtTQVQ8L3RpdGxlPgo8cGF0aCBmaWxsPSJu\nb25lIiBzdHJva2U9ImJsYWNrIiBkPSJNMTk3LjExLC0yMTYuMDVDMTk0LjAyLC0yMDguMDYgMTkw\nLjI3LC0xOTguMzMgMTg2LjgzLC0xODkuNCIvPgo8cG9seWdvbiBmaWxsPSJibGFjayIgc3Ryb2tl\nPSJibGFjayIgcG9pbnRzPSIxODkuOTgsLTE4Ny44NiAxODMuMTIsLTE3OS43OSAxODMuNDUsLTE5\nMC4zOCAxODkuOTgsLTE4Ny44NiIvPgo8L2c+CjwvZz4KPC9zdmc+Cg==\n"
          }
        }
      ],
      "source": [
        "g = gr.Digraph()\n",
        "\n",
        "g.node(\"Family Income\")\n",
        "g.edge(\"Family Income\", \"Educ\")\n",
        "g.edge(\"Educ\", \"Wage\")\n",
        "\n",
        "g.node(\"SAT\")\n",
        "g.edge(\"SAT\", \"Educ\")\n",
        "\n",
        "g.node(\"Family Income\")\n",
        "g.edge(\"Family Income\", \"Wage\")\n",
        "\n",
        "g.edge(\"Intelligence\", \"SAT\")\n",
        "g.edge(\"Intelligence\", \"Wage\")\n",
        "g"
      ],
      "id": "6d509ffa"
    },
    {
      "cell_type": "markdown",
      "metadata": {},
      "source": [
        "-   Often, there are confounding variables that we cannot observe\n",
        "    -   For example, we cannot observe intelligence, but it is a common\n",
        "        cause of both education (the treatment) and wages\n",
        "\n",
        "## Confounding"
      ],
      "id": "966006f9-c9f6-4a74-b8fa-f0b417e38241"
    },
    {
      "cell_type": "code",
      "execution_count": 5,
      "metadata": {
        "output-location": "column"
      },
      "outputs": [
        {
          "output_type": "display_data",
          "metadata": {},
          "data": {
            "image/svg+xml": "PD94bWwgdmVyc2lvbj0iMS4wIiBlbmNvZGluZz0iVVRGLTgiIHN0YW5kYWxvbmU9Im5vIj8+Cjwh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\n"
          }
        }
      ],
      "source": [
        "g = gr.Digraph()\n",
        "\n",
        "g.node(\"Family Income\", style=\"filled\")\n",
        "g.edge(\"Family Income\", \"Educ\")\n",
        "g.edge(\"Educ\", \"Wage\")\n",
        "\n",
        "g.node(\"SAT\", style=\"filled\")\n",
        "g.edge(\"SAT\", \"Educ\")\n",
        "\n",
        "g.node(\"Family Income\", style=\"filled\")\n",
        "g.edge(\"Family Income\", \"Wage\")\n",
        "\n",
        "g.edge(\"Intelligence\", \"SAT\")\n",
        "g.edge(\"Intelligence\", \"Wage\")\n",
        "g"
      ],
      "id": "7e628c57"
    },
    {
      "cell_type": "markdown",
      "metadata": {},
      "source": [
        "-   Often, there are confounding variables that we cannot observe\n",
        "    -   For example, we cannot observe intelligence, but it is a common\n",
        "        cause of both education (the treatment) and wages\n",
        "    -   But we can use SAT as a **surrogate** or **proxy** for\n",
        "        intelligence.\n",
        "\n",
        "# Selection\n",
        "\n",
        "## Selection\n",
        "\n",
        "-   Selection bias often occurs when there is an unobserved variable\n",
        "    that is a common cause of both the treatment and the selection into\n",
        "    the sample, in other words, by conditioning on a variable that you\n",
        "    shouldn’t."
      ],
      "id": "55a8b79e-4511-4f88-b75a-fbaf28323104"
    },
    {
      "cell_type": "code",
      "execution_count": 6,
      "metadata": {
        "output-location": "column"
      },
      "outputs": [
        {
          "output_type": "display_data",
          "metadata": {},
          "data": {
            "image/svg+xml": "PD94bWwgdmVyc2lvbj0iMS4wIiBlbmNvZGluZz0iVVRGLTgiIHN0YW5kYWxvbmU9Im5vIj8+Cjwh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\nPgo8L3N2Zz4K\n"
          }
        }
      ],
      "source": [
        "g = gr.Digraph()\n",
        "g.node(\"X\", style=\"filled\")\n",
        "g.edge(\"T\", \"X\")\n",
        "g.edge(\"T\", \"Y\")\n",
        "g.edge(\"Y\", \"X\")\n",
        "g.node(\"Investments\", \"Investments\", style=\"filled\")\n",
        "g.edge(\"Educ\", \"Investments\")\n",
        "g.edge(\"Educ\", \"Wage\")\n",
        "g.edge(\"Wage\", \"Investments\")\n",
        "g.node(\"Educ2\", \"Educ\")\n",
        "g.node(\"Wage2\", \"Wage\")\n",
        "g.node(\"Investments2\", \"Investments\")\n",
        "g.edge(\"Educ2\", \"Wage2\")\n",
        "g.edge(\"Wage2\", \"Investments2\")\n",
        "g.edge(\"Educ2\", \"Investments2\")\n",
        "g.node(\"CapitalGainsTax\", \"CapitalGainsTax\", style=\"filled\")\n",
        "g.edge(\"Investments2\", \"CapitalGainsTax\")\n",
        "g"
      ],
      "id": "549ab600"
    },
    {
      "cell_type": "markdown",
      "metadata": {},
      "source": [
        "## Selection\n",
        "\n",
        "-   Selection bias can also occur when controlling for a **mediator**\n",
        "    between the treatment and the outcome"
      ],
      "id": "186279ef-4a83-499d-aa0f-98ee49829995"
    },
    {
      "cell_type": "code",
      "execution_count": 7,
      "metadata": {
        "output-location": "column"
      },
      "outputs": [
        {
          "output_type": "display_data",
          "metadata": {},
          "data": {
            "image/svg+xml": "PD94bWwgdmVyc2lvbj0iMS4wIiBlbmNvZGluZz0iVVRGLTgiIHN0YW5kYWxvbmU9Im5vIj8+Cjwh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\nCjwvZz4KPC9zdmc+Cg==\n"
          }
        }
      ],
      "source": [
        "g = gr.Digraph()\n",
        "\n",
        "g = gr.Digraph()\n",
        "g.edge(\"T\", \"X\")\n",
        "g.edge(\"T\", \"Y\")\n",
        "g.edge(\"X\", \"Y\")\n",
        "g.node(\"X\", \"X\", style=\"filled\")\n",
        "\n",
        "g.edge('Educ', 'WhiteCollar')\n",
        "g.edge('Educ', 'Wage')\n",
        "g.edge('WhiteCollar', 'Wage')\n",
        "g.node('WhiteCollar', style=\"filled\")\n",
        "\n",
        "g"
      ],
      "id": "41ce7673"
    },
    {
      "cell_type": "markdown",
      "metadata": {},
      "source": [
        "# Choosing Covariates\n",
        "\n",
        "## Choosing Covariates\n",
        "\n",
        "-   With these types of bias in mind, we can think about how to choose\n",
        "    which covariates to condition on.\n",
        "\n",
        "-   Notice that some controls will reduce bias, as in the case of\n",
        "    confounding,\n",
        "\n",
        "-   But *not all controls are good!* Some controls will actually create\n",
        "    bias, as in the case of selection.\n",
        "\n",
        "-   This means that we don’t want to just “throw the kitchen sink” at\n",
        "    the problem, and include every variable we can think of.\n",
        "\n",
        "## Choosing Covariates\n",
        "\n",
        "-   We want to choose covariates that will close any unblocked secondary\n",
        "    dependence paths between the treatment and the outcome, but not open\n",
        "    any new ones.\n",
        "\n",
        "-   To do this, we can use the “front door criterion” and the “back door\n",
        "    criterion”\n",
        "\n",
        "## The Front Door Criterion\n",
        "\n",
        "-   The **front door criterion** is one way to isolate the effect of a\n",
        "    treatment on an outcome, when there is a confounder and a mediator\n",
        "    between the treatment and the outcome."
      ],
      "id": "16dafcc4-77b7-4040-ac34-a84b0ebae730"
    },
    {
      "cell_type": "code",
      "execution_count": 8,
      "metadata": {
        "output-location": "column"
      },
      "outputs": [
        {
          "output_type": "display_data",
          "metadata": {},
          "data": {
            "image/svg+xml": "PD94bWwgdmVyc2lvbj0iMS4wIiBlbmNvZGluZz0iVVRGLTgiIHN0YW5kYWxvbmU9Im5vIj8+Cjwh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\nZz4KPC9zdmc+Cg==\n"
          }
        }
      ],
      "source": [
        "g = gr.Digraph()\n",
        "g.edge(\"LotsOfStuff\", \"Smoking\")\n",
        "g.edge(\"LotsOfStuff\", \"LungCancer\")\n",
        "g.edge(\"Smoking\", \"Tar\", style=\"dashed\")\n",
        "g.edge(\"Tar\", \"LungCancer\", style=\"dashed\")\n",
        "\n",
        "g"
      ],
      "id": "be20c4fb"
    },
    {
      "cell_type": "markdown",
      "metadata": {},
      "source": [
        "## The Front Door Criterion\n",
        "\n",
        "``` python\n",
        "g = gr.Digraph()\n",
        "g.edge(\"LotsOfStuff\", \"Smoking\")\n",
        "g.edge(\"LotsOfStuff\", \"LungCancer\")\n",
        "g.edge(\"Smoking\", \"Tar\", style=\"dashed\")\n",
        "g.edge(\"Tar\", \"LungCancer\", style=\"dashed\")\n",
        "\n",
        "g\n",
        "```\n",
        "\n",
        "![](attachment:using_dags_files/figure-ipynb/cell-9-output-1.svg)\n",
        "\n",
        "-   In this example, we want to know the effect of smoking on lung\n",
        "    cancer, but we also know that there are lots of variables (like\n",
        "    stress), that cause both the treatment and the outcome.\n",
        "\n",
        "-   However, stress does not cause tar, so we can condition on tar.\n",
        "\n",
        "    -   This works by first measuring the effect of tar on lung cancer,\n",
        "        and *then* the effect of smoking on tar.\n",
        "\n",
        "## The Back Door Criterion\n",
        "\n",
        "-   It’s pretty rare that we’ll actually be able to use the front door\n",
        "    criterion, because we usually don’t have a mediator that we can\n",
        "    condition on.\n",
        "\n",
        "-   Instead, we can close all of the “back door paths” from treatment to\n",
        "    outcome. We have already seen an example of this."
      ],
      "attachments": {
        "using_dags_files/figure-ipynb/cell-9-output-1.svg": {
          "image/svg+xml": "PD94bWwgdmVyc2lvbj0iMS4wIiBlbmNvZGluZz0iVVRGLTgiIHN0YW5kYWxvbmU9Im5vIj8+Cjwh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\nZz4KPC9zdmc+Cg==\n"
        }
      },
      "id": "a72e59ed-6734-491d-af3e-2cb3dff1d76e"
    },
    {
      "cell_type": "code",
      "execution_count": 10,
      "metadata": {},
      "outputs": [
        {
          "output_type": "display_data",
          "metadata": {},
          "data": {
            "image/svg+xml": "PD94bWwgdmVyc2lvbj0iMS4wIiBlbmNvZGluZz0iVVRGLTgiIHN0YW5kYWxvbmU9Im5vIj8+Cjwh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\nL2c+CjwvZz4KPC9zdmc+Cg==\n"
          }
        }
      ],
      "source": [
        "g = gr.Digraph()\n",
        "\n",
        "g.node(\"Family Income\", style=\"filled\")\n",
        "g.edge(\"Family Income\", \"Educ\")\n",
        "g.edge(\"Educ\", \"Wage\", style=\"dashed\")\n",
        "\n",
        "g.node(\"SAT\", style=\"filled\")\n",
        "g.edge(\"SAT\", \"Educ\")\n",
        "\n",
        "g.node(\"Family Income\", style=\"filled\")\n",
        "g.edge(\"Family Income\", \"Wage\")\n",
        "\n",
        "g.edge(\"Intelligence\", \"SAT\")\n",
        "g.edge(\"Intelligence\", \"Wage\")\n",
        "g"
      ],
      "id": "a9a25c8c"
    },
    {
      "cell_type": "markdown",
      "metadata": {},
      "source": [
        "## Choosing Covariates: Two Examples"
      ],
      "id": "0604984e-de88-47ff-ba49-35b3274b564c"
    },
    {
      "cell_type": "code",
      "execution_count": 11,
      "metadata": {
        "output-location": "column"
      },
      "outputs": [
        {
          "output_type": "display_data",
          "metadata": {},
          "data": {
            "image/svg+xml": "PD94bWwgdmVyc2lvbj0iMS4wIiBlbmNvZGluZz0iVVRGLTgiIHN0YW5kYWxvbmU9Im5vIj8+Cjwh\nRE9DVFlQRSBzdmcgUFVCTElDICItLy9XM0MvL0RURCBTVkcgMS4xLy9FTiIKICJodHRwOi8vd3d3\nLnczLm9yZy9HcmFwaGljcy9TVkcvMS4xL0RURC9zdmcxMS5kdGQiPgo8IS0tIEdlbmVyYXRlZCBi\neSBncmFwaHZpeiB2ZXJzaW9uIDIuNTAuMCAoMCkKIC0tPgo8IS0tIFBhZ2VzOiAxIC0tPgo8c3Zn\nIHdpZHRoPSIxMzRwdCIgaGVpZ2h0PSIxMTZwdCIKIHZpZXdCb3g9IjAuMDAgMC4wMCAxMzQuMDAg\nMTE2LjAwIiB4bWxucz0iaHR0cDovL3d3dy53My5vcmcvMjAwMC9zdmciIHhtbG5zOnhsaW5rPSJo\ndHRwOi8vd3d3LnczLm9yZy8xOTk5L3hsaW5rIj4KPGcgaWQ9ImdyYXBoMCIgY2xhc3M9ImdyYXBo\nIiB0cmFuc2Zvcm09InNjYWxlKDEgMSkgcm90YXRlKDApIHRyYW5zbGF0ZSg0IDExMikiPgo8cG9s\neWdvbiBmaWxsPSJ3aGl0ZSIgc3Ryb2tlPSJ0cmFuc3BhcmVudCIgcG9pbnRzPSItNCw0IC00LC0x\nMTIgMTMwLC0xMTIgMTMwLDQgLTQsNCIvPgo8IS0tIFQgLS0+CjxnIGlkPSJub2RlMSIgY2xhc3M9\nIm5vZGUiPgo8dGl0bGU+VDwvdGl0bGU+CjxlbGxpcHNlIGZpbGw9Im5vbmUiIHN0cm9rZT0iYmxh\nY2siIGN4PSIyNyIgY3k9Ii05MCIgcng9IjI3IiByeT0iMTgiLz4KPHRleHQgdGV4dC1hbmNob3I9\nIm1pZGRsZSIgeD0iMjciIHk9Ii04Ni4zIiBmb250LWZhbWlseT0iVGltZXMgTmV3IFJvbWFuLHNl\ncmlmIiBmb250LXNpemU9IjE0LjAwIj5UPC90ZXh0Pgo8L2c+CjwhLS0gWSAtLT4KPGcgaWQ9Im5v\nZGUyIiBjbGFzcz0ibm9kZSI+Cjx0aXRsZT5ZPC90aXRsZT4KPGVsbGlwc2UgZmlsbD0ibm9uZSIg\nc3Ryb2tlPSJibGFjayIgY3g9IjYzIiBjeT0iLTE4IiByeD0iMjciIHJ5PSIxOCIvPgo8dGV4dCB0\nZXh0LWFuY2hvcj0ibWlkZGxlIiB4PSI2MyIgeT0iLTE0LjMiIGZvbnQtZmFtaWx5PSJUaW1lcyBO\nZXcgUm9tYW4sc2VyaWYiIGZvbnQtc2l6ZT0iMTQuMDAiPlk8L3RleHQ+CjwvZz4KPCEtLSBUJiM0\nNTsmZ3Q7WSAtLT4KPGcgaWQ9ImVkZ2UxIiBjbGFzcz0iZWRnZSI+Cjx0aXRsZT5UJiM0NTsmZ3Q7\nWTwvdGl0bGU+CjxwYXRoIGZpbGw9Im5vbmUiIHN0cm9rZT0iYmxhY2siIHN0cm9rZS1kYXNoYXJy\nYXk9IjUsMiIgZD0iTTM1LjM1LC03Mi43NkMzOS43MSwtNjQuMjggNDUuMTUsLTUzLjcxIDUwLjA0\nLC00NC4yIi8+Cjxwb2x5Z29uIGZpbGw9ImJsYWNrIiBzdHJva2U9ImJsYWNrIiBwb2ludHM9IjUz\nLjIzLC00NS42NCA1NC43LC0zNS4xNSA0Ny4wMSwtNDIuNDQgNTMuMjMsLTQ1LjY0Ii8+CjwvZz4K\nPCEtLSBYIC0tPgo8ZyBpZD0ibm9kZTMiIGNsYXNzPSJub2RlIj4KPHRpdGxlPlg8L3RpdGxlPgo8\nZWxsaXBzZSBmaWxsPSJub25lIiBzdHJva2U9ImJsYWNrIiBjeD0iOTkiIGN5PSItOTAiIHJ4PSIy\nNyIgcnk9IjE4Ii8+Cjx0ZXh0IHRleHQtYW5jaG9yPSJtaWRkbGUiIHg9Ijk5IiB5PSItODYuMyIg\nZm9udC1mYW1pbHk9IlRpbWVzIE5ldyBSb21hbixzZXJpZiIgZm9udC1zaXplPSIxNC4wMCI+WDwv\ndGV4dD4KPC9nPgo8IS0tIFgmIzQ1OyZndDtZIC0tPgo8ZyBpZD0iZWRnZTIiIGNsYXNzPSJlZGdl\nIj4KPHRpdGxlPlgmIzQ1OyZndDtZPC90aXRsZT4KPHBhdGggZmlsbD0ibm9uZSIgc3Ryb2tlPSJi\nbGFjayIgZD0iTTkwLjY1LC03Mi43NkM4Ni4yOSwtNjQuMjggODAuODUsLTUzLjcxIDc1Ljk2LC00\nNC4yIi8+Cjxwb2x5Z29uIGZpbGw9ImJsYWNrIiBzdHJva2U9ImJsYWNrIiBwb2ludHM9Ijc4Ljk5\nLC00Mi40NCA3MS4zLC0zNS4xNSA3Mi43NywtNDUuNjQgNzguOTksLTQyLjQ0Ii8+CjwvZz4KPC9n\nPgo8L3N2Zz4K\n"
          }
        }
      ],
      "source": [
        "g = gr.Digraph()\n",
        "g.edge(\"T\", \"Y\", style=\"dashed\")\n",
        "g.edge(\"X\", \"Y\")\n",
        "g"
      ],
      "id": "24c5defc"
    },
    {
      "cell_type": "markdown",
      "metadata": {},
      "source": [
        "-   Do we need to condition on $X$?\n",
        "\n",
        "## Choosing Covariates: Two Examples"
      ],
      "id": "320f8345-1c3c-4693-9f4c-051dddb2652a"
    },
    {
      "cell_type": "code",
      "execution_count": 12,
      "metadata": {
        "output-location": "column"
      },
      "outputs": [
        {
          "output_type": "display_data",
          "metadata": {},
          "data": {
            "image/svg+xml": "PD94bWwgdmVyc2lvbj0iMS4wIiBlbmNvZGluZz0iVVRGLTgiIHN0YW5kYWxvbmU9Im5vIj8+Cjwh\nRE9DVFlQRSBzdmcgUFVCTElDICItLy9XM0MvL0RURCBTVkcgMS4xLy9FTiIKICJodHRwOi8vd3d3\nLnczLm9yZy9HcmFwaGljcy9TVkcvMS4xL0RURC9zdmcxMS5kdGQiPgo8IS0tIEdlbmVyYXRlZCBi\neSBncmFwaHZpeiB2ZXJzaW9uIDIuNTAuMCAoMCkKIC0tPgo8IS0tIFBhZ2VzOiAxIC0tPgo8c3Zn\nIHdpZHRoPSIxMzRwdCIgaGVpZ2h0PSIxMTZwdCIKIHZpZXdCb3g9IjAuMDAgMC4wMCAxMzQuMDAg\nMTE2LjAwIiB4bWxucz0iaHR0cDovL3d3dy53My5vcmcvMjAwMC9zdmciIHhtbG5zOnhsaW5rPSJo\ndHRwOi8vd3d3LnczLm9yZy8xOTk5L3hsaW5rIj4KPGcgaWQ9ImdyYXBoMCIgY2xhc3M9ImdyYXBo\nIiB0cmFuc2Zvcm09InNjYWxlKDEgMSkgcm90YXRlKDApIHRyYW5zbGF0ZSg0IDExMikiPgo8cG9s\neWdvbiBmaWxsPSJ3aGl0ZSIgc3Ryb2tlPSJ0cmFuc3BhcmVudCIgcG9pbnRzPSItNCw0IC00LC0x\nMTIgMTMwLC0xMTIgMTMwLDQgLTQsNCIvPgo8IS0tIFQgLS0+CjxnIGlkPSJub2RlMSIgY2xhc3M9\nIm5vZGUiPgo8dGl0bGU+VDwvdGl0bGU+CjxlbGxpcHNlIGZpbGw9Im5vbmUiIHN0cm9rZT0iYmxh\nY2siIGN4PSIyNyIgY3k9Ii05MCIgcng9IjI3IiByeT0iMTgiLz4KPHRleHQgdGV4dC1hbmNob3I9\nIm1pZGRsZSIgeD0iMjciIHk9Ii04Ni4zIiBmb250LWZhbWlseT0iVGltZXMgTmV3IFJvbWFuLHNl\ncmlmIiBmb250LXNpemU9IjE0LjAwIj5UPC90ZXh0Pgo8L2c+CjwhLS0gWSAtLT4KPGcgaWQ9Im5v\nZGUyIiBjbGFzcz0ibm9kZSI+Cjx0aXRsZT5ZPC90aXRsZT4KPGVsbGlwc2UgZmlsbD0ibm9uZSIg\nc3Ryb2tlPSJibGFjayIgY3g9IjYzIiBjeT0iLTE4IiByeD0iMjciIHJ5PSIxOCIvPgo8dGV4dCB0\nZXh0LWFuY2hvcj0ibWlkZGxlIiB4PSI2MyIgeT0iLTE0LjMiIGZvbnQtZmFtaWx5PSJUaW1lcyBO\nZXcgUm9tYW4sc2VyaWYiIGZvbnQtc2l6ZT0iMTQuMDAiPlk8L3RleHQ+CjwvZz4KPCEtLSBUJiM0\nNTsmZ3Q7WSAtLT4KPGcgaWQ9ImVkZ2UxIiBjbGFzcz0iZWRnZSI+Cjx0aXRsZT5UJiM0NTsmZ3Q7\nWTwvdGl0bGU+CjxwYXRoIGZpbGw9Im5vbmUiIHN0cm9rZT0iYmxhY2siIHN0cm9rZS1kYXNoYXJy\nYXk9IjUsMiIgZD0iTTM1LjM1LC03Mi43NkMzOS43MSwtNjQuMjggNDUuMTUsLTUzLjcxIDUwLjA0\nLC00NC4yIi8+Cjxwb2x5Z29uIGZpbGw9ImJsYWNrIiBzdHJva2U9ImJsYWNrIiBwb2ludHM9IjUz\nLjIzLC00NS42NCA1NC43LC0zNS4xNSA0Ny4wMSwtNDIuNDQgNTMuMjMsLTQ1LjY0Ii8+CjwvZz4K\nPCEtLSBYIC0tPgo8ZyBpZD0ibm9kZTMiIGNsYXNzPSJub2RlIj4KPHRpdGxlPlg8L3RpdGxlPgo8\nZWxsaXBzZSBmaWxsPSJub25lIiBzdHJva2U9ImJsYWNrIiBjeD0iOTkiIGN5PSItOTAiIHJ4PSIy\nNyIgcnk9IjE4Ii8+Cjx0ZXh0IHRleHQtYW5jaG9yPSJtaWRkbGUiIHg9Ijk5IiB5PSItODYuMyIg\nZm9udC1mYW1pbHk9IlRpbWVzIE5ldyBSb21hbixzZXJpZiIgZm9udC1zaXplPSIxNC4wMCI+WDwv\ndGV4dD4KPC9nPgo8IS0tIFgmIzQ1OyZndDtZIC0tPgo8ZyBpZD0iZWRnZTIiIGNsYXNzPSJlZGdl\nIj4KPHRpdGxlPlgmIzQ1OyZndDtZPC90aXRsZT4KPHBhdGggZmlsbD0ibm9uZSIgc3Ryb2tlPSJi\nbGFjayIgZD0iTTkwLjY1LC03Mi43NkM4Ni4yOSwtNjQuMjggODAuODUsLTUzLjcxIDc1Ljk2LC00\nNC4yIi8+Cjxwb2x5Z29uIGZpbGw9ImJsYWNrIiBzdHJva2U9ImJsYWNrIiBwb2ludHM9Ijc4Ljk5\nLC00Mi40NCA3MS4zLC0zNS4xNSA3Mi43NywtNDUuNjQgNzguOTksLTQyLjQ0Ii8+CjwvZz4KPC9n\nPgo8L3N2Zz4K\n"
          }
        }
      ],
      "source": [
        "g = gr.Digraph()\n",
        "g.edge(\"T\", \"Y\", style=\"dashed\")\n",
        "g.edge(\"X\", \"Y\")\n",
        "g"
      ],
      "id": "574e0373"
    },
    {
      "cell_type": "markdown",
      "metadata": {},
      "source": [
        "-   Do we need to condition on $X$?\n",
        "    -   No, not necessarily. There is no unblocked dependence path\n",
        "        between $T$ and $Y$ that goes through $X$.\n",
        "    -   However, conditioning on $X$ will reduce the variance of our\n",
        "        estimate!\n",
        "    -   If we didn’t condition on $X$, it would become part of our\n",
        "        estimation error. But since $X \\perp T$, it won’t bias our\n",
        "        estimate.\n",
        "\n",
        "## Choosing Covariates: Two Examples"
      ],
      "id": "5f225f36-43e2-4d78-8641-9ba22077cb21"
    },
    {
      "cell_type": "code",
      "execution_count": 13,
      "metadata": {
        "output-location": "column"
      },
      "outputs": [
        {
          "output_type": "display_data",
          "metadata": {},
          "data": {
            "image/svg+xml": "PD94bWwgdmVyc2lvbj0iMS4wIiBlbmNvZGluZz0iVVRGLTgiIHN0YW5kYWxvbmU9Im5vIj8+Cjwh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\nCjwvZz4KPC9nPgo8L3N2Zz4K\n"
          }
        }
      ],
      "source": [
        "g = gr.Digraph()\n",
        "g.edge(\"R\", \"T\")\n",
        "g.edge(\"C\", \"T\")\n",
        "g.edge(\"C\", \"Y\")\n",
        "g.edge(\"T\", \"Y\", style=\"dashed\")\n",
        "g"
      ],
      "id": "6aa0e5e9"
    },
    {
      "cell_type": "markdown",
      "metadata": {},
      "source": [
        "-   Suppose we don’t have any data on $C$. Can we identify the treatment\n",
        "    effect?\n",
        "    -   Yes! If we look at the effect of $R$ on $Y$, we can see that it\n",
        "        is unblocked.\n",
        "    -   Furthermore, since $R$ only affects $Y$ through $T$, the effect\n",
        "        of $R$ on $Y$ is the same as the effect of $T$ on $Y$.\n",
        "    -   This is called an **instrumental variable**.\n",
        "\n",
        "# Factorizing the Joint Distribution\n",
        "\n",
        "## Factorizing the Joint Distribution\n",
        "\n",
        "-   We have seen how these graphical models can be used to determine\n",
        "    whether or not we can identify a treatment effect.\n",
        "\n",
        "-   However, we can also use them as a computational tool, to help us\n",
        "    find the simplest representation of the joint distribution of the\n",
        "    data.\n",
        "\n",
        "-   This is useful because it allows us to find the simplest model that\n",
        "    is consistent with our assumptions about conditional independence.\n",
        "\n",
        "## Factorizing the Joint Distribution\n",
        "\n",
        "-   To understand why this is useful, we’ll follow this example (from\n",
        "    [Mark\n",
        "    Paskin](http://ai.stanford.edu/~paskin/gm-short-course/lec2.pdf)).\n",
        "\n",
        "-   Suppose we have a DGP with five variables:\n",
        "\n",
        "    1.  $E\\in\\{true, false\\}$ - Has an earthquake happened? *Earthquakes\n",
        "        are unlikely*\n",
        "    2.  $B\\in\\{true, false\\}$ - Has a burglary happened? *Burglaries are\n",
        "        unlikely, but more likely than earthquakes*\n",
        "    3.  $A\\in\\{true, false\\}$ - Is the alarm going off? *The alarm is\n",
        "        triggered by both earthquakes and burglaries*\n",
        "    4.  $J\\in\\{true, false\\}$ - Is John calling? *John calls when he\n",
        "        hears the alarm, but he often misses it*\n",
        "    5.  $M\\in\\{true, false\\}$ - Is Mary calling? *Mary calls when she\n",
        "        hears the alarm, but she also calls to chat*\n",
        "\n",
        "## Factorizing the Joint Distribution\n",
        "\n",
        "-   The goal is to compute $P(B|J=true)$ from the joint distribution\n",
        "    $P(E,B,A,J,M)$. We’ll start by drawing the graphical model, to\n",
        "    understand the conditional independence relationships."
      ],
      "id": "baa4bdb5-4e9e-4376-8e50-90392f8e6145"
    },
    {
      "cell_type": "code",
      "execution_count": 14,
      "metadata": {},
      "outputs": [
        {
          "output_type": "display_data",
          "metadata": {},
          "data": {
            "image/svg+xml": "PD94bWwgdmVyc2lvbj0iMS4wIiBlbmNvZGluZz0iVVRGLTgiIHN0YW5kYWxvbmU9Im5vIj8+Cjwh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\n"
          }
        }
      ],
      "source": [
        "g = gr.Digraph()\n",
        "g.edge(\"E\", \"A\")\n",
        "g.edge(\"B\", \"A\")\n",
        "g.edge(\"A\", \"J\")\n",
        "g.edge(\"A\", \"M\")\n",
        "\n",
        "g"
      ],
      "id": "e8c734a2"
    },
    {
      "cell_type": "markdown",
      "metadata": {},
      "source": [
        "## Factorizing the Joint Distribution"
      ],
      "id": "280f7f19-55be-493c-b21d-1aaf29b79351"
    },
    {
      "cell_type": "code",
      "execution_count": 15,
      "metadata": {},
      "outputs": [
        {
          "output_type": "display_data",
          "metadata": {},
          "data": {
            "image/svg+xml": "PD94bWwgdmVyc2lvbj0iMS4wIiBlbmNvZGluZz0iVVRGLTgiIHN0YW5kYWxvbmU9Im5vIj8+Cjwh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\n"
          }
        }
      ],
      "source": [
        "g"
      ],
      "id": "f9b611c1"
    },
    {
      "cell_type": "markdown",
      "metadata": {},
      "source": [
        "-   In order to represent the full joint distribution, we could use the\n",
        "    chain rule of probabilities:\n",
        "\n",
        "$$\n",
        "P(E,B,A,J,M) = P(E)P(B|E)P(A|E,B)P(J|E,B,A)P(M|E,B,A,J)\n",
        "$$\n",
        "\n",
        "-   Q: How many probabilities would we need to compute to represent the\n",
        "    joint distribution this way?\n",
        "\n",
        "## Factorizing the Joint Distribution"
      ],
      "id": "d223ee56-e877-4b85-81ce-923cc984f451"
    },
    {
      "cell_type": "code",
      "execution_count": 16,
      "metadata": {},
      "outputs": [
        {
          "output_type": "display_data",
          "metadata": {},
          "data": {
            "image/svg+xml": "PD94bWwgdmVyc2lvbj0iMS4wIiBlbmNvZGluZz0iVVRGLTgiIHN0YW5kYWxvbmU9Im5vIj8+Cjwh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\n"
          }
        }
      ],
      "source": [
        "g"
      ],
      "id": "05ef9f88"
    },
    {
      "cell_type": "markdown",
      "metadata": {},
      "source": [
        "-   In order to represent the full joint distribution, we could use the\n",
        "    chain rule of probabilities:\n",
        "\n",
        "$$\n",
        "\\underbrace{P(E,B,A,J,M)}_{31} = \\underbrace{P(E)}_{1} \\underbrace{P(B|E)}_{2} \\underbrace{P(A|E,B)}_{4} \\underbrace{P(J|E,B,A)}_{8} \\underbrace{P(M|E,B,A,J)}_{16}\n",
        "$$\n",
        "\n",
        "-   Q: How many probabilities would we need to store to represent the\n",
        "    joint distribution this way?\n",
        "    -   A: There are $2^5$ possible outcomes. We need 31 probabilities.\n",
        "        (why not 32?)\n",
        "\n",
        "## Factorizing the Joint Distribution"
      ],
      "id": "68eadcf7-a5fb-41e6-ad57-551042543f56"
    },
    {
      "cell_type": "code",
      "execution_count": 17,
      "metadata": {},
      "outputs": [
        {
          "output_type": "display_data",
          "metadata": {},
          "data": {
            "image/svg+xml": "PD94bWwgdmVyc2lvbj0iMS4wIiBlbmNvZGluZz0iVVRGLTgiIHN0YW5kYWxvbmU9Im5vIj8+Cjwh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\n"
          }
        }
      ],
      "source": [
        "g"
      ],
      "id": "72e8c4f9"
    },
    {
      "cell_type": "markdown",
      "metadata": {},
      "source": [
        "-   However, we can use the conditional independence relationships to\n",
        "    simplify this representation.\n",
        "    -   For example, we know that $P(B|E) = P(B)$, because $B$ and $E$\n",
        "        are independent.\n",
        "    -   We also know that $P(A|E,B) = P(A|B)$, because $A$ is\n",
        "        independent of $E$, given $B$.\n",
        "-   This means that we can simplify the joint distribution to:\n",
        "\n",
        "$$\n",
        "\\underbrace{P(E,B,A,J,M)}_{10} = \\underbrace{P(E)}_1 \\underbrace{P(B)}_1 \\underbrace{P(A|E,B)}_4 \\underbrace{P(J|A)}_2 \\underbrace{P(M|A)}_2\n",
        "$$\n",
        "\n",
        "## Factorizing the Joint Distribution\n",
        "\n",
        "-   Beyond causal inference, graphical models are a useful tool for\n",
        "    computing all kinds of conditional probabilities.\n",
        "\n",
        "-   This is useful in many inference problems, and in structural\n",
        "    econometrics\n",
        "\n",
        "    -   The **likelihood function** is the conditional probability of\n",
        "        the data, given the parameter values\n",
        "    -   In Bayesian inference the **posterior** is the conditional\n",
        "        probability of the parameters, given the data (and our priors)\n",
        "\n",
        "## Variable Elimination\n",
        "\n",
        "-   In order to simplify a conditional distribution, we can use\n",
        "    **variable elimination**.\n",
        "\n",
        "-   For example, let’s say we want to compute the probability of a\n",
        "    burglary, given that John calls.\n",
        "\n",
        "$$\n",
        "\\begin{aligned}\n",
        "&p_{B \\mid J}(b, \\text { true })  \\propto \\sum_e \\sum_a \\sum_m p_{E B A J M}(e, b, a, \\text { true }, m) \\\\\n",
        "& =\\sum_e \\sum_a \\sum_m p_E(e) \\cdot p_B(b) \\cdot p_{A \\mid E B}(a, e, b) \\cdot p_{J \\mid A}(\\text { true }, a) \\cdot p_{M \\mid A}(m, a)\n",
        "\\end{aligned}\n",
        "$$\n",
        "\n",
        "-   Then, we can reduce the computational complexity by eliminating\n",
        "    variables one at a time, exploiting the distributive property of\n",
        "    multiplication\n",
        "    -   $xy + xz = x(y + z)$.\n",
        "\n",
        "## Variable Elimination\n",
        "\n",
        "-   Variable elimination works like this:\n",
        "    -   Repeat the following steps:\n",
        "\n",
        "    1.  choose a variable to eliminate\n",
        "    2.  push in its sum as far as possible\n",
        "    3.  compute the sum, resulting in a new factor\n",
        "\n",
        "## Variable Elimination\n",
        "\n",
        "$$\n",
        "\\begin{aligned}\n",
        "&\\sum_e \\sum_a \\sum_m p_E(e) \\cdot p_B(b) \\cdot p_{A \\mid E B}(a, e, b) \\cdot p_{J \\mid A}(\\text { true }, a) \\cdot p_{M \\mid A}(m, a) \\\\\n",
        "& =\\sum_e \\sum_a p_E(e) \\cdot p_B(b) \\cdot p_{A \\mid E B}(a, e, b) \\cdot p_{J \\mid A}(\\text { true }, a) \\cdot \\sum_m p_{M \\mid A}(m, a) \\\\\n",
        "& =\\sum_e \\sum_a p_E(e) \\cdot p_B(b) \\cdot p_{A \\mid E B}(a, e, b) \\cdot p_{J \\mid A}(\\text { true }, a) \\cdot \\psi_A(a) \\\\\n",
        "& =\\sum_e p_E(e) \\cdot p_B(b) \\cdot \\sum_a p_{A \\mid E B}(a, e, b) \\cdot p_{J \\mid A}(\\text { true }, a) \\cdot \\psi_A(a) \\\\\n",
        "& =\\sum_e p_E(e) \\cdot p_B(b) \\cdot \\psi_{E B}(e, b) \\\\\n",
        "& =p_B(b) \\cdot \\sum_e p_E(e) \\cdot \\psi_{E B}(e, b) \\\\\n",
        "& =p_B(b) \\cdot \\psi_B(b)\n",
        "\\end{aligned}\n",
        "$$\n",
        "\n",
        "## Variable Elimination\n",
        "\n",
        "-   That’s a lot of math! But let’s focus on the first step: $$\n",
        "    \\begin{aligned}\n",
        "    & p_{B \\mid J}(b, \\text { true }) \\propto \\\\\n",
        "    &\\underbrace{\\underbrace{\\sum_e \\sum_a \\sum_m}_{2^3 = 8\\text{ iterations}} \\underbrace{p_E(e) \\cdot p_B(b) \\cdot p_{A \\mid E B}(a, e, b) \\cdot p_{J \\mid A}(\\text { true }, a) \\cdot p_{M \\mid A}(m, a)}_{4\\text{ multiplications}}}_{8*4=32\\text{ multiplications }+7\\text{ additions}=39\\text{ total operations}}\n",
        "    \\end{aligned}\n",
        "    $$\n",
        "\n",
        "## Variable Elimination\n",
        "\n",
        "-   That’s a lot of math! But let’s focus on the first step: $$\n",
        "    \\begin{aligned}\n",
        "    & p_{B \\mid J}(b, \\text { true }) \\propto \\\\\n",
        "    &\\underbrace{\\underbrace{\\sum_e \\sum_a \\sum_m}_{2^3 = 8\\text{ iterations}} \\underbrace{p_E(e) \\cdot p_B(b) \\cdot p_{A \\mid E B}(a, e, b) \\cdot p_{J \\mid A}(\\text { true }, a) \\cdot p_{M \\mid A}(m, a)}_{4\\text{ multiplications}}}_{8*4=32\\text{ multiplications }+7\\text{ additions}=39\\text{ total operations}} \\\\\\\\\n",
        "    & =\\underbrace{\\underbrace{\\sum_e \\sum_a}_{2^2 = 4\\text{ iterations}} \\underbrace{p_E(e) \\cdot p_B(b) \\cdot p_{A \\mid E B}(a, e, b) \\cdot p_{J \\mid A}(\\text { true }, a) \\cdot }_{4\\text{ multiplications}} \\underbrace{\\sum_m p_{M \\mid A}(m, a)}_{1\\text{ addition}}}_{4*(4\\text{ multiplications} + 1\\text{ addition}) + 3\\text{ additions} = 23\\text{ total operations}} \\\\\n",
        "    \\end{aligned}\n",
        "    $$\n",
        "\n",
        "## Variable Elimination\n",
        "\n",
        "-   Variable elimination is an algorithm that exploits our conditional\n",
        "    independence assumptions to reduce the computational complexity of\n",
        "    conditional probabilities.\n",
        "\n",
        "-   In this case, we were able to reduce the number of operations from\n",
        "    39 to 23 operations in just one step, each further step will\n",
        "    continue to reduce the complexity.\n",
        "\n",
        "-   This is a very simple example, because we only have 5 variables. In\n",
        "    practice, we might have hundreds or thousands of variables, and the\n",
        "    computational complexity can become very large.\n",
        "\n",
        "-   Systematic patterns of conditional independence can be exploited to\n",
        "    reduce the complexity of inference problems in some large models.\n",
        "\n",
        "## Credits\n",
        "\n",
        "This lecture draws heavily from [Causal Inference for the Brave and\n",
        "True: Chapter 04 - Graphical Causal\n",
        "Models](https://matheusfacure.github.io/python-causality-handbook/03-Stats-Review-The-Most-Dangerous-Equation.html.html)\n",
        "by Matheus Facure.\n",
        "\n",
        "There is also material from [A Short Course on Graphical Models Chapter\n",
        "2: Structured\n",
        "Representations](http://ai.stanford.edu/~paskin/gm-short-course/) by\n",
        "Mark Paskin.\n",
        "\n",
        "As well as [The Effect: Chapter 7 - Drawing Graphical\n",
        "Diagrams](https://theeffectbook.net/) by Nick Huntington-Klein."
      ],
      "id": "f851c630-c9fd-4f11-93ea-afc15986e52d"
    }
  ],
  "nbformat": 4,
  "nbformat_minor": 5,
  "metadata": {
    "kernelspec": {
      "name": "python3",
      "display_name": "Python 3 (ipykernel)",
      "language": "python"
    },
    "language_info": {
      "name": "python",
      "codemirror_mode": {
        "name": "ipython",
        "version": "3"
      },
      "file_extension": ".py",
      "mimetype": "text/x-python",
      "nbconvert_exporter": "python",
      "pygments_lexer": "ipython3",
      "version": "3.11.4"
    }
  }
}