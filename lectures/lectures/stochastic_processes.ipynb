{
  "cells": [
    {
      "cell_type": "markdown",
      "metadata": {},
      "source": [
        "# ECON526: Quantitative Economics with Data Science Applications\n",
        "\n",
        "Stochastic Processes, Markov Chains, and Expectations\n",
        "\n",
        "Jesse Perla (University of British Columbia)\n",
        "\n",
        "# Overview\n",
        "\n",
        "## Summary\n",
        "\n",
        "-   Here we build on the previous lecture on probability and\n",
        "    distributions to introduce stochastic processes, Markov processes,\n",
        "    and expectations/forecasts\n",
        "\n",
        "We will introduce,\n",
        "\n",
        "1.  **Stochastic Processes** a sequence of events where the probability\n",
        "    of the next event depends the past events\n",
        "2.  **Markov Processes** a stochastic process where the probability of\n",
        "    the next event depends only on the current event\n",
        "\n",
        "## Packages and Other Materials\n",
        "\n",
        "-   See the following for extra material - some of which were used in\n",
        "    these notes\n",
        "    -   <a href=\"https://intro.quantecon.org/markov_chains_I.html\"\n",
        "        target=\"_blank\">QuantEcon Markov Chains</a>\n",
        "    -   [Intermediate QuantEcon Markov\n",
        "        Chains](https://python.quantecon.org/finite_markov.html)\n",
        "    -   [QuantEcon AR1\n",
        "        Processes](https://python.quantecon.org/ar1_processes.html)"
      ],
      "id": "235967cd-199e-4304-a2f7-8fe99240a1f2"
    },
    {
      "cell_type": "code",
      "execution_count": 1,
      "metadata": {},
      "outputs": [
        {
          "output_type": "stream",
          "name": "stderr",
          "text": [
            "<frozen importlib._bootstrap>:228: RuntimeWarning:\n",
            "\n",
            "scipy._lib.messagestream.MessageStream size changed, may indicate binary incompatibility. Expected 56 from C header, got 64 from PyObject\n"
          ]
        }
      ],
      "source": [
        "import matplotlib.pyplot as plt\n",
        "import pandas as pd\n",
        "import numpy as np\n",
        "import scipy.stats\n",
        "import seaborn as sns\n",
        "from scipy.stats import rv_discrete\n",
        "from numpy.linalg import matrix_power"
      ],
      "id": "c9aef896"
    },
    {
      "cell_type": "markdown",
      "metadata": {},
      "source": [
        "# Stochastic and Markov Processes\n",
        "\n",
        "## Discrete-time Stochastic Process\n",
        "\n",
        "-   A **stochastic process** is a sequence of random variables\n",
        "    $\\{X_t\\}_{t=0}^{\\infty}$ [1]\n",
        "-   Events in $\\Omega$ are subtle to define because they contain nested\n",
        "    information\n",
        "    -   e.g. the realized random variable $X_t$ depends on $X_{t-1}$,\n",
        "        $X_{t-2}$, and changes the future random variables $X_{t+1}$,\n",
        "        $X_{t+2}$, etc.\n",
        "    -   Similarly, the probability of $X_{t+1}$ is effected by the\n",
        "        realized $X_t$ and $X_{t-1}$\n",
        "-   Intuitively we can work with each $\\{X_t\\}_{t=0}^{\\infty}$ and look\n",
        "    at conditional distributions by considering independence, etc.\n",
        "\n",
        "## Information Sets and Forecasts\n",
        "\n",
        "-   Expectations and conditional expectations give us notation for\n",
        "    making forecasts while carefully defining information available\n",
        "    -   More general, and not specific to stochastic processes or\n",
        "        forecasts\n",
        "    -   Might to “nowcast” or “smooth” to update your previous estimates\n",
        "-   To formalize\n",
        "    1.  Define **information set** as the known random variables\n",
        "    2.  Provide a random variable that is **forecast** using the\n",
        "        information set\n",
        "    3.  Typically, provide a function of the random variable of interest\n",
        "        and calculate the **conditional expectation** given the\n",
        "        information set\n",
        "\n",
        "## Forecasts and Conditional Probability Distributions\n",
        "\n",
        "-   Take a stochastic process $\\{X_t\\}_{t=0}^{\\infty}$\n",
        "\n",
        "-   Define the **information set** at $t$ as\n",
        "    $\\mathcal{I}_t \\equiv \\{X_0, X_1, \\ldots, X_t\\}$\n",
        "\n",
        "-   The **conditional probability** of $X_{t+1}$ given the information\n",
        "    set $\\mathcal{I}_t$ is\n",
        "\n",
        "    $$\n",
        "    \\mathbb{P}(X_{t+1} \\,|\\, X_t,X_{t-1},\\ldots X_0) \\equiv \\mathbb{P}(X_{t+1} \\,|\\, \\mathcal{I}_t)\n",
        "    $$\n",
        "\n",
        "    -   e.g. the probability of being unemployed, unemployed, or retired\n",
        "        next period given the full workforce history\n",
        "    -   Useful in macroeconomics when you want to formalize expectations\n",
        "        of the future, as well as econometrics when you want to update\n",
        "        estimates given different amounts of observation\n",
        "\n",
        "## Forecasts and Conditional Expectations\n",
        "\n",
        "-   You may instead be interested in a function, $f(\\cdot)$, of the\n",
        "    random variable (e.g., financial payoffs, utility, losses in\n",
        "    econometrics)\n",
        "\n",
        "-   Use the conditional probability of the forecasts for **conditional\n",
        "    expectations**\n",
        "\n",
        "    $$\n",
        "    \\mathbb{E}[f(X_{t+1}) \\,|\\, X_t,X_{t-1},\\ldots X_0] \\equiv \\mathbb{E}[f(X_{t+1}) \\,|\\, \\mathcal{I}_t]\n",
        "    $$\n",
        "\n",
        "    -   e.g. the expected utility of being unemployed next period given\n",
        "        the history of unemployment; or the expected dividends in a\n",
        "        portfolio next period given the history of dividends\n",
        "\n",
        "-   Standard properties of expectations hold conditioning on information\n",
        "    sets,\n",
        "\n",
        "    -   $\\mathbb{E}[A\\, X_{t+1} + B\\, Y_{t+1} \\,|\\, \\mathcal{I}_t] = A\\, \\mathbb{E}[X_{t+1} \\,|\\, \\mathcal{I}_t] + B\\, \\mathbb{E}[Y_{t+1} \\,|\\, \\mathcal{I}_t]$\n",
        "    -   $\\mathbb{E}[X_t \\,|\\, \\mathcal{I}_t] = X_t$, i.e., not\n",
        "        stochastic if the information set $X_t$\n",
        "\n",
        "## Easy Notation for Information Sets\n",
        "\n",
        "-   Information sets in stochastic processes are often just a sequence\n",
        "    for the entire history. Hence the time, $t$, is often sufficient\n",
        "-   Given $\\mathcal{I}_t \\equiv \\{X_0, X_1, \\ldots, X_t\\}$ for shorthand\n",
        "    we can denote\n",
        "\n",
        "$$\n",
        "\\begin{aligned}\n",
        "\\mathbb{E}[f(X_{t+1}) \\,|\\, X_t,X_{t-1},\\ldots X_0] &\\equiv \\mathbb{E}[f(X_{t+1}) \\,|\\, \\mathcal{I}_t]\\\\\n",
        "&\\equiv \\mathbb{E}_t[f(X_{t+1})]\n",
        "\\end{aligned}\n",
        "$$\n",
        "\n",
        "## Law of Iterated Expectations for Stochastic Processes\n",
        "\n",
        "-   Recall that $\\mathcal{I}_t \\subset \\mathcal{I}_{t+1}$ since\n",
        "    $X_{t+1}$ is known at $t+1$\n",
        "-   The **Law of Iterated Expectations** can be written as\n",
        "\n",
        "$$\n",
        "  \\begin{aligned}\n",
        "  \\mathbb{E}\\left[\\mathbb{E}[X_{t+2} \\,|\\, X_{t+1}, X_t, X_{t-1}, \\ldots]\\,|\\,X_t, X_{t-1}, \\ldots\\right] &= \\mathbb{E}[X_{t+2}\\,|\\,X_t, X_{t-1}, \\ldots]\\\\\n",
        "  \\mathbb{E}\\left[\\mathbb{E}[X_{t+2} \\,|\\, \\mathcal{I}_{t+1}]\\,|\\,\\mathcal{I}_t\\right] &= \\mathbb{E}[X_{t+2}\\,|\\,\\mathcal{I}_t]\\\\\n",
        "  \\mathbb{E}_t[\\mathbb{E}_{t+1}[X_{t+2}]] &= \\mathbb{E}_t[X_{t+2}]\n",
        "  \\end{aligned}\n",
        "  $$\n",
        "\n",
        "-   i.e. if I am forecasting my forecast, I can only use information\n",
        "    available today\n",
        "\n",
        "## Markov Processes\n",
        "\n",
        "-   **(1st-Order) Markov Process**: a stochastic process where the\n",
        "    conditional probability of the future is independent of the past\n",
        "    given the present\n",
        "\n",
        "    $$\n",
        "    \\mathbb{P}(X_{t+1} \\,|\\, X_t, X_{t-1}, \\ldots) = \\mathbb{P}(X_{t+1} \\,|\\, X_t)\n",
        "    $$\n",
        "\n",
        "    -   Or with information sets:\n",
        "        $\\mathbb{P}(X_{t+1} \\,|\\, \\mathcal{I}_t) = \\mathbb{P}(X_{t+1} \\,|\\, X_t)$\n",
        "    -   i.e., the present sufficiently summarizes the past for\n",
        "        predicting the future\n",
        "\n",
        "-   **Conditional expectations** are are then $$\n",
        "    \\mathbb{E}[f(X_{t+1}) \\,|\\,  X_t, X_{t-1},\\ldots X_0] = \\mathbb{E}[f(X_{t+1}) \\,|\\, X_t]\n",
        "    $$\n",
        "\n",
        "## Martingales\n",
        "\n",
        "-   A stochastic process $\\{X_t\\}_{t=0}^{\\infty}$ is a **martingale** if\n",
        "\n",
        "$$\n",
        "\\mathbb{E}[X_{t+1} \\,|\\, X_t, X_{t-1}, \\ldots, X_0] = X_t\n",
        "$$\n",
        "\n",
        "-   Not all martingales are Markov processes, but most of the ones you\n",
        "    will encounter are. If Markov,\n",
        "\n",
        "$$\n",
        "\\mathbb{E}[X_{t+1} \\,|\\, X_t] = X_t,\\quad \\text{ or } \\quad \\mathbb{E}_t[X_{t+1}] = X_t\n",
        "$$\n",
        "\n",
        "See\n",
        "[here](https://en.wikipedia.org/wiki/Martingale_(probability_theory))\n",
        "for a more formal definition with the complete set of requirements\n",
        "\n",
        "## Random Walks\n",
        "\n",
        "-   Let $X_t \\in \\{-\\infty, \\ldots, -1, 0, 1, \\ldots \\infty\\}$\n",
        "\n",
        "-   A simple two-state random walk can be written as the following\n",
        "    transition\n",
        "\n",
        "    $$\n",
        "    \\mathbb{P}(X_{t+1} = X_t + 1\\,|\\,X_t) = \\mathbb{P}(X_{t+1} = X_t - 1\\,|\\,X_t) = \\frac{1}{2}\n",
        "    $$\n",
        "\n",
        "-   Markov since $X_t$ summarizes the past. Martingale?\n",
        "\n",
        "$$\n",
        "\\begin{aligned}\n",
        "\\mathbb{E}(X_{t+1} \\,|\\, X_t) &= \\mathbb{P}(X_{t+1} = X_t+1\\,|\\,X_t)\\times (X_t+1)\\\\\n",
        "& + \\mathbb{P}(X_{t+1} = X_t-1\\,|\\,X_t)\\times (X_t-1)\\\\\n",
        "&= \\frac{1}{2} (X_t + 1) + \\frac{1}{2} (X_t - 1) = X_t\n",
        "\\end{aligned}\n",
        "$$\n",
        "\n",
        "## Implementation in Python\n",
        "\n",
        "-   Generic code to simulate a random walk with IID steps\n",
        "\n",
        "[1] See formal definition\n",
        "[here](https://en.wikipedia.org/wiki/Stochastic_process#Definitions)"
      ],
      "id": "f742962f-050a-4a16-9a15-7866de7bb76b"
    },
    {
      "cell_type": "code",
      "execution_count": 2,
      "metadata": {
        "output-location": "column"
      },
      "outputs": [
        {
          "output_type": "display_data",
          "metadata": {},
          "data": {
            "image/png": "[encoded data removed]"
          }
        }
      ],
      "source": [
        "def simulate_walk(rv, X_0, T):\n",
        "  X = np.zeros((X_0.shape[0], T+1))\n",
        "  X[:, 0] = X_0\n",
        "  for t in range(1, T+1):\n",
        "    X[:, t] = X[:, t-1] \\\n",
        "              +rv.rvs(size=X_0.shape[0])\n",
        "  return X\n",
        "steps = np.array([-1, 1])\n",
        "probs = np.array([0.5, 0.5])\n",
        "rv = rv_discrete(values=(steps, probs))\n",
        "X_0 = np.array([0.0, 0.0, 0.0])\n",
        "X = simulate_walk(rv, X_0, 10)\n",
        "plt.figure()\n",
        "plt.plot(X.T)"
      ],
      "id": "005eeae0"
    },
    {
      "cell_type": "markdown",
      "metadata": {},
      "source": [
        "## Visualizing the Distribution of Many Trajectories\n",
        "\n",
        "-   $\\mathbb{E}_0[X_t] \\to 0$ for finite $t$ as $t \\to \\infty$\n",
        "-   But is there a limiting distribution of $X_t$ as $X_t \\to \\infty$?"
      ],
      "id": "66b6dcd4-6166-4463-992d-6c9d573b4e9b"
    },
    {
      "cell_type": "code",
      "execution_count": 3,
      "metadata": {
        "output-location": "slide"
      },
      "outputs": [
        {
          "output_type": "display_data",
          "metadata": {},
          "data": {
            "image/png": "[encoded data removed]"
          }
        }
      ],
      "source": [
        "num_trajectories, T = 100, 20\n",
        "X = simulate_walk(rv, np.zeros(num_trajectories), T)\n",
        "percentiles = np.percentile(X, [50, 5, 95], axis=0)\n",
        "fig, ax = plt.subplots()\n",
        "plt.plot(np.arange(T+1), percentiles[0,:], alpha=0.5, label='Median')\n",
        "plt.fill_between(np.arange(T+1), percentiles[1,:], percentiles[2,:],\n",
        "  alpha=0.5, label='5th-95th Percentile')\n",
        "plt.xlabel('t')\n",
        "ax.set_xticks(np.arange(T+1))\n",
        "plt.legend()\n",
        "plt.grid(True)"
      ],
      "id": "4272cc9b"
    },
    {
      "cell_type": "markdown",
      "metadata": {},
      "source": [
        "## AR(1) Processes\n",
        "\n",
        "-   An **auto-regressive process** of order 1, AR(1), is the Markov\n",
        "    process\n",
        "\n",
        "    $$\n",
        "    X_{t+1} = \\rho X_t + \\sigma \\epsilon_{t+1}\n",
        "    $$\n",
        "\n",
        "    -   $\\rho$ is the **persistence** of the process, $\\sigma\\geq 0$ is\n",
        "        the **volatility**\n",
        "    -   $\\epsilon_{t+1}$ is a random shock, we will assume\n",
        "        $\\mathcal{N}(0,1)$\n",
        "\n",
        "-   Can show $X_{t+1}\\,|\\,X_t \\sim \\mathcal{N}(\\rho X_t, \\sigma^2)$ and\n",
        "    hence\n",
        "\n",
        "$$\n",
        "\\mathbb{E}_t[X_{t+1}] = \\rho X_t,\\quad \\mathbb{V}_t[X_{t+1}] = \\sigma^2\n",
        "$$\n",
        "\n",
        "For much more, see [QuantEcon Lectures on\n",
        "AR(1)](https://python.quantecon.org/ar1_processes.html)\n",
        "\n",
        "## Stationarity and Unit Roots\n",
        "\n",
        "-   **Unit roots** are a special case of AR(1) processes where\n",
        "    $\\rho = 1$\n",
        "-   They are important in econometrics because they tell us if processes\n",
        "    have permanent or transitory changes\n",
        "    -   The econometrics of finding whether $\\rho = 1$ are subtle and\n",
        "        important\n",
        "-   Note that if $\\rho = 1$ then this is a **martingale** since\n",
        "    $\\mathbb{E}_t[X_{t+1}] = X_t$\n",
        "-   These are an important example of a **non-stationary process**.\n",
        "-   Intuitively: stationary if $X_t$ distribution has well-defined limit\n",
        "    as $t \\to \\infty$\n",
        "    -   Key requirements: $\\lim_{t\\to\\infty}|\\mathbb{E}[X_t]| < \\infty$\n",
        "        and $\\lim_{t\\to\\infty}\\mathbb{V}(X_t) < \\infty$\n",
        "\n",
        "See [here](https://en.wikipedia.org/wiki/Stationary_process) for a\n",
        "rigorous definitions and different types of stationarity and discussion\n",
        "of auto-covariance\n",
        "\n",
        "## Simulating Unit Root"
      ],
      "id": "76915a9b-59c7-453a-b9aa-a6470c36f183"
    },
    {
      "cell_type": "code",
      "execution_count": 4,
      "metadata": {
        "output-location": "column"
      },
      "outputs": [
        {
          "output_type": "display_data",
          "metadata": {},
          "data": {
            "image/png": "[encoded data removed]"
          }
        }
      ],
      "source": [
        "X_0 = np.array([0.0, 0.0, 0.0])\n",
        "rv_epsilon = scipy.stats.norm(loc=0, scale=1) \n",
        "X = simulate_walk(rv_epsilon, X_0, 10)\n",
        "plt.figure()\n",
        "plt.plot(X.T)"
      ],
      "id": "5edbae86"
    },
    {
      "cell_type": "markdown",
      "metadata": {},
      "source": [
        "## Visualizing the Distribution of Many Trajectories"
      ],
      "id": "888466e9-4ab9-48d9-a6f8-a580fd17c517"
    },
    {
      "cell_type": "code",
      "execution_count": 5,
      "metadata": {},
      "outputs": [
        {
          "output_type": "display_data",
          "metadata": {},
          "data": {
            "image/png": "[encoded data removed]"
          }
        }
      ],
      "source": [
        "num_trajectories, T = 500, 30\n",
        "X = simulate_walk(rv_epsilon, np.zeros(num_trajectories), T)\n",
        "percentiles = np.percentile(X, [50, 5, 95], axis=0)\n",
        "fig, ax = plt.subplots()\n",
        "plt.plot(np.arange(T+1), percentiles[0,:], alpha=0.5, label='Median')\n",
        "plt.fill_between(np.arange(T+1), percentiles[1,:], percentiles[2,:],\n",
        "  alpha=0.5, label='5th-95th Percentile')\n",
        "plt.xlabel('t')\n",
        "ax.set_xticks(np.arange(T+1))\n",
        "plt.legend()\n",
        "plt.show()"
      ],
      "id": "237cd003"
    },
    {
      "cell_type": "markdown",
      "metadata": {},
      "source": [
        "## Martingales and Arbitrage in Finance\n",
        "\n",
        "-   **Random Walks** are a key model in finance\n",
        "    -   e.g. stock prices, exchange rates, etc.\n",
        "-   Central to no-arbitrage pricing, after adjusting to interest\n",
        "    rates/risk/etc.\n",
        "    -   e.g. if you could predict the future price of a stock, you could\n",
        "        make money by buying/selling today\n",
        "    -   Martingales have no systematic drift which leads to a key source\n",
        "        of arbitrage (especially with options/derivatives)\n",
        "-   Does this prediction hold up in the data? Generally yes, but depends\n",
        "    on how you handle risk/etc.\n",
        "    -   If it were systematically wrong then hedge funds and traders\n",
        "        would be far richer than they are now\n",
        "\n",
        "## Information and Arbitrage\n",
        "\n",
        "$$\n",
        "\\mathbb{E}[X_{t+1}\\,|\\,\\mathcal{I}_t] = X_t\\\\\n",
        "$$\n",
        "\n",
        "-   Given all of the information available, the best forecast of the\n",
        "    future is the current price. Plenty of variables in $\\mathcal{I}_t$\n",
        "    for individuals, including public prices\n",
        "\n",
        "-   Does this mean there is never arbitrage?\n",
        "\n",
        "    -   No, just that it may be short-term because prices feed back into\n",
        "        $\\mathcal{I}_t$\n",
        "    -   So some individuals make short term money given private\n",
        "        information, but that information quickly becomes reflecting in\n",
        "        other people’s information sets (typically through prices)\n",
        "    -   How, and how quickly markets aggregate information is a key\n",
        "        question in financial economics\n",
        "\n",
        "# Markov Chains\n",
        "\n",
        "## Discrete-Time Markov Chains\n",
        "\n",
        "-   A **Markov Chain** is a Markov process with a finite number of\n",
        "    states\n",
        "\n",
        "    -   $X_t \\in \\{0, \\ldots, N-1\\}$ be a sequence of Markov random\n",
        "        variables\n",
        "    -   In discrete time it can be represented by a **transition\n",
        "        matrix** $P$ where\n",
        "\n",
        "    $$\n",
        "    P_{ij} \\equiv \\mathbb{P}(X_{t+1} = j \\,|\\, X_t = i)\n",
        "    $$\n",
        "\n",
        "-   We are counting from $0$ to $N-1$ for coding convenience in Python.\n",
        "    Names of discrete states are arbitrary!\n",
        "\n",
        "    -   Count from 1 in R, Julia, Matlab, Fortran, instead\n",
        "\n",
        "A [continuous-time Markov\n",
        "Chain](https://en.wikipedia.org/wiki/Continuous-time_Markov_chain#:~:text=A%20continuous%2Dtime%20Markov%20chain,probabilities%20of%20a%20stochastic%20matrix.)\n",
        "instead uses a **transition rate matrix** $\\Lambda$ where\n",
        "$\\Lambda_{ij} = \\lambda_{ij}$ is the rate of transitioning from state\n",
        "$i$ to state $j$. All rows such to $0$ rather than $1$. Many properties\n",
        "have analogies, for example there is an eigenvalue of $0$ rather than an\n",
        "eigenvalue of $1$\n",
        "\n",
        "## Stochastic Matrices\n",
        "\n",
        "-   $P$ is a [stochastic\n",
        "    matrix](https://en.wikipedia.org/wiki/Stochastic_matrix) if\n",
        "    -   $\\sum_{j=0}^{N-1} P_{ij} = 1$ for all $i$, i.e. rows are\n",
        "        conditional distributions\n",
        "-   **Key Property:**\n",
        "    -   One (or more) eigenvalue of $1$ with associated left-eigenvector\n",
        "        $\\pi$ $$\n",
        "        \\pi P = \\pi\n",
        "        $$\n",
        "    -   Equivalently the right eigenvector with eigenvalue $=1$ $$\n",
        "        P^{\\top}\\pi^{\\top} =   \\pi^{\\top}\n",
        "        $$\n",
        "    -   Where we can normalize to $\\sum_{n=0}^{N-1} \\pi_i = 1$\n",
        "\n",
        "## Transitions and Conditional Distributions\n",
        "\n",
        "-   The $P$ summarizes all transitions. Let $X_t$ be the state at time\n",
        "    $t$ which in general is a probability distribution with pmf $\\pi_t$\n",
        "\n",
        "-   Can show that the evolution of this distribution is given by\n",
        "\n",
        "    $$\n",
        "    \\pi_{t+1} = \\pi_t \\cdot P\n",
        "    $$\n",
        "\n",
        "-   And hence given some $X_t$ we can forecast the distribution of\n",
        "    $X_{t+j}$ with\n",
        "\n",
        "    $$\n",
        "    X_{t+j}\\,|\\,X_t \\sim \\pi_t \\cdot P^j\n",
        "    $$\n",
        "\n",
        "    -   i.e., using the matrix power we discussed in previous lectures\n",
        "\n",
        "## Stationary Distribution\n",
        "\n",
        "-   Take some $X_t$ initial condition, does this converge?\n",
        "\n",
        "    $$\n",
        "    \\lim_{j\\to\\infty} X_{t+j}\\,|\\,X_t = \\lim_{j\\to\\infty} \\pi_t \\cdot P^j = \\pi_{\\infty}?\n",
        "    $$\n",
        "\n",
        "    -   Does it exist? Is it unique?\n",
        "\n",
        "-   How does it compare to fixed point below, i.e. does\n",
        "    $\\bar{\\pi} = \\pi_{\\infty}$ for all $X_t$?\n",
        "\n",
        "    $$\n",
        "    \\bar{\\pi} = \\bar{\\pi} \\cdot P\n",
        "    $$\n",
        "\n",
        "    -   This is the eigenvector associated with the eigenvalue of $1$ of\n",
        "        $P^{\\top}$\n",
        "    -   Can prove there is always at least one. If more than one,\n",
        "        multiplicity\n",
        "\n",
        "The conditions for stationary distributions, uniqueness, etc. are\n",
        "covered [here](https://intro.quantecon.org/markov_chains_II.html)\n",
        "\n",
        "## Conditional Expectations\n",
        "\n",
        "-   Given the conditional probabilities, expectations are easy\n",
        "-   Now assign $X_t$ as a random variable with values $x_1, \\ldots x_N$\n",
        "    and pmf $\\pi_t$\n",
        "-   Define $x \\equiv \\begin{bmatrix}x_0 & \\ldots & x_{N-1}\\end{bmatrix}$\n",
        "-   From definition of conditional expectations\n",
        "\n",
        "$$\n",
        "\\mathbb{E}[X_{t+j} \\,|\\, X_t] = \\sum_{i=0}^{N-1} x_i \\pi_{t+j,i} = (\\pi_t \\cdot P^j) \\cdot x\n",
        "$$\n",
        "\n",
        "## Example of Markov Chain: Employment Status\n",
        "\n",
        "-   Employment(E) in state $0$, Unemployment(U) in state $1$\n",
        "-   $\\mathbb{P}(U\\,|\\,E) = a$ and $\\mathbb{P}(E\\,|\\,E) = 1 - a$\n",
        "-   $\\mathbb{P}(E\\,|\\,U) = b$ and $\\mathbb{P}(U\\,|\\,U) = 1 - b$\n",
        "-   Transition matrix $P\\equiv$ $$\n",
        "     \\begin{array}{c@{\\hspace{1em}}c}\n",
        "    & \n",
        "    \\begin{array}{cc}\n",
        "      \\underbrace{\\scriptstyle X_{t+1} = E}_{\\phantom{1-a}} & \\underbrace{\\scriptstyle X_{t+1} = U}_{\\phantom{a}}\n",
        "    \\end{array}\n",
        "    \\\\\n",
        "    \\begin{array}{c}\n",
        "      \\scriptstyle X_t = E\\,\\Big\\} \\\\\n",
        "      \\scriptstyle X_t = U\\,\\Big\\}\n",
        "    \\end{array}\n",
        "    &\n",
        "    \\left[\\begin{array}{cc}\n",
        "      1-a & a \\\\\n",
        "      b & 1-b\n",
        "    \\end{array}\\right]\n",
        "    \\end{array}\n",
        "    $$\n",
        "\n",
        "## Visualizing the Chain"
      ],
      "id": "0ef7b268-2d23-46ec-9668-0e95721441dc"
    },
    {
      "cell_type": "code",
      "execution_count": null,
      "metadata": {},
      "outputs": [
        {
          "output_type": "display_data",
          "metadata": {},
          "data": {
            "text/html": [
              "</svg>"
            ]
          }
        }
      ],
      "source": [],
      "id": "ce19a86a-55e5-4079-982f-5e5dad199156"
    },
    {
      "cell_type": "markdown",
      "metadata": {},
      "source": [
        "## Transitions and Probabilities\n",
        "\n",
        "-   Let $\\pi_0 \\equiv \\begin{bmatrix}1 & 0\\end{bmatrix}^{\\top}$,\n",
        "    i.e. $\\mathbb{P}(X_0 = E) = 1$\n",
        "-   The distribution of $X_1$ is then $\\pi_1 = \\pi_0 \\cdot P$\n",
        "    -   $\\mathbb{P}(X_1 = E\\,|\\,X_0=E) = \\pi_{11}$ (first element)\n",
        "    -   Can use to forecast probability of employment $j$ periods in\n",
        "        future\n",
        "-   Can also use our conditional expectations to calculate expected\n",
        "    income\n",
        "    -   Define income in E state as $100,000$ and $20,000$ in the U\n",
        "    -   $x \\equiv \\begin{bmatrix}100,000 & 20,000\\end{bmatrix}^{\\top}$\n",
        "\n",
        "$$\n",
        "\\mathbb{E}[X_{t+j} \\,|\\, X_t = E] = (\\begin{bmatrix}1 & 0\\end{bmatrix} \\cdot P^j) \\cdot x\n",
        "$$\n",
        "\n",
        "## Coding Markov Chain in Python\n",
        "\n",
        "-   We can make simulation easier if turn rows into conditional\n",
        "    distributions\n",
        "-   Count states from $0$ to make coding easier, i.e. $E = 0$ and\n",
        "    $U = 1$"
      ],
      "id": "ed158652-e53c-404d-8204-b3b64dc8bd53"
    },
    {
      "cell_type": "code",
      "execution_count": 6,
      "metadata": {
        "output-location": "column"
      },
      "outputs": [
        {
          "output_type": "stream",
          "name": "stdout",
          "text": [
            "X_0 = 0, X_1 = 0\n",
            "X_t indices =\n",
            " [0 0 0 0 1 1 0 0 0 0 0]"
          ]
        }
      ],
      "source": [
        "a, b = 0.05, 0.1\n",
        "P = np.array([[1-a, a],  # P(X | E)\n",
        "              [b, 1-b]]) # P(X | U)\n",
        "N = P.shape[0]\n",
        "P_rv = [rv_discrete(values=(np.arange(0,N),\n",
        "                    P[i,:])) for i in range(N)]\n",
        "X_0 = 0 # i.e. E\n",
        "X_1 = P_rv[X_0].rvs() # draw index | X_0                         \n",
        "print(f\"X_0 = {X_0}, X_1 = {X_1}\")\n",
        "T = 10\n",
        "X = np.zeros(T+1, dtype=int)\n",
        "X[0] = X_0\n",
        "for t in range(T):\n",
        "  X[t+1] = P_rv[X[t]].rvs() # draw given X_t\n",
        "print(f\"X_t indices =\\n {X}\")"
      ],
      "id": "777b0e1e"
    },
    {
      "cell_type": "markdown",
      "metadata": {},
      "source": [
        "## Simulating Many Trajectories"
      ],
      "id": "908d9279-f3d3-45b2-ae8a-05156ba2be2c"
    },
    {
      "cell_type": "code",
      "execution_count": 7,
      "metadata": {
        "output-location": "slide"
      },
      "outputs": [
        {
          "output_type": "display_data",
          "metadata": {},
          "data": {
            "image/png": "[encoded data removed]"
          }
        }
      ],
      "source": [
        "def simulate_markov_chain(P, X_0, T):\n",
        "  N = P.shape[0]\n",
        "  num_chains = X_0.shape[0]\n",
        "  P_rv = [rv_discrete(values=(np.arange(0,N),\n",
        "                      P[i,:])) for i in range(N)]\n",
        "  X = np.zeros((num_chains, T+1), dtype=int)\n",
        "  X[:,0] = X_0\n",
        "  for t in range(T):\n",
        "      for n in range(num_chains):\n",
        "          X[n, t+1] = P_rv[X[n, t]].rvs()\n",
        "  return X\n",
        "X_0 = np.zeros(100, dtype=int) # 100 people start employed\n",
        "T = 40\n",
        "X = simulate_markov_chain(P, X_0, T)\n",
        "# Map indices to RV values\n",
        "values = np.array([100000.00, 20000.00]) # map state to value\n",
        "X_values = values[X] # just indexes by the X\n",
        "\n",
        "# Plot means\n",
        "X_mean = np.mean(X_values, axis=0)\n",
        "plt.plot(np.arange(0, T+1), X_mean)\n",
        "plt.xlabel('t')\n",
        "plt.ylabel('Mean Income')\n",
        "plt.show()"
      ],
      "id": "5d07e017"
    },
    {
      "cell_type": "markdown",
      "metadata": {},
      "source": [
        "## Visualizing the Distribution of Many Trajectories"
      ],
      "id": "b7807652-dd7c-4c15-a9b7-26fd6aa648aa"
    },
    {
      "cell_type": "code",
      "execution_count": 8,
      "metadata": {
        "output-location": "slide"
      },
      "outputs": [
        {
          "output_type": "display_data",
          "metadata": {},
          "data": {
            "image/png": "[encoded data removed]"
          }
        }
      ],
      "source": [
        "# Count the occurrences of each unique value at each time step\n",
        "unique_values = np.unique(X_values)\n",
        "counts = np.array([[np.sum(X_values[:, t] == val) for val in unique_values] for t in range(T)])\n",
        "\n",
        "# Create the stacked bar chart\n",
        "fig, ax = plt.subplots()\n",
        "bottoms = np.zeros(T)\n",
        "for i, val in enumerate(unique_values):\n",
        "    ax.bar(range(T), counts[:, i], bottom=bottoms, label=str(val))\n",
        "    bottoms += counts[:, i]\n",
        "\n",
        "# Labels and title\n",
        "ax.set_xlabel('Time')\n",
        "ax.set_ylabel('Count')\n",
        "ax.set_title('Proportion of Each Value at Each Time')\n",
        "ax.legend(title='Value')\n",
        "plt.show()"
      ],
      "id": "906a9359"
    },
    {
      "cell_type": "raw",
      "metadata": {
        "raw_mimetype": "text/html"
      },
      "source": [
        "<!-- \n",
        "## Seaborn Version\n",
        "\n",
        "::: {#3256e61a .cell output-location='slide' execution_count=9}\n",
        "``` {.python .cell-code}\n",
        "# Reshape the data into a long-format DataFrame\n",
        "df = pd.DataFrame(X.T, columns=[f'Chain_{i+1}' for i in range(X.shape[0])]).reset_index().melt(id_vars='index', var_name='Chain', value_name='State')\n",
        "\n",
        "# Create the plot\n",
        "plt.figure(figsize=(10, 6))\n",
        "sns.countplot(data=df, x='index', hue='State', palette='viridis')\n",
        "\n",
        "# Labels and title\n",
        "plt.xlabel('Time')\n",
        "plt.ylabel('Count')\n",
        "plt.title('Proportion of Each State at Each Time')\n",
        "plt.legend(title='State')\n",
        "\n",
        "plt.show()\n",
        "```\n",
        "\n",
        "::: {.cell-output .cell-output-display}\n",
        "![](stochastic_processes_files/figure-ipynb/cell-10-output-1.png){}\n",
        ":::\n",
        ":::\n",
        "\n",
        "\n",
        "-->"
      ],
      "id": "a0ed1326-446b-4fba-9ed2-6908b0919c4a"
    },
    {
      "cell_type": "markdown",
      "metadata": {},
      "source": [
        "## Stationary Distribution\n",
        "\n",
        "-   Recall different ways to think about steady states\n",
        "    -   Left-eigenvector: $\\bar{\\pi} = \\bar{\\pi} P$\n",
        "    -   Limiting distribution: $\\lim_{T\\to\\infty}\\pi_0 P^T$\n",
        "-   Can show that the stationary distribution is\n",
        "    $\\bar{\\pi} = \\begin{bmatrix}\\frac{b}{a+b} & \\frac{a}{a+b}\\end{bmatrix}$"
      ],
      "id": "3e70cecc-ec1f-4de5-8571-4a593d1caa7a"
    },
    {
      "cell_type": "code",
      "execution_count": 10,
      "metadata": {
        "output-location": "column"
      },
      "outputs": [
        {
          "output_type": "stream",
          "name": "stdout",
          "text": [
            "pi_bar = [0.66666667 0.33333333]\n",
            "pi_inf = [0.6666667 0.3333333]"
          ]
        }
      ],
      "source": [
        "eigvals, eigvecs = np.linalg.eig(P.T)\n",
        "pi_bar = eigvecs[:, np.isclose(eigvals, 1)].flatten().real\n",
        "pi_bar = pi_bar / pi_bar.sum()\n",
        "pi_0 = np.array([1.0, 0.0])\n",
        "pi_inf = pi_0 @ matrix_power(P, 100)\n",
        "print(f\"pi_bar = {pi_bar}\")\n",
        "print(f\"pi_inf = {pi_inf}\")"
      ],
      "id": "8497b019"
    },
    {
      "cell_type": "markdown",
      "metadata": {},
      "source": [
        "## Expected Income\n",
        "\n",
        "-   Recall that\n",
        "    $\\mathbb{E}[X_{t+j} \\,|\\, X_t = E] = (\\begin{bmatrix}1 & 0\\end{bmatrix} \\cdot P^j) \\cdot x$"
      ],
      "id": "5fafdafb-2609-4a51-95b5-4e53eced0703"
    },
    {
      "cell_type": "code",
      "execution_count": 11,
      "metadata": {
        "output-location": "column"
      },
      "outputs": [
        {
          "output_type": "display_data",
          "metadata": {},
          "data": {
            "image/png": "[encoded data removed]"
          }
        }
      ],
      "source": [
        "def forecast_distributions(P, pi_0, T):\n",
        "    N = P.shape[0]\n",
        "    pi = np.zeros((T+1, N))\n",
        "    pi[0, :] = pi_0\n",
        "    for t in range(T):\n",
        "        pi[t+1, :] = pi[t, :] @ P\n",
        "    return pi\n",
        "x = np.array([100000.00, 20000.00])\n",
        "pi_0 = np.array([1.0, 0.0])\n",
        "T = 20\n",
        "pi = forecast_distributions(P, pi_0, T)\n",
        "E_X_t = np.dot(pi, x)\n",
        "E_X_bar = pi_bar @ x\n",
        "plt.plot(np.arange(0, T+1), E_X_t)\n",
        "plt.axhline(E_X_bar, color='r',\n",
        "  linestyle='--')\n",
        "plt.show()"
      ],
      "id": "8d17bbc1"
    }
  ],
  "nbformat": 4,
  "nbformat_minor": 5,
  "metadata": {
    "kernelspec": {
      "name": "python3",
      "display_name": "Python 3 (ipykernel)",
      "language": "python"
    },
    "language_info": {
      "name": "python",
      "codemirror_mode": {
        "name": "ipython",
        "version": "3"
      },
      "file_extension": ".py",
      "mimetype": "text/x-python",
      "nbconvert_exporter": "python",
      "pygments_lexer": "ipython3",
      "version": "3.9.12"
    }
  }
}