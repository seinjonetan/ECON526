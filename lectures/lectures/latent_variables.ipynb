{
  "cells": [
    {
      "cell_type": "markdown",
      "metadata": {},
      "source": [
        "# ECON526: Quantitative Economics with Data Science Applications\n",
        "\n",
        "Latent Variables and Introduction to Unsupervised Learning\n",
        "\n",
        "Jesse Perla (University of British Columbia)\n",
        "\n",
        "# Overview\n",
        "\n",
        "## Motivation and Materials\n",
        "\n",
        "-   In this lecture, we will continue with some applications of the\n",
        "    tools we developed in the previous lectures\n",
        "-   We introduce [scikit-learn](https://scikit-learn.org/stable/), a\n",
        "    package for old-school (i.e. not deep learning or neural networks)\n",
        "    ML and data analysis\n",
        "    -   Introduces “unsupervised learning” (i.e., tools to interpret\n",
        "        data structure without any forecasts/predictions)\n",
        "\n",
        "## Packages"
      ],
      "id": "cd764098-68ed-4477-afb6-67a02cc51dcb"
    },
    {
      "cell_type": "code",
      "execution_count": 1,
      "metadata": {},
      "outputs": [
        {
          "output_type": "stream",
          "name": "stderr",
          "text": [
            "<frozen importlib._bootstrap>:228: RuntimeWarning:\n",
            "\n",
            "scipy._lib.messagestream.MessageStream size changed, may indicate binary incompatibility. Expected 56 from C header, got 64 from PyObject\n"
          ]
        }
      ],
      "source": [
        "import numpy as np\n",
        "import matplotlib.pyplot as plt\n",
        "import scipy\n",
        "from numpy.linalg import cond, matrix_rank, norm\n",
        "from scipy.linalg import inv, solve, det, eig, lu, eigvals\n",
        "from scipy.linalg import solve_triangular, eigvalsh, cholesky\n",
        "import seaborn as sns\n",
        "import pandas as pd\n",
        "from sklearn.decomposition import PCA\n",
        "from sklearn.cluster import KMeans"
      ],
      "id": "97d899c9"
    },
    {
      "cell_type": "markdown",
      "metadata": {},
      "source": [
        "# Latent Variables\n",
        "\n",
        "## Features, Labels, and Latents\n",
        "\n",
        "-   Data science and ML often use different terminology than economists:\n",
        "    -   **Features** are economists **explanatory or independent\n",
        "        variables**. They have the key source of variation to make\n",
        "        predictions and conduct counterfactuals\n",
        "    -   **Labels** correspond to economists **observables or dependent\n",
        "        variables**\n",
        "    -   **Latent Variables** are **unobserved variables**, typically\n",
        "        sources of heterogeneity or which may drive both the dependent\n",
        "        and independent variables\n",
        "-   Economists will use theory and experience to transform data (i.e.,\n",
        "    what ML people call “feature engineering”) for better explanatory\n",
        "    power or map to theoretical models\n",
        "\n",
        "## Unsupervised Learning\n",
        "\n",
        "-   ML refers to methods using only **features** as **unsupervised\n",
        "    learning**. The structure of the underlying data can teach you about\n",
        "    its data generating process\n",
        "-   **Key:** uncover and interpret latent variables using statistics\n",
        "    coupled with assumptions from economic theory. There is theory\n",
        "    beyond all interpretation\n",
        "\n",
        "# Principle Components\n",
        "\n",
        "## Principle Components and Factor Analysis\n",
        "\n",
        "-   Another application of eigenvalues is dimension reduction, which\n",
        "    simplifies **features** by uncovering **latent** variables.\n",
        "    Unsupervised\n",
        "-   One technique is Principle Components Analysis (PCA), which uncovers\n",
        "    latent variables that capture the primary directions of variation in\n",
        "    the underlying data\n",
        "    -   May allow mapping data into a lower-dimensional, uncorrelated\n",
        "        features\n",
        "    -   Uses Singular Value Decomposition (SVD) - a generalization of\n",
        "        eigendecomposition to non-square matrices\n",
        "-   Given a matrix $X \\in \\mathbb{R}^{N \\times M}$, can we find a\n",
        "    lower-dimensional representation $Z \\in \\mathbb{R}^{N \\times L}$ for\n",
        "    $L < M$ that captures the most variation in $X$?\n",
        "-   The goal is to invert the $X$ data to find the $Z$—and provide a\n",
        "    mapping to reduce the dimensionality for future data.\n",
        "\n",
        "## Singular Value Decomposition\n",
        "\n",
        "-   Many applications of SVD (e.g., least squares, checking rank), in\n",
        "    part because it is especially “numerically stable” (i.e., not\n",
        "    sensitive to the roundoff errors we talked about previously)\n",
        "-   One application is to find the latent variables in PCA\n",
        "-   PCA can be interpreted with an\n",
        "    [eigendecomposition](https://python.quantecon.org/svd_intro.html#application-principal-components-analysis-pca),\n",
        "    but can be more confusing than just using the SVD directly.\n",
        "\n",
        "## SVD\n",
        "\n",
        "An SVD for any $X \\in \\mathbb{R}^{N\\times M}$ is:\n",
        "\n",
        "$$\n",
        "X = U \\Sigma V^T\n",
        "$$\n",
        "\n",
        "-   The diagonal elements of $\\Sigma \\in \\mathbb{R}^{N\\times M}$ are\n",
        "    singular values, and there are zeros everywhere else. If $M < N$\n",
        "    then there $M$ singular values ($\\sigma_1, \\ldots \\sigma_M$)\n",
        "    -   Those singular values are also the square roots of the\n",
        "        eigenvalues of $X X^T$ (or $X^T X$)\n",
        "    -   The number of non-zero singular values is the rank of the matrix\n",
        "        $X$\n",
        "-   $U\\in\\mathbb{R}^{N\\times N}$ and $V \\in \\mathbb{R}^{M \\times M}$ are\n",
        "    orthogonal matrices\n",
        "    -   $U$ is eigenvectors of $X X^T$ and $V$ is eigenvectors of\n",
        "        $X^T X$\n",
        "\n",
        "## Decomposing the Data\n",
        "\n",
        "A key result is that we can decompose the data into a sum of outer\n",
        "products of the eigenvectors and singular values. Assume ordered so that\n",
        "$\\sigma_1 \\geq \\sigma_2 \\geq \\ldots \\geq \\sigma_M$: $$\n",
        "X = U \\Sigma V^T = \\sum_{m=1}^M \\sigma_m u_m v_m^T\n",
        "$$\n",
        "\n",
        "Where here we assumed that the $\\text{rank}(X) \\leq M$ and\n",
        "\n",
        "-   $u_m \\in\\mathbb{R}^N$ is the $m$-th column of $U$ and\n",
        "    $v_m \\in\\mathbb{R}^M$ is the $m$th column of $V$\n",
        "-   So $u_m v_m^T$ is an $N \\times M$ matrix but you can show that it is\n",
        "    rank-1. i.e., you can decompose it into the product of two vectors.\n",
        "\n",
        "## Interpreting Rank\n",
        "\n",
        "-   Intuition: rank $r$ if it can be decomposed into the sum of $r$\n",
        "    rank-1 matrices\n",
        "    -   Alternatively, can interpret rank of an $N \\times M$ matrix is\n",
        "        $3$ if can find a $A \\in \\mathbb{R}^{N \\times 3}$ and\n",
        "        $B \\in \\mathbb{R}^{3 \\times M}$ such that $X = A B$\n",
        "-   Remember: this works for **any** matrix\n",
        "    $X \\in \\mathbb{R}^{N \\times M}$\n",
        "\n",
        "## Dimension Reduction\n",
        "\n",
        "-   Frequently $\\sigma_1 \\gg \\sigma_M$ and the $\\sigma_m$ may decay\n",
        "    quickly, so we can approximate $X$ with fewer terms by truncating\n",
        "    the sum at $L < M$.\n",
        "\n",
        "$$\n",
        "X \\approx \\sum_{m=1}^L \\sigma_m u_m v_m^T\n",
        "$$\n",
        "\n",
        "-   Note that if the data is actually lower-dimensional in a suitable\n",
        "    space (e.g., $\\text{rank}(X) = L < M$) then $\\sigma_m = 0$ for\n",
        "    $L < m \\leq M$, so the truncated sum is exact\n",
        "\n",
        "## PCA as an Optimal Dimension Reduction\n",
        "\n",
        "-   Can prove that if we truncate at $L < M$, this is the best rank $L$\n",
        "    approximation to $X$ according to some formal criteria.\n",
        "    -   Intuitively, finds directions of the data that capture the most\n",
        "        variation in the covariance matrix\n",
        "    -   Can prove it is the solution to the optimization problem to\n",
        "        explain the most variation in the data with the lowest\n",
        "        dimensionality\n",
        "\n",
        "See\n",
        "[here](https://en.wikipedia.org/wiki/Principal_component_analysis#First_component)\n",
        "for some intuition on this as an optimization problem.\n",
        "\n",
        "## Creating a Dataset with Latent Factors\n",
        "\n",
        "Create a dataset with two latent factors, the first dominating"
      ],
      "id": "cc16ac21-b72c-4333-8f0d-00b56cf82500"
    },
    {
      "cell_type": "code",
      "execution_count": 2,
      "metadata": {},
      "outputs": [
        {
          "output_type": "stream",
          "name": "stdout",
          "text": [
            "Z is (50, 2), X is (50, 3)"
          ]
        }
      ],
      "source": [
        "N = 50 # number of observations\n",
        "L, M = 2, 3 # number of latent and observed factors\n",
        "Z = np.random.randn(N, L) # latent factors\n",
        "F = np.array([[1.0, 0.05], # X_1 = Z_1 + 0.05 Z_2\n",
        "              [2.0, 0.0], # X_2 = 2 Z_1\n",
        "              [3.0, 0.1]]) # X_3 = 3 Z_1 + 0.1 Z_2\n",
        "X = Z @ F.T + 0.1 * np.random.randn(N, M) # added noise\n",
        "print(f\"Z is {Z.shape}, X is {X.shape}\")"
      ],
      "id": "01d8585d"
    },
    {
      "cell_type": "markdown",
      "metadata": {},
      "source": [
        "## PCA Without Dimension Reduction\n",
        "\n",
        "-   See [QuantEcon SVD](https://python.quantecon.org/svd_intro.html) for\n",
        "    coding yourself. We will use the\n",
        "    [sklearn](https://scikit-learn.org/stable/modules/generated/sklearn.decomposition.PCA.html)\n",
        "    package\n",
        "-   The explained variance is the fraction of the variance explained by\n",
        "    each factor"
      ],
      "id": "19884f6b-b809-477e-8fe5-3b0d40da7879"
    },
    {
      "cell_type": "code",
      "execution_count": 3,
      "metadata": {},
      "outputs": [
        {
          "output_type": "stream",
          "name": "stdout",
          "text": [
            "Singular Values (sqrt eigenvalues):\n",
            "[25.677   0.7806  0.6292]\n",
            "Explained Variance (ordered):\n",
            "[0.9985 0.0009 0.0006]"
          ]
        }
      ],
      "source": [
        "pca = PCA(n_components=3)\n",
        "pca.fit(X)\n",
        "with np.printoptions(precision=4, suppress=True, threshold=5):\n",
        "  print(f\"Singular Values (sqrt eigenvalues):\\n{pca.singular_values_}\")\n",
        "  print(f\"Explained Variance (ordered):\\n{pca.explained_variance_ratio_}\")"
      ],
      "id": "cb394c66"
    },
    {
      "cell_type": "markdown",
      "metadata": {},
      "source": [
        "## Dimension Reduction with PCA"
      ],
      "id": "0cc50727-24a2-4f70-97d6-d121166cb427"
    },
    {
      "cell_type": "code",
      "execution_count": 4,
      "metadata": {},
      "outputs": [
        {
          "output_type": "stream",
          "name": "stdout",
          "text": [
            "Correlation of Z_1 to Z_hat_1 = 0.9994499183581406\n",
            "Correlation of Z_2 to Z_hat_2 = -0.49269200731464263"
          ]
        }
      ],
      "source": [
        "pca = PCA(n_components=2) # one less, and correctly specified\n",
        "Z_hat = pca.fit_transform(X) # transformed by dropping last factor \n",
        "# Scale and sign may not match due to indeterminacy\n",
        "print(f\"Correlation of Z_1 to Z_hat_1 = {np.corrcoef(Z.T, Z_hat.T)[0,2]}\")\n",
        "print(f\"Correlation of Z_2 to Z_hat_2 = {np.corrcoef(Z.T, Z_hat.T)[1,3]}\")"
      ],
      "id": "2f184f4e"
    },
    {
      "cell_type": "markdown",
      "metadata": {},
      "source": [
        "## Interpreting the Results\n",
        "\n",
        "-   The first factor in the decomposition is nearly perfectly (positive\n",
        "    or negatively) correlated with the more important latent factor\n",
        "    -   The sign could have gone either way. The key is the shared\n",
        "        information\n",
        "    -   How could you have known the sign is indeterminate?\n",
        "-   The 2nd factor has a good but not great correlation with the 2nd\n",
        "    latent. Why?\n",
        "-   The variance decomposition that gave a 3rd factor with non-zero\n",
        "    variance\n",
        "    -   We only had two latent variables. Why didn’t it figure it out?\n",
        "-   How could you have changed the DGP to make this **less** successful?\n",
        "\n",
        "## Warning\n",
        "\n",
        "-   We have just scratched the surface to build some intuition.\n",
        "-   Many missing details and caveats (e.g., you may want to rescale your\n",
        "    data, make sure everything is demeaned if implementing yourself,\n",
        "    etc.)\n",
        "-   Read up on the documentation and theory before using in practice\n",
        "-   Many\n",
        "    [generalizations](https://en.wikipedia.org/wiki/Principal_component_analysis#Generalizations)\n",
        "    exist which are more appropriate in particular settings\n",
        "\n",
        "# Auto-Encoders\n",
        "\n",
        "## Auto-Encoders and Dimensionality Reduction\n",
        "\n",
        "-   General class of problems which they call auto-encoders in ML/data\n",
        "    science\n",
        "    -   Function $f$, the encoder, maps $X$ to a latent space $Z$, which\n",
        "        may be lower-dimensional\n",
        "    -   Function $g$, the decoder, maps points in the latent space $Z$\n",
        "        back to $X$\n",
        "    -   $\\theta_e$ and $\\theta_d$ are parameters for $f$ and $g$ which\n",
        "        we are trying to find\n",
        "-   Then the goal is to find the $\\theta_e$ and $\\theta_d$ parameters\n",
        "    for our encoder, $f$, and decoder, $g$, where for as many $X$ as\n",
        "    possible we have\n",
        "\n",
        "$$\n",
        "g(f(x; \\theta_e); \\theta_d) \\approx x\n",
        "$$\n",
        "\n",
        "-   The $z = f(x;\\theta_e)$ may be lower-dimensional, but may be useful\n",
        "    regardless\n",
        "\n",
        "## Optimization Problem for an Auto-encoder\n",
        "\n",
        "-   If we had a distribution for $x$ then can solve\n",
        "\n",
        "    $$\n",
        "    \\min_{\\theta_e, \\theta_d} \\mathbb{E}||g(f(x; \\theta_e); \\theta_d) - x||_2^2\n",
        "    $$\n",
        "\n",
        "-   But typically in practice we replace expectation with empirical\n",
        "    distribution $\\{x_1,\\ldots x_N\\}$\n",
        "\n",
        "$$\n",
        "\\min_{\\theta_e, \\theta_d} \\frac{1}{N} \\sum_{n=1}^N ||g(f(x_n; \\theta_e); \\theta_d) - x_n||_2^2\n",
        "$$\n",
        "\n",
        "## PCA as a Linear Auto-Encoder\n",
        "\n",
        "-   Let $f(x) = W^T x$ and $g(z) = W z$ where\n",
        "    $W \\in \\mathbb{R}^{M \\times L}$. If $\\hat{x} \\approx W W^T x$,\n",
        "    “reconstruction error” is $||\\hat{x} - x||_2^2$.\n",
        "\n",
        "$$\n",
        "\\min_{W} \\frac{1}{N} \\sum_{n=1}^N ||W \\overbrace{W^T x_n}^{z_n = f(x_n;W)} - x_n||_2^2,\\quad \\text{with } W^T W = I\n",
        "$$\n",
        "\n",
        "-   Can show gives equivalent to PCA! For fixed $L$ latent space size,\n",
        "    $W$ are the first $L$ columns of $V$ from the SVD (sorted by size of\n",
        "    singular values)\n",
        "\n",
        "-   In more advanced machine learning examples, intuition seems to come\n",
        "    up frequently. Related to embeddings, which come up with NLP,\n",
        "    networks, etc.\n",
        "\n",
        "# Discrete Latent Variables\n",
        "\n",
        "## Discrete Latent Variables\n",
        "\n",
        "-   PCA was a way to uncover continuous latent variables or find\n",
        "    low-dimensional continuous approximations\n",
        "-   But latent variables may be discrete (e.g., types of people, firms)\n",
        "-   Hidden discrete variables require assigning observations to groups\n",
        "\n",
        "## Clustering\n",
        "\n",
        "-   Clustering lets you take a set of observations with (potentially)\n",
        "    variables (i.e., features) and try to assign a discrete latent\n",
        "    variable to each observation\n",
        "    -   Theory may or may not help us know the number of groups\n",
        "    -   While some are statistical and probabilistic, most methods\n",
        "        assign a single latent type rather than a distribution\n",
        "    -   Choosing the number of groups to assign to is a challenge that\n",
        "        requires theory and regularization - which we will avoid here\n",
        "    -   Instead, just as with PCA we will choose the number of groups\n",
        "        ad-hoc rather than in a disciplined way\n",
        "\n",
        "## Partitioning Sets\n",
        "\n",
        "-   Let $X\\in\\mathbb{R}^{N\\times M}$ with\n",
        "    $x_1,\\ldots x_N\\in\\mathbb{R}^M$ the individual observations\n",
        "-   Assume that each $x_n$ has a latent discrete $k \\in \\{1, \\ldots K\\}$\n",
        "    then we can assign each observation to one group\n",
        "    -   $\\mathbf{S} \\equiv \\{S_1, \\ldots, S_K\\}$ where each\n",
        "        $n=1,\\ldots N$ is in exactly one $S_k$ (i.e. a partition)\n",
        "-   The goal is to find the partition which is the most likely to assign\n",
        "    each $x_n$ the correct latent variable $k$\n",
        "-   An alternative interpretation is to think of this as a\n",
        "    dimension-reduction technique that reduces complicated data into a\n",
        "    low-dimensional discrete variable\n",
        "-   In economics, we will sometimes cluster on some observations to\n",
        "    reduce the dimension, then leave others continuous\n",
        "\n",
        "## k-means Clustering\n",
        "\n",
        "-   Consider if the $n\\in S_k$ with should have similar $x_n$\n",
        "    -   Group observations that are close or similar to each other\n",
        "    -   As always in linear algebra, close suggests using a norm. The\n",
        "        Euclidean norm in the $M$ dimensional feature space is a good\n",
        "        baseline\n",
        "-   Objective function of k-means: choose the partition $\\mathbf{S}$\n",
        "    which minimizes the norm between observations within each group\n",
        "    -   Normalize by group size $|S_k|$ to avoid distorting the\n",
        "        objective function due to different group sizes\n",
        "\n",
        "## Formal Optimization Problem\n",
        "\n",
        "-   Formally,\n",
        "\n",
        "    $$\n",
        "    \\min_{\\mathbf{S}} \\sum_{k=1}^K \\frac{1}{|S_k|}\\sum_{x_n, x_{n'} \\in S_k} ||x_n - x_{n'}||_2^2\n",
        "    $$\n",
        "\n",
        "-   Using standard Euclidean norm between two elements in $S_k$ $$\n",
        "    ||x_n - x_{n'}||_2^2 = \\sum_{m=1}^M (x_{nm} - x_{n'm})^2\n",
        "    $$\n",
        "\n",
        "## k-means Objective Function\n",
        "\n",
        "-   Can prove that the previous objective is equivalent to minimizing\n",
        "    the sum of the squared distances from the group $k$’s mean\n",
        "\n",
        "    $$\n",
        "    \\min_{\\mathbf{S}} \\sum_{k=1}^K \\sum_{n \\in S_k} ||x_n - \\bar{x}_k||_2^2\n",
        "    $$\n",
        "\n",
        "-   Where the mean of group $k$ is standard, and across all $m$ features\n",
        "\n",
        "    $$\n",
        "    \\bar{x}_k \\equiv \\frac{1}{|S_k|}\\sum_{x_n \\in S_k} x_n\n",
        "    $$\n",
        "\n",
        "-   Avoid different scales so $\\bar{x}_k$ isn’t dominated by one feature\n",
        "\n",
        "## Generating Data with Latent Groups\n",
        "\n",
        "-   Generate data with 2 features and 2 latent groups and see how\n",
        "    k-means does\n",
        "-   First, put the data in a dataframe"
      ],
      "id": "8e0c11b0-b1a6-447e-b5f1-eb1fae42e750"
    },
    {
      "cell_type": "code",
      "execution_count": 5,
      "metadata": {},
      "outputs": [],
      "source": [
        "mu_1 = np.array([0.0, 0.0]) # mean of k=1\n",
        "mu_2 = np.array([1.0, 1.0]) # mean of k=2\n",
        "sigma = np.array([[0.2, 0], [0, 0.2]]) # use same variance\n",
        "N = 100 # observations\n",
        "X_1 = np.random.multivariate_normal(mu_1, sigma, N)\n",
        "X_2 = np.random.multivariate_normal(mu_2, sigma, N)\n",
        "df_1 = pd.DataFrame({\"f1\": X_1[:, 0], \"f2\": X_1[:, 1], \"k\": 1})\n",
        "df_2 = pd.DataFrame({\"f1\": X_2[:, 0], \"f2\": X_2[:, 1], \"k\": 2})\n",
        "df = pd.concat([df_1, df_2], ignore_index=True)"
      ],
      "id": "14e7c81e"
    },
    {
      "cell_type": "markdown",
      "metadata": {},
      "source": [
        "## Plotting Code with Seaborn"
      ],
      "id": "2a9708be-6768-4f48-8b77-8be23eef364b"
    },
    {
      "cell_type": "code",
      "execution_count": 6,
      "metadata": {
        "output-location": "column"
      },
      "outputs": [
        {
          "output_type": "display_data",
          "metadata": {},
          "data": {
            "image/png": "[encoded data removed]"
          }
        }
      ],
      "source": [
        "fig, ax = plt.subplots()\n",
        "sns.scatterplot(data=df, x=\"f1\", y=\"f2\",\n",
        "  hue=\"k\", ax=ax)\n",
        "ax.set(xlabel=\"Feature 1\", ylabel=\"Feature 2\",\n",
        "  title=\"Latent Groups\")\n",
        "plt.show()"
      ],
      "id": "fe90c062"
    },
    {
      "cell_type": "markdown",
      "metadata": {},
      "source": [
        "## k-means to Recover the Latent Groups\n",
        "\n",
        "-   Run k-means with 2 clusters and check the results\n",
        "-   If correlation is close to 1 then successfully recovered the latent\n",
        "    groups\n",
        "-   If the correlation is close to -1 then it was successful. The latent\n",
        "    groups $\\hat{k}$ numbers are ordered arbitrarily, just as $k$ was"
      ],
      "id": "eaa49b0e-6d9d-48f6-bea0-1473f45233d4"
    },
    {
      "cell_type": "code",
      "execution_count": 7,
      "metadata": {},
      "outputs": [
        {
          "output_type": "stream",
          "name": "stdout",
          "text": [
            "Correlation between k and k_hat:-0.82"
          ]
        }
      ],
      "source": [
        "kmeans = KMeans(n_clusters=2, random_state=0)\n",
        "k_hat = kmeans.fit_predict(df[[\"f1\", \"f2\"]])\n",
        "df[\"k_hat\"] = k_hat + 1\n",
        "corr = df[\"k\"].corr(df[\"k_hat\"])\n",
        "print(f\"Correlation between k and k_hat:{corr:.2f}\")"
      ],
      "id": "c039cafd"
    },
    {
      "cell_type": "markdown",
      "metadata": {},
      "source": [
        "## Confusion Matrix"
      ],
      "id": "b748a36f-d158-4613-b0c2-47d9adb4ea98"
    },
    {
      "cell_type": "code",
      "execution_count": 8,
      "metadata": {
        "output-location": "column"
      },
      "outputs": [
        {
          "output_type": "display_data",
          "metadata": {},
          "data": {
            "image/png": "[encoded data removed]"
          }
        }
      ],
      "source": [
        "from sklearn.metrics import confusion_matrix\n",
        "\n",
        "# compute confusion matrix\n",
        "cm = confusion_matrix(df[\"k\"], df[\"k_hat\"])\n",
        "\n",
        "# plot confusion matrix\n",
        "sns.heatmap(cm, annot=True, cmap='Blues')\n",
        "plt.xlabel('Predicted k')\n",
        "plt.ylabel('True k')\n",
        "plt.title('Confusion Matrix')\n",
        "plt.show()"
      ],
      "id": "530b4fe3"
    },
    {
      "cell_type": "markdown",
      "metadata": {},
      "source": [
        "## Potentially Swap $\\hat{k}$ and Compare\n",
        "\n",
        "Label ordering arbitary, so “confusion matrix might require reordering\n",
        "to compare"
      ],
      "id": "37c47c25-5a02-45cf-a281-badd606ee8f5"
    },
    {
      "cell_type": "code",
      "execution_count": 9,
      "metadata": {},
      "outputs": [
        {
          "output_type": "stream",
          "name": "stdout",
          "text": [
            "Correlation now 0.8169324941698154"
          ]
        }
      ],
      "source": [
        "if df['k'].corr(df['k_hat']) < 0.5:\n",
        "  df['k_hat'] = df['k_hat'].replace({1: 2, 2: 1})\n",
        "  print(f\"Correlation now {df['k'].corr(df['k_hat'])}\")\n",
        "\n",
        "df['Cluster'] = df.apply(lambda x: rf\"$k=\\hat{{k}}={{{x['k']:.0g}}}$\"\n",
        "                         if x['k'] == x['k_hat'] else r'$k \\neq \\hat{k}$',\n",
        "                         axis=1)"
      ],
      "id": "9668fb26"
    },
    {
      "cell_type": "markdown",
      "metadata": {},
      "source": [
        "## Plotting the Uncovered Latent Groups"
      ],
      "id": "ce6c8838-0571-4ac4-b085-4a65ae80d089"
    },
    {
      "cell_type": "code",
      "execution_count": 10,
      "metadata": {
        "output-location": "column"
      },
      "outputs": [
        {
          "output_type": "display_data",
          "metadata": {},
          "data": {
            "image/png": "[encoded data removed]"
          }
        }
      ],
      "source": [
        "fig, ax = plt.subplots(figsize=(6, 4))\n",
        "sns.scatterplot(data=df, x=\"f1\", y=\"f2\",\n",
        "  hue=\"Cluster\", ax=ax)\n",
        "ax.set(xlabel=\"Feature 1\", ylabel=\"Feature 2\",\\\n",
        "       title=\"k-means Recovered Groups\")\n",
        "plt.show()"
      ],
      "id": "486ecd87"
    },
    {
      "cell_type": "markdown",
      "metadata": {},
      "source": [
        "# (Optional) Factors within a Portfolio Model\n",
        "\n",
        "## Simulation\n",
        "\n",
        "In the previous lecture we introduced code for simulation"
      ],
      "id": "b833fee7-a378-4f3a-ac41-846e6db8a31a"
    },
    {
      "cell_type": "code",
      "execution_count": 11,
      "metadata": {},
      "outputs": [],
      "source": [
        "def simulate(A, X_0, T):\n",
        "    X = np.zeros((2, T+1))\n",
        "    X[:,0] = X_0\n",
        "    for t in range(T):\n",
        "        X[:,t+1] = A @ X[:,t]\n",
        "    return X"
      ],
      "id": "e6760563"
    },
    {
      "cell_type": "markdown",
      "metadata": {},
      "source": [
        "## A Portfolio Example\n",
        "\n",
        "-   Two assets pay dividends\n",
        "    $d_t \\equiv \\begin{bmatrix} d_{1t} & d_{2t} \\end{bmatrix}^T$\n",
        "    following $d_{t+1} = A\\, d_t$ from $d_0$\n",
        "-   Portfolio has $G \\equiv \\begin{bmatrix} G_1 & G_2 \\end{bmatrix}$\n",
        "    shares of each asset and you discount at rate $\\beta$"
      ],
      "id": "282ebd75-749e-4ecd-ba54-2bf498f513bd"
    },
    {
      "cell_type": "code",
      "execution_count": 12,
      "metadata": {},
      "outputs": [
        {
          "output_type": "stream",
          "name": "stdout",
          "text": [
            "Portfolio value at t=0 is 1424.5, total dividends at time 10 is 36.955"
          ]
        }
      ],
      "source": [
        "A = np.array([[0.6619469, 0.49646018],[0.5840708, 0.4380531]])\n",
        "G = np.array([[10.0, 4.0]])       \n",
        "d_0 = np.array([1.0, 1.0])\n",
        "T, beta = 10, 0.9\n",
        "p_0 = G @ solve(np.eye(2) - beta * A, d_0)\n",
        "d = simulate(A, d_0, T)\n",
        "y = G @ d # total dividends from portfolio\n",
        "print(f\"Portfolio value at t=0 is {p_0[0]:.5g}, total dividends at time {T} is {y[0,T]:.5g}\")"
      ],
      "id": "8dc21a65"
    },
    {
      "cell_type": "markdown",
      "metadata": {},
      "source": [
        "## Dividends Seem to Grow at a Similar Rate?"
      ],
      "id": "8cbb0065-4825-4a09-8b46-fcec5befe196"
    },
    {
      "cell_type": "code",
      "execution_count": 13,
      "metadata": {},
      "outputs": [
        {
          "output_type": "display_data",
          "metadata": {},
          "data": {
            "image/png": "[encoded data removed]"
          }
        }
      ],
      "source": [
        "fig, ax = plt.subplots(figsize=(6, 4))\n",
        "ax.plot(range(T+1), d.T, label=[r\"$d_{1t}$\", r\"$d_{2t}$\"])\n",
        "ax.set(xlabel=\"t\", title=\"Dividend Simulation\")\n",
        "ax.legend()\n",
        "plt.show()"
      ],
      "id": "ebfce5d3"
    },
    {
      "cell_type": "markdown",
      "metadata": {},
      "source": [
        "## Digging Deeper\n",
        "\n",
        "-   Let’s do an eigendecomposition to analyze the factors"
      ],
      "id": "e47100d7-b2ff-46ed-873c-462672767a7d"
    },
    {
      "cell_type": "code",
      "execution_count": 14,
      "metadata": {},
      "outputs": [
        {
          "output_type": "stream",
          "name": "stdout",
          "text": [
            "[ 1.10000000e+00 -2.65486733e-09]"
          ]
        }
      ],
      "source": [
        "Lambda, Q = eig(A)\n",
        "print(np.real(Lambda))"
      ],
      "id": "887aa7fc"
    },
    {
      "cell_type": "markdown",
      "metadata": {},
      "source": [
        "-   The first eigenvector is 1.1, but the second is very close to zero!\n",
        "    -   (In fact, I rigged it to be zero by constructing from a\n",
        "        $\\Lambda$, so this is all numerical copy/paste errors)\n",
        "-   Suggests that maybe only one latent factor driving both $d_{1t}$ and\n",
        "    $d_{2t}$?\n",
        "-   Of course, you may have noticed that the columns in the matrix\n",
        "    looked collinear, which was another clue.\n",
        "\n",
        "## Evolution Matrix is Very Simple with $\\lambda_2 = 0$\n",
        "\n",
        "If we stack columns $Q \\equiv \\begin {bmatrix} q_1 & q_2 \\end{bmatrix}$\n",
        "then, $$\n",
        "A = Q \\Lambda Q^{-1} = Q \\begin{bmatrix} \\lambda_1 & 0 \\\\ 0 & 0 \\end{bmatrix} Q^{-1} = \\lambda_1 q_1  q_1^{-1}\n",
        "$$"
      ],
      "id": "2e52f960-772a-4850-bf12-c4678ffa58ed"
    },
    {
      "cell_type": "code",
      "execution_count": 15,
      "metadata": {},
      "outputs": [
        {
          "output_type": "display_data",
          "metadata": {},
          "data": {
            "text/plain": [
              "2.663274500543771e-09"
            ]
          }
        }
      ],
      "source": [
        "lambda_1 = np.real(Lambda[0])\n",
        "q_1 = np.reshape(Q[:,0], (2,1))\n",
        "q_1_inv = np.reshape(inv(Q)[0,:], (1,2))\n",
        "norm(A - lambda_1 * q_1 @ q_1_inv) # pretty close to zero!"
      ],
      "id": "3d3e4f24"
    },
    {
      "cell_type": "markdown",
      "metadata": {},
      "source": [
        "## Transforming to the Latent State\n",
        "\n",
        "-   Recall: $A = Q \\Lambda Q^{-1}$ can be interpreted as:\n",
        "    -   Transformation to latent space, scaling, transform back\n",
        "-   We can demonstrate this in our example:\n",
        "    -   Transforming $d_0$ to $\\ell_0$ using $q_1^{-1}$\n",
        "    -   Evolving $\\ell_t$ from $\\ell_0$ with\n",
        "        $\\ell_{t+1} = \\lambda_1 \\ell_t$, or\n",
        "        $\\ell_t = \\lambda_1^t \\ell_0$\n",
        "    -   Transforming back with $q_1$\n",
        "    -   Checking if it aligns with the $d_t$\n",
        "\n",
        "## Implementation"
      ],
      "id": "13377654-fde5-4814-bbbc-3d7462cef61c"
    },
    {
      "cell_type": "code",
      "execution_count": 16,
      "metadata": {},
      "outputs": [
        {
          "output_type": "stream",
          "name": "stdout",
          "text": [
            "norm = 2.3494410875961204e-10"
          ]
        }
      ],
      "source": [
        "l_0 = lambda_1 * q_1_inv @ d_0 # latent space\n",
        "l = l_0 * np.power(lambda_1, np.arange(0, T)) # powers\n",
        "d_hat = q_1 * l # back to original space\n",
        "# Missing d_0 since doing A * d_0 iterations\n",
        "print(f\"norm = {norm(d[:,1:] - d_hat)}\")\n",
        "y_hat = G @ d_hat"
      ],
      "id": "e92819a2"
    },
    {
      "cell_type": "markdown",
      "metadata": {},
      "source": [
        "Let’s see if these line up perfectly\n",
        "\n",
        "## Total Dividends and the Latent Variable"
      ],
      "id": "00f2ff6a-7730-4238-ac78-d78336b30dc0"
    },
    {
      "cell_type": "code",
      "execution_count": 17,
      "metadata": {},
      "outputs": [
        {
          "output_type": "display_data",
          "metadata": {},
          "data": {
            "image/png": "[encoded data removed]"
          }
        }
      ],
      "source": [
        "fig, ax = plt.subplots(figsize=(6, 4))\n",
        "data = np.vstack((y_hat / y_hat[:,0], l / l[0]))\n",
        "ax.plot(range(1, T+1), data.T, label=[r\"$\\frac{y_t}{y_1}$\", r\"$\\frac{\\ell_t}{\\ell_1}$\"])\n",
        "ax.set(xlabel=\"t\", title=\"Latents vs. Total Dividends\")\n",
        "ax.legend()\n",
        "plt.show()"
      ],
      "id": "18cca655"
    }
  ],
  "nbformat": 4,
  "nbformat_minor": 5,
  "metadata": {
    "kernelspec": {
      "name": "python3",
      "display_name": "Python 3 (ipykernel)",
      "language": "python"
    },
    "language_info": {
      "name": "python",
      "codemirror_mode": {
        "name": "ipython",
        "version": "3"
      },
      "file_extension": ".py",
      "mimetype": "text/x-python",
      "nbconvert_exporter": "python",
      "pygments_lexer": "ipython3",
      "version": "3.9.12"
    }
  }
}