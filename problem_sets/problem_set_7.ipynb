{
  "cells": [
    {
      "cell_type": "markdown",
      "metadata": {},
      "source": [
        "# Problem Set 7\n",
        "\n",
        "ECON 526\n",
        "\n",
        "This problem set uses data from “Long-Term Impacts of Individual\n",
        "Development Accounts on Homeownership among Baseline Renters: Follow-Up\n",
        "Evidence from a Randomized Experiment” M. Grinstein-Weiss et al. (2013).\n",
        "Data is available from S. Grinstein-Weiss Michal and Key (2013). The\n",
        "data carries a Creative Commons\n",
        "<a href=\"http://creativecommons.org/licenses/by/4.0/?ref=chooser-v1\" target=\"_blank\" rel=\"license noopener noreferrer\" style=\"display:inline-block;\">Attribution\n",
        "4.0 International\n",
        "License<img style=\"height:22px!important;margin-left:3px;vertical-align:text-bottom;\" src=\"https://mirrors.creativecommons.org/presskit/icons/cc.svg?ref=chooser-v1\"><img style=\"height:22px!important;margin-left:3px;vertical-align:text-bottom;\" src=\"https://mirrors.creativecommons.org/presskit/icons/by.svg?ref=chooser-v1\"></a>.\n",
        "\n",
        "# Question 1\n",
        "\n",
        "Read the introduction and section I of M. Grinstein-Weiss et al. (2013).\n",
        "Briefly (1-3 sentences) describe the experiment being studied."
      ],
      "id": "79cc321e-d719-476e-971c-5d2a83ffef0f"
    },
    {
      "cell_type": "markdown",
      "metadata": {},
      "source": [
        "(your answer)"
      ],
      "id": "07603f35-42bc-4709-b8b9-84e31664253b"
    },
    {
      "cell_type": "markdown",
      "metadata": {},
      "source": [
        "# Question 2\n",
        "\n",
        "We load the data in a dataframe named `df`."
      ],
      "id": "5978403e-5944-4358-b424-253d6fc29691"
    },
    {
      "cell_type": "code",
      "execution_count": 1,
      "metadata": {},
      "outputs": [],
      "source": [
        "import pandas as pd\n",
        "df=pd.read_stata(\"data/AEJPol-2011-0054_R1_shared_data_file.dta\")"
      ],
      "id": "47e92b69"
    },
    {
      "cell_type": "markdown",
      "metadata": {},
      "source": [
        "The data is not well documented, but from reading the paper and code, I\n",
        "created the following data dictionary. `datadic[\"<column name>\"]` is\n",
        "supposed to be the definition of each column."
      ],
      "id": "9e5f3670-3cf1-4ea9-b9a0-a0fef8ef8023"
    },
    {
      "cell_type": "code",
      "execution_count": 2,
      "metadata": {},
      "outputs": [],
      "source": [
        "datadic = {\n",
        "    'id_abt' : \"identifier\",\n",
        "    'id_rti' : \"\",\n",
        "    'id_part': \"\",\n",
        "    'treat' : \"treatment indicator\",\n",
        "    'cohort': \"experiment recruitment cohort\",\n",
        "    'sample12': \"responded to wave 1 & 2 surveys\",\n",
        "    'sample13': \"responded to wave 1 & 3 surveys\",\n",
        "    'sample14': \"responded to wave 1 & 4 surveys\",\n",
        "    'sample134' : \"responded to wave 1, 3, & 4 surveys\",\n",
        "    'dt_inter_u17' : \"wave 1 interview date\",\n",
        "    'dt_inter_u25' : \"wave 2 interview date\",\n",
        "    'dt_inter_u33' : \"wave 3 interview date\",\n",
        "    'dt_inter_u42' : \"wave 4 interview date\",\n",
        "    'female_u17' : \"female\",\n",
        "    'race_u17' : \"race\",\n",
        "    'race_cau_u17': \"whether Caucasian\",\n",
        "    'age_u17' : \"age\",\n",
        "    'hh_total_u17' : \"number in household\",\n",
        "    'hh_adult_u17' : \"number of other adults in household\",\n",
        "    'hh_child_u17' : \"number of children\",\n",
        "    'marital_u17' : \"marital status\",\n",
        "    'ed_u17' : \"education\",\n",
        "    'sat_heal_u17' : \"health satisfication\",\n",
        "    'sat_fin2_u17' : \"financial satisfication\",\n",
        "    'ins_heal_u17' : \"health insurance\",\n",
        "    'src_welf_u17' : \"received welfare payments\",\n",
        "    'inc_tot_u17' : \"monthly income\",\n",
        "    'own_home_u17': \"own home in wave 1\",\n",
        "    'own_home_u25': \"own home in wave 2\",\n",
        "    'own_home_u33': \"own home in wave 3\",\n",
        "    'own_home_u42': \"own home in wave 4\",\n",
        "    'hm_own4_u42': \"\",\n",
        "    'hm_byyr1_u42': \"Year bought home 1 in wave 4\",\n",
        "    'hm_byyr2_u42' :\"Year bought home 2 in wave 4\",\n",
        "    'hm_byyr3_u42': \"Year bought home 3 in wave 4\",\n",
        "    'hm_byow1_u42': \"Had home 1 in wave 4\",\n",
        "    'hm_byow2_u42': \"Had home 2 in wave 4\",\n",
        "    'hm_byow3_u42': \"Had home 3 in wave 4\",\n",
        "    'hm_forc1_u42': \"Home 1 foreclosed\",\n",
        "    'hm_forc2_u42': \"Home 2 foreclosed\",\n",
        "    'hm_lvyr1_u42': \"Year left home 1 in wave 4\",\n",
        "    'hm_lvyr2_u42': \"Year left home 2 in wave 4\",\n",
        "    'hm_lvyr3_u42': \"Year left home 3 in wave 4\",\n",
        "    'ass_home_u42': \"\", 'owe_home_u42': \"\", 'mt_year1_u42': \"\", 'mt_debt1_u42': \"\", 'lib_home_u42': \"\",\n",
        "    'mt_pymt1_u42': \"\", 'mt_fix1_u42': \"\", 'mt_int1_u42': \"\", 'mt_30_u42': \"\", 'mt_90_u42': \"\",\n",
        "    'pub_home_u17': \"public housing in wave 1\",\n",
        "    'section8_u17': \"section 8 rental assistance in wave 1\",\n",
        "    'own_car_u17': \"owned car in wave 1\",\n",
        "    'own_prop_u17': \"own other property\",\n",
        "    'own_bus_u17': \"owned business in wave 1\",\n",
        "    'own_ira_u17': \"own IRA in wave 1\",\n",
        "    'own_bank_u17': \"have a bank account in wave 1\",\n",
        "    'ass_tot_u17': \"assets in wave 1\",\n",
        "    'lib_tot_u17': \"\", 'cap_soc_u25': \"\", 'cap_soc_u33': \"\", 'cap_work_u25': \"\",\n",
        "    'cap_work_u33': \"\", 'cap_med_u25': \"\", 'cap_med_u33': \"\", 'cap_kid_u25': \"\",\n",
        "    'cap_kid_u33': \"\", 'cap_ceo_u25': \"\", 'cap_ceo_u33': \"\", 'cap_home_u25': \"\",\n",
        "    'cap_home_u33': \"\", 'cap_ed_u25': \"\", 'cap_ed_u33': \"\", 'cap_tax_u25': \"\",\n",
        "    'cap_tax_u33': \"\", 'mis_plan_u42': \"\", 'mis_g_u42': \"\", 'gt_scale_u17': \"\", 'miss_gt': \"\",\n",
        "    'gv_scale_u17': \"\", 'miss_gv': \"\", 'own_scale_u17': \"\", 'miss_own': \"\", 'ci_scale_u17': \"\",\n",
        "    'miss_ci': \"\", 'str_scale_u17': \"\", 'miss_str': \"\", 'inv_treat': \"\", 'crossover_23': \"\",\n",
        "    'crossover_234': \"\", 'mis_match_u42': \"\"\n",
        "}"
      ],
      "id": "36c21e2d"
    },
    {
      "cell_type": "markdown",
      "metadata": {},
      "source": [
        "Report unadjusted estimates of the average treatment effect of the\n",
        "program after waves 2, 3, and 4."
      ],
      "id": "d2c716c0-41ce-4ef0-8445-9aa980a1b65d"
    },
    {
      "cell_type": "code",
      "execution_count": 3,
      "metadata": {},
      "outputs": [],
      "source": [
        "import statsmodels.formula.api as smf\n",
        "# your code here\n",
        "# look at the mean by treatment status of df.own_home_u25 and similar variables\n",
        "# use smf.ols() to get standard errors"
      ],
      "id": "ae6aae06"
    },
    {
      "cell_type": "markdown",
      "metadata": {},
      "source": [
        "# Question 3\n",
        "\n",
        "Treatment was assigned randomly in wave 1, but not everyone responded to\n",
        "later surveys.\n",
        "\n",
        "## Q3.1\n",
        "\n",
        "Report the difference in average monthly income at wave 1 between the\n",
        "treatment and control group for everyone in the data, everyone\n",
        "responding to waves 1 and 2, everyone responding to waves 1 and 3, and\n",
        "everyone responding to waves 1 and 4. Also include standard errors for\n",
        "the differences.\n",
        "\n",
        "*Hint: Monthly income is `inc_tot_u17`. Being in waves 1 and X is\n",
        "`sample1X`.*"
      ],
      "id": "dce895c1-1317-495b-b94b-e19f261d27e7"
    },
    {
      "cell_type": "code",
      "execution_count": 4,
      "metadata": {},
      "outputs": [],
      "source": [
        "# your code here"
      ],
      "id": "9c98f8d1"
    },
    {
      "cell_type": "markdown",
      "metadata": {},
      "source": [
        "## Q3.2\n",
        "\n",
        "Why might treatment be related potential outcomes conditional a\n",
        "responding to a later survey?"
      ],
      "id": "1c5ebb57-1b63-4e6f-801d-6522b5bc5a13"
    },
    {
      "cell_type": "markdown",
      "metadata": {},
      "source": [
        "(your answer)"
      ],
      "id": "f7fd366b-ed16-4306-a916-09fededb18e3"
    },
    {
      "cell_type": "markdown",
      "metadata": {},
      "source": [
        "# Question 4\n",
        "\n",
        "## Q4.1\n",
        "\n",
        "Use a flexible model to estimate the propensity score. Include only\n",
        "pretreatment variables (i.e. variables recorded in wave 1) when\n",
        "estimating the propensity score."
      ],
      "id": "dcf1f806-10be-44c6-a787-7b246671b063"
    },
    {
      "cell_type": "code",
      "execution_count": 5,
      "metadata": {},
      "outputs": [],
      "source": [
        "from sklearn.linear_model import LogisticRegression, LogisticRegressionCV, LassoCV\n",
        "from sklearn.ensemble import GradientBoostingRegressor, GradientBoostingClassifier\n",
        "from sklearn.preprocessing import PolynomialFeatures\n",
        "# your code here"
      ],
      "id": "81e30334"
    },
    {
      "cell_type": "markdown",
      "metadata": {},
      "source": [
        "## Q4.2\n",
        "\n",
        "Check for overlap by plotting histograms of estimated propensity scores\n",
        "conditional on treatment status."
      ],
      "id": "22c9e5bf-b0a7-416f-b8ab-eb72af98e1b2"
    },
    {
      "cell_type": "code",
      "execution_count": 6,
      "metadata": {},
      "outputs": [],
      "source": [
        "from matplotlib import style\n",
        "from matplotlib import pyplot as plt\n",
        "style.use(\"fivethirtyeight\") # or whatever you prefer\n",
        "# your code here"
      ],
      "id": "b1b8193d"
    },
    {
      "cell_type": "markdown",
      "metadata": {},
      "source": [
        "# Question 5\n",
        "\n",
        "## Q5.1\n",
        "\n",
        "Compute a doubly robust estimates of the effect of the treatment on home\n",
        "ownership at waves 2-4 (3 separate estimates). Report estimates and\n",
        "confidence intervals."
      ],
      "id": "b61dc4e7-a76d-4bff-a363-7535c041cb3c"
    },
    {
      "cell_type": "code",
      "execution_count": 7,
      "metadata": {},
      "outputs": [],
      "source": [
        "from econml.dr import LinearDRLearner\n",
        "# your code here"
      ],
      "id": "662d1824"
    },
    {
      "cell_type": "markdown",
      "metadata": {},
      "source": [
        "## Q5.2\n",
        "\n",
        "Create a plot of your estimated treatment effects by wave with\n",
        "confidence intervals."
      ],
      "id": "599dada8-ec6b-4c15-bde4-069085bc0f70"
    },
    {
      "cell_type": "code",
      "execution_count": 8,
      "metadata": {},
      "outputs": [],
      "source": [
        "# your code here"
      ],
      "id": "1ecff1a9"
    },
    {
      "cell_type": "markdown",
      "metadata": {},
      "source": [
        "## Q5.3\n",
        "\n",
        "Compare your estimates to those in table 4 and figure 1 of M.\n",
        "Grinstein-Weiss et al. (2013)."
      ],
      "id": "d2c77771-dd91-4f3c-a63f-3d3c92c5b516"
    },
    {
      "cell_type": "markdown",
      "metadata": {},
      "source": [
        "(your answer)"
      ],
      "id": "211cc5e9-c3d7-4cc2-be05-ac4c364c9afa"
    },
    {
      "cell_type": "markdown",
      "metadata": {},
      "source": [
        "# References\n",
        "\n",
        "Grinstein-Weiss, Michal, Michael Sherraden, William G. Gale, William M.\n",
        "Rohe, Mark Schreiner, and Clinton Key. 2013. “Long-Term Impacts of\n",
        "Individual Development Accounts on Homeownership Among Baseline Renters:\n",
        "Follow-up Evidence from a Randomized Experiment.” *American Economic\n",
        "Journal: Economic Policy* 5 (1): 122–45.\n",
        "<https://doi.org/10.1257/pol.5.1.122>.\n",
        "\n",
        "Grinstein-Weiss, Sherraden, Michal, and Clinton Key. 2013. “Replication\n",
        "Data for: Long-Term Impacts of Individual Development Accounts on\n",
        "Homeownership Among Baseline Renters: Follow-up Evidence from a\n",
        "Randomized Experiment.” American Economic Association.\n",
        "<https://doi.org/10.3886/E116540V1>."
      ],
      "id": "951503e4-69ea-4d10-a7a7-4a6af2287bab"
    }
  ],
  "nbformat": 4,
  "nbformat_minor": 5,
  "metadata": {
    "kernelspec": {
      "name": "python3",
      "display_name": "Python 3 (ipykernel)",
      "language": "python"
    }
  }
}