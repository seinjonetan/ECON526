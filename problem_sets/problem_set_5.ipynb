{
  "cells": [
    {
      "cell_type": "markdown",
      "id": "8e433ae9-d028-43af-b87c-9545bfd936b3",
      "metadata": {},
      "source": [
        "# ECON526: Assignment 5\n",
        "\n",
        "Jesse Perla, Paul Schrimpf, and Phil Solimine\n",
        "\n",
        "## Setup\n",
        "\n",
        "Feel free to use the following packages (and we have added a few\n",
        "convenience imports)"
      ]
    },
    {
      "cell_type": "code",
      "execution_count": 23,
      "id": "1c62b323",
      "metadata": {},
      "outputs": [],
      "source": [
        "import numpy as np\n",
        "import matplotlib.pyplot as plt\n",
        "import scipy\n",
        "from scipy import stats\n",
        "import pandas as pd"
      ]
    },
    {
      "cell_type": "markdown",
      "id": "e6c72d8d-1927-424d-8498-f3411560fe03",
      "metadata": {},
      "source": [
        "# Q1\n",
        "\n",
        "## Q1.1\n",
        "\n",
        "The file `practice_data.csv`, inside the `data` folder, contains data\n",
        "from a simulated experiment.\n",
        "\n",
        "Read the dataset into a pandas dataframe. The data contains 2 columns,\n",
        "`treatment` and `outcome`. The `treatment` column is a binary variable\n",
        "that indicates whether the subject was assigned to the treatment group\n",
        "(1) or the control group (0). The `outcome` column is a continuous\n",
        "variable that indicates the outcome of the experiment for each subject.\n",
        "\n",
        "Print the head of this dataframe."
      ]
    },
    {
      "cell_type": "code",
      "execution_count": 24,
      "id": "0d5eb179",
      "metadata": {},
      "outputs": [
        {
          "name": "stdout",
          "output_type": "stream",
          "text": [
            "   treatment    outcome\n",
            "0        0.0  12.730528\n",
            "1        0.0   7.533367\n",
            "2        1.0   4.394966\n",
            "3        0.0   9.002290\n",
            "4        0.0  10.519336\n"
          ]
        }
      ],
      "source": [
        "# your code here\n",
        "df_p = pd.read_csv('practice_data.csv')\n",
        "print(df_p.head())"
      ]
    },
    {
      "cell_type": "markdown",
      "id": "6bc21e3a-6275-4db3-a76a-47e5bd3cccde",
      "metadata": {},
      "source": [
        "Create a histogram of the outcome variable, which has the distributions\n",
        "of the outcome for the treatment and control groups overlaid on top of\n",
        "each other in different colors. Make the histogram transparent so that\n",
        "you can clearly see both distributions. Add a legend to the plot to\n",
        "indicate which distribution is which."
      ]
    },
    {
      "cell_type": "code",
      "execution_count": 25,
      "id": "d29754e4",
      "metadata": {},
      "outputs": [
        {
          "data": {
            "image/png": "[encoded data removed]",
            "text/plain": [
              "<Figure size 640x480 with 1 Axes>"
            ]
          },
          "metadata": {},
          "output_type": "display_data"
        }
      ],
      "source": [
        "# your code here\n",
        "fig, ax = plt.subplots()\n",
        "for _ in np.unique(df_p['treatment']):\n",
        "    ax.hist(df_p[df_p['treatment']==_]['outcome'], alpha=0.5, label=f'Treatment {_}')\n",
        "ax.legend()\n",
        "ax.patch.set_alpha(0.2)\n",
        "plt.show()"
      ]
    },
    {
      "cell_type": "markdown",
      "id": "5e462a02-cced-43f5-9d9f-ce240c60a52c",
      "metadata": {},
      "source": [
        "## Q1.2\n",
        "\n",
        "Estimate the average treatment effect (ATE) using the difference in\n",
        "sample means as your estimator. Print each sample average and your point\n",
        "estimate of the ATE as formatted strings. Interpret your result in the\n",
        "markdown cell below."
      ]
    },
    {
      "cell_type": "code",
      "execution_count": 26,
      "id": "1e8ca5c9",
      "metadata": {},
      "outputs": [
        {
          "name": "stdout",
          "output_type": "stream",
          "text": [
            "Mean control: 8.980284426319495\n",
            "Mean treatment: 5.078088032415784\n",
            "Difference: -3.9021963939037105\n"
          ]
        }
      ],
      "source": [
        "# your code here\n",
        "mean_control = df_p[df_p['treatment']==0]['outcome'].mean()\n",
        "mean_treatment = df_p[df_p['treatment']==1]['outcome'].mean()\n",
        "\n",
        "print(f'Mean control: {mean_control}')\n",
        "print(f'Mean treatment: {mean_treatment}')\n",
        "print(f'Difference: {mean_treatment - mean_control}')"
      ]
    },
    {
      "cell_type": "markdown",
      "id": "48c27120-4046-461b-99c5-e2fb196a9a52",
      "metadata": {},
      "source": [
        "On average, the control group has an outcome that is 3.9 units higher than the treatment group. This is the estimated ATE."
      ]
    },
    {
      "cell_type": "markdown",
      "id": "36bdb015-d586-4fdd-8af7-a0291dfc2812",
      "metadata": {},
      "source": [
        "## Q1.3\n",
        "\n",
        "Now use the standard error formula to calculate the asymptotic standard\n",
        "errors of each of the sample means, and use these to construct a 95%\n",
        "confidence interval for the ATE. Print all output in formatted strings.\n",
        "In the markdown cell below, interpret your confidence interval."
      ]
    },
    {
      "cell_type": "code",
      "execution_count": 51,
      "id": "0f918325",
      "metadata": {},
      "outputs": [
        {
          "name": "stdout",
          "output_type": "stream",
          "text": [
            "Control Standard Errors: 0.015920356842719516\n",
            "Treatment Standard Errors: 0.0382831103150217\n",
            "ATE Confidence Interval: (-3.9458514766652075, -3.8585413111422135)\n"
          ]
        }
      ],
      "source": [
        "# your code here\n",
        "se_control = df_p[df_p['treatment']==0]['outcome'].std()\n",
        "se_treatment = df_p[df_p['treatment']==1]['outcome'].std()\n",
        "\n",
        "print(f'Control Standard Errors: {se_control / np.sqrt(len(df_p[df_p[\"treatment\"]==0]))}')\n",
        "print(f'Treatment Standard Errors: {se_treatment / np.sqrt(len(df_p[df_p[\"treatment\"]==1]))}')\n",
        "\n",
        "alpha = 0.05\n",
        "\n",
        "ate = mean_treatment - mean_control\n",
        "se = np.sqrt((se_control**2 + se_treatment**2) / (len(df_p['treatment']) - 2))\n",
        "ci = scipy.stats.t.interval(1-alpha, len(df_p['treatment']) - 2, loc=ate, scale=se)\n",
        "print(f'ATE Confidence Interval: {ci}')"
      ]
    },
    {
      "cell_type": "markdown",
      "id": "c0111ed5-9383-4777-9b14-0263b1efbdb8",
      "metadata": {},
      "source": [
        "The confidence interval can be interpreted as follows: if we were to repeat the experiment many times, we would expect the true value to be within the confidence interval 95% of the time.\n",
        "\n",
        "Since 0 is not in the confidence interval, we can reject the null hypothesis that the ATE is 0."
      ]
    },
    {
      "cell_type": "markdown",
      "id": "e77053cc-3f38-403c-aa50-6a03eab03654",
      "metadata": {},
      "source": [
        "## Q1.4\n",
        "\n",
        "Estimate the standard errors again using bootstrapping. You should use\n",
        "1000 bootstrap samples. Print the standard errors and the 95% confidence\n",
        "interval for the ATE. How are the results different? Is this what you\n",
        "expected? Explain in the markdown cell below.\n",
        "\n",
        "Hint: when you resample, make sure to keep the same proportion of\n",
        "treatment and control observations as in the original sample. An easier\n",
        "way to do this might be to split the data into treatment and control\n",
        "groups, resample each group separately, and then combine the resampled\n",
        "groups back into a single dataframe."
      ]
    },
    {
      "cell_type": "code",
      "execution_count": 52,
      "id": "01d4700b",
      "metadata": {},
      "outputs": [
        {
          "name": "stdout",
          "output_type": "stream",
          "text": [
            "Bootstrap Control SE: 0.00017126570213062633\n",
            "Bootstrap Treatment SE: 0.0008795803369479427\n",
            "Bootstrap Control Confidence Interval: (-3.905161441289304, -3.90145723843457)\n"
          ]
        }
      ],
      "source": [
        "np.random.seed(100) # do not change this line\n",
        "# your code here\n",
        "\n",
        "bs_size = 1000\n",
        "\n",
        "resample = lambda sample_data, sample_size: np.random.choice(sample_data, size=sample_size, replace=True)\n",
        "\n",
        "len_control = len(df_p[df_p['treatment']==0])\n",
        "len_treatment = len(df_p[df_p['treatment']==1])\n",
        "\n",
        "data_control = df_p[df_p['treatment']==0]['outcome']\n",
        "data_treatment = df_p[df_p['treatment']==1]['outcome']\n",
        "\n",
        "bootstrap_control = np.array([resample(data_control, len_control).mean() for _ in range(bs_size)])\n",
        "bootstrap_treatment = np.array([resample(data_treatment, len_treatment).mean() for _ in range(bs_size)])\n",
        "\n",
        "ate_bs = bootstrap_treatment.mean() - bootstrap_control.mean()\n",
        "\n",
        "se_bs_control = bootstrap_control.std()\n",
        "se_bs_treatment = bootstrap_treatment.std()\n",
        "\n",
        "se_ate = np.sqrt((se_bs_control**2 + se_bs_treatment**2) / (2*bs_size - 2))\n",
        "\n",
        "print(f'Bootstrap Control SE: {se_bs_control / np.sqrt(len_control)}')\n",
        "print(f'Bootstrap Treatment SE: {se_bs_treatment / np.sqrt(len_treatment)}')\n",
        "\n",
        "ci_bs_control = scipy.stats.t.interval(1-alpha, 2*bs_size-2, loc=ate_bs, scale=se_ate)\n",
        "\n",
        "print(f'Bootstrap Control Confidence Interval: {ci_bs_control}')"
      ]
    },
    {
      "cell_type": "markdown",
      "id": "6e858674-b5cd-40c8-b018-aceea27963d8",
      "metadata": {},
      "source": [
        "The bootstrap standard errors are much smaller than the previous standard erros. This results in a much narrower confidence interval."
      ]
    },
    {
      "cell_type": "markdown",
      "id": "1c4d0c2e-2fca-4dd1-bef2-3a788cf88f54",
      "metadata": {},
      "source": [
        "# Q2\n",
        "\n",
        "## Q2.1\n",
        "\n",
        "In class we analyzed the effect of online class formats on student\n",
        "scores in a course. We found that the online format produced a negative\n",
        "effect on scores.\n",
        "\n",
        "The dataset is stored in `data/online_classroom.csv`. Read the data into\n",
        "a pandas dataframe and print the head."
      ]
    },
    {
      "cell_type": "code",
      "execution_count": 29,
      "id": "07cd0cdb",
      "metadata": {},
      "outputs": [
        {
          "name": "stdout",
          "output_type": "stream",
          "text": [
            "   gender  asian  black  hawaiian  hispanic  unknown  white  format_ol  \\\n",
            "0       0    0.0    0.0       0.0       0.0      0.0    1.0          0   \n",
            "1       1    0.0    0.0       0.0       0.0      0.0    1.0          0   \n",
            "2       1    0.0    0.0       0.0       0.0      0.0    1.0          0   \n",
            "3       1    0.0    0.0       0.0       0.0      0.0    1.0          0   \n",
            "4       1    0.0    0.0       0.0       0.0      0.0    1.0          1   \n",
            "\n",
            "   format_blended  falsexam  \n",
            "0             0.0  63.29997  \n",
            "1             0.0  79.96000  \n",
            "2             1.0  83.37000  \n",
            "3             1.0  90.01994  \n",
            "4             0.0  83.30000  \n"
          ]
        }
      ],
      "source": [
        "# your code here\n",
        "df_online = pd.read_csv('online_classroom.csv')\n",
        "print(df_online.head())"
      ]
    },
    {
      "cell_type": "markdown",
      "id": "cb7e75f6-7722-41d3-ae60-90ac8de34fe2",
      "metadata": {},
      "source": [
        "Create a similar plot to the one we created in class, with the\n",
        "distribution of scores for each class format (online, face-to-face, and\n",
        "blended) overlaid on top of each other. Make the plot transparent so\n",
        "that you can clearly see all three distributions. Add a legend to the\n",
        "plot to indicate which distribution is which. Draw vertical lines on the\n",
        "plot (using the `vlines` function) to indicate the mean score for each\n",
        "class format. Make sure that the distributions and vertical lines are\n",
        "different colors so that you can tell them apart."
      ]
    },
    {
      "cell_type": "code",
      "execution_count": 30,
      "id": "59755c1d",
      "metadata": {},
      "outputs": [
        {
          "data": {
            "image/png": "[encoded data removed]",
            "text/plain": [
              "<Figure size 640x480 with 1 Axes>"
            ]
          },
          "metadata": {},
          "output_type": "display_data"
        }
      ],
      "source": [
        "# your code here\n",
        "fig, ax = plt.subplots()\n",
        "mask_ol = df_online['format_ol'] == 1\n",
        "mask_blended = df_online['format_blended'] == 1\n",
        "mask_inperson = (df_online['format_ol'] == 0) & (df_online['format_blended'] == 0)\n",
        "\n",
        "ax.hist(df_online[mask_ol]['falsexam'], alpha=0.5, label='Online')\n",
        "ax.hist(df_online[mask_blended]['falsexam'], alpha=0.5, label='Blended')\n",
        "ax.hist(df_online[mask_inperson]['falsexam'], alpha=0.5, label='In Person')\n",
        "\n",
        "ax.legend()\n",
        "ax.patch.set_alpha(0.2)\n",
        "plt.show()"
      ]
    },
    {
      "cell_type": "markdown",
      "id": "be81a972-8e11-45b4-a8c8-9908b24bdc0c",
      "metadata": {},
      "source": [
        "## Q2.2\n",
        "\n",
        "Follow the steps from class to estimate the average treatment effect\n",
        "(ATE) of the online format, using the blended format as the control\n",
        "group. Use using the **difference in sample means** as your estimator.\n",
        "Print each sample average and your point estimate of the ATE, along with\n",
        "the standard error of each mean and the standard error of the ATE. Can\n",
        "you reasonably conclude (at the **90% confidence level**) that the\n",
        "online format causes lower test scores than the blended format? Explain\n",
        "in the markdown cell below."
      ]
    },
    {
      "cell_type": "code",
      "execution_count": 45,
      "id": "5033c1ce",
      "metadata": {},
      "outputs": [
        {
          "name": "stdout",
          "output_type": "stream",
          "text": [
            "Online mean : 73.63526308510637\n",
            "Blended mean : 77.09373137614679\n",
            "Standard Error ATE: 1.2692973000735959\n",
            "Online ATE Confidence Interval: (-5.5559437999052115, -1.3609927821756265)\n"
          ]
        }
      ],
      "source": [
        "# your code here\n",
        "mean_online = df_online[mask_ol]['falsexam'].mean()\n",
        "mean_blended = df_online[mask_blended]['falsexam'].mean()\n",
        "\n",
        "ate_online = mean_online - mean_blended\n",
        "se_ate_online = np.sqrt((df_online[mask_ol]['falsexam'].var() + df_online[mask_blended]['falsexam'].var()) / (len(df_online[mask_ol]) + len(df_online[mask_blended]) - 2))\n",
        "\n",
        "alpha = 0.1\n",
        "ci_online = scipy.stats.t.interval(1-alpha, len(df_online[mask_ol])+len(df_online[mask_blended])-2, loc=ate_online, scale=se_ate_online)\n",
        "\n",
        "print(f'Online mean : {mean_online}')\n",
        "print(f'Blended mean : {mean_blended}')\n",
        "\n",
        "print(f'Standard Error ATE: {se_ate_online}')\n",
        "\n",
        "print(f'Online ATE Confidence Interval: {ci_online}')"
      ]
    },
    {
      "cell_type": "markdown",
      "id": "6317228f-b07b-481a-8126-082596bf0a56",
      "metadata": {},
      "source": [
        "ate_online gives the average treatment effects by subtracting the mean test scores of the blended group from the online group. set_ate_onine is the standard error of the ATE calculated by taking the square root of the sum of the squared standard errors of the online and blended groups. ci_online is the 90% confidence interval for the ATE.\n",
        "\n",
        "In this case, we can reject the null hypothesis that the ATE is 0 because 0 is not in the confidence interval."
      ]
    },
    {
      "cell_type": "markdown",
      "id": "70148059-787a-46fb-9208-0ac2fcaac667",
      "metadata": {},
      "source": [
        "## Q2.3\n",
        "\n",
        "In class we noticed that there are not all that many observations in the\n",
        "dataset. It also looks like the distribution of scores is not normal (in\n",
        "fact, we know it’s not, since the score is bounded below at 0 and above\n",
        "at 100). So we might be concerned that this, plus the limited amount of\n",
        "data, means that our asymptotic standard errors are not very accurate.\n",
        "\n",
        "Use bootstrapping to estimate the standard error of the ATE. You should\n",
        "use 1000 bootstrap samples. Print the standard errors and the 90%\n",
        "confidence interval for the ATE. How are the results different?\n",
        "\n",
        "Is this what you expected? Does it seem like we have enough data for the\n",
        "estimator to approach its asymptotic distribution? Explain in the\n",
        "markdown cell below.\n",
        "\n",
        "Hint: like before, start by splitting the data into treatment (online)\n",
        "and control (blended) groups. Define a function that will resample the\n",
        "dataframes. Then resample each group separately to maintain the right\n",
        "proportion of treatment and control observations."
      ]
    },
    {
      "cell_type": "code",
      "execution_count": 46,
      "id": "927851fd",
      "metadata": {},
      "outputs": [
        {
          "name": "stdout",
          "output_type": "stream",
          "text": [
            "Bootstrap SE: 0.12700813081256626\n",
            "Bootstrap Control Confidence Interval: (-3.6906820490720946, -3.2726686646366976)\n"
          ]
        }
      ],
      "source": [
        "np.random.seed(100) # do not change this line\n",
        "# your code here\n",
        "\n",
        "len_online = len(df_online[mask_ol])\n",
        "len_blend = len(df_online[mask_blended])\n",
        "\n",
        "data_online = df_online[mask_ol]['falsexam']\n",
        "data_blend = df_online[mask_blended]['falsexam']\n",
        "\n",
        "bootstrap_online = np.array([resample(data_online, len_online).mean() for _ in range(bs_size)])\n",
        "bootstrap_blend = np.array([resample(data_blend, len_blend).mean() for _ in range(bs_size)])\n",
        "\n",
        "ate_bs = bootstrap_online.mean() - bootstrap_blend.mean()\n",
        "\n",
        "se_bs_online = bootstrap_online.std()\n",
        "se_bs_blend = bootstrap_blend.std()\n",
        "\n",
        "se_ate = np.sqrt((se_bs_online**2 + se_bs_blend**2) / (len_online + len_blend - 2))\n",
        "\n",
        "print(f'Bootstrap SE: {se_ate}')\n",
        "\n",
        "ci_bs_control = scipy.stats.t.interval(1-alpha, 2*bs_size-2, loc=ate_bs, scale=se_ate)\n",
        "\n",
        "print(f'Bootstrap Control Confidence Interval: {ci_bs_control}')"
      ]
    },
    {
      "cell_type": "markdown",
      "id": "5395254e-3936-4fa4-8aa2-b89cbccb0754",
      "metadata": {},
      "source": [
        "Simillar to the previous question, the bootstrap standard errors are much smaller than the previous standard erros. This results in a much narrower confidence interval.\n",
        "\n",
        "It looks like we have enough data for the estimator to approach its asymptotic distribution. As expected the bootstrap standard errors are smaller than the asymptotic standard errors. "
      ]
    }
  ],
  "metadata": {
    "kernelspec": {
      "display_name": "Python 3 (ipykernel)",
      "language": "python",
      "name": "python3"
    },
    "language_info": {
      "codemirror_mode": {
        "name": "ipython",
        "version": 3
      },
      "file_extension": ".py",
      "mimetype": "text/x-python",
      "name": "python",
      "nbconvert_exporter": "python",
      "pygments_lexer": "ipython3",
      "version": "3.10.12"
    }
  },
  "nbformat": 4,
  "nbformat_minor": 5
}
