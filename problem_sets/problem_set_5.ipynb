{
  "cells": [
    {
      "cell_type": "markdown",
      "metadata": {},
      "source": [
        "# ECON526: Assignment 5\n",
        "\n",
        "Jesse Perla, Paul Schrimpf, and Phil Solimine\n",
        "\n",
        "## Setup\n",
        "\n",
        "Feel free to use the following packages (and we have added a few\n",
        "convenience imports)"
      ],
      "id": "8e433ae9-d028-43af-b87c-9545bfd936b3"
    },
    {
      "cell_type": "code",
      "execution_count": 1,
      "metadata": {},
      "outputs": [],
      "source": [
        "import numpy as np\n",
        "import matplotlib.pyplot as plt\n",
        "import scipy\n",
        "from scipy import stats\n",
        "import pandas as pd"
      ],
      "id": "1c62b323"
    },
    {
      "cell_type": "markdown",
      "metadata": {},
      "source": [
        "# Q1\n",
        "\n",
        "## Q1.1\n",
        "\n",
        "The file `practice_data.csv`, inside the `data` folder, contains data\n",
        "from a simulated experiment.\n",
        "\n",
        "Read the dataset into a pandas dataframe. The data contains 2 columns,\n",
        "`treatment` and `outcome`. The `treatment` column is a binary variable\n",
        "that indicates whether the subject was assigned to the treatment group\n",
        "(1) or the control group (0). The `outcome` column is a continuous\n",
        "variable that indicates the outcome of the experiment for each subject.\n",
        "\n",
        "Print the head of this dataframe."
      ],
      "id": "e6c72d8d-1927-424d-8498-f3411560fe03"
    },
    {
      "cell_type": "code",
      "execution_count": 2,
      "metadata": {},
      "outputs": [],
      "source": [
        "# your code here"
      ],
      "id": "0d5eb179"
    },
    {
      "cell_type": "markdown",
      "metadata": {},
      "source": [
        "Create a histogram of the outcome variable, which has the distributions\n",
        "of the outcome for the treatment and control groups overlaid on top of\n",
        "each other in different colors. Make the histogram transparent so that\n",
        "you can clearly see both distributions. Add a legend to the plot to\n",
        "indicate which distribution is which."
      ],
      "id": "6bc21e3a-6275-4db3-a76a-47e5bd3cccde"
    },
    {
      "cell_type": "code",
      "execution_count": 3,
      "metadata": {},
      "outputs": [],
      "source": [
        "# your code here"
      ],
      "id": "d29754e4"
    },
    {
      "cell_type": "markdown",
      "metadata": {},
      "source": [
        "## Q1.2\n",
        "\n",
        "Estimate the average treatment effect (ATE) using the difference in\n",
        "sample means as your estimator. Print each sample average and your point\n",
        "estimate of the ATE as formatted strings. Interpret your result in the\n",
        "markdown cell below."
      ],
      "id": "5e462a02-cced-43f5-9d9f-ce240c60a52c"
    },
    {
      "cell_type": "code",
      "execution_count": 7,
      "metadata": {},
      "outputs": [],
      "source": [
        "# your code here"
      ],
      "id": "1e8ca5c9"
    },
    {
      "cell_type": "markdown",
      "metadata": {},
      "source": [
        "(double click to edit your answer)"
      ],
      "id": "48c27120-4046-461b-99c5-e2fb196a9a52"
    },
    {
      "cell_type": "markdown",
      "metadata": {},
      "source": [
        "## Q1.3\n",
        "\n",
        "Now use the standard error formula to calculate the asymptotic standard\n",
        "errors of each of the sample means, and use these to construct a 95%\n",
        "confidence interval for the ATE. Print all output in formatted strings.\n",
        "In the markdown cell below, interpret your confidence interval."
      ],
      "id": "36bdb015-d586-4fdd-8af7-a0291dfc2812"
    },
    {
      "cell_type": "code",
      "execution_count": 9,
      "metadata": {},
      "outputs": [],
      "source": [
        "# your code here"
      ],
      "id": "0f918325"
    },
    {
      "cell_type": "markdown",
      "metadata": {},
      "source": [
        "(double click to edit your answer)"
      ],
      "id": "c0111ed5-9383-4777-9b14-0263b1efbdb8"
    },
    {
      "cell_type": "markdown",
      "metadata": {},
      "source": [
        "## Q1.4\n",
        "\n",
        "Estimate the standard errors again using bootstrapping. You should use\n",
        "1000 bootstrap samples. Print the standard errors and the 95% confidence\n",
        "interval for the ATE. How are the results different? Is this what you\n",
        "expected? Explain in the markdown cell below.\n",
        "\n",
        "Hint: when you resample, make sure to keep the same proportion of\n",
        "treatment and control observations as in the original sample. An easier\n",
        "way to do this might be to split the data into treatment and control\n",
        "groups, resample each group separately, and then combine the resampled\n",
        "groups back into a single dataframe."
      ],
      "id": "e77053cc-3f38-403c-aa50-6a03eab03654"
    },
    {
      "cell_type": "code",
      "execution_count": 11,
      "metadata": {},
      "outputs": [],
      "source": [
        "np.random.seed(100) # do not change this line\n",
        "# your code here"
      ],
      "id": "01d4700b"
    },
    {
      "cell_type": "markdown",
      "metadata": {},
      "source": [
        "(double click to edit your answer)"
      ],
      "id": "6e858674-b5cd-40c8-b018-aceea27963d8"
    },
    {
      "cell_type": "markdown",
      "metadata": {},
      "source": [
        "# Q2\n",
        "\n",
        "## Q2.1\n",
        "\n",
        "In class we analyzed the effect of online class formats on student\n",
        "scores in a course. We found that the online format produced a negative\n",
        "effect on scores.\n",
        "\n",
        "The dataset is stored in `data/online_classroom.csv`. Read the data into\n",
        "a pandas dataframe and print the head."
      ],
      "id": "1c4d0c2e-2fca-4dd1-bef2-3a788cf88f54"
    },
    {
      "cell_type": "code",
      "execution_count": 13,
      "metadata": {},
      "outputs": [],
      "source": [
        "# your code here"
      ],
      "id": "07cd0cdb"
    },
    {
      "cell_type": "markdown",
      "metadata": {},
      "source": [
        "Create a similar plot to the one we created in class, with the\n",
        "distribution of scores for each class format (online, face-to-face, and\n",
        "blended) overlaid on top of each other. Make the plot transparent so\n",
        "that you can clearly see all three distributions. Add a legend to the\n",
        "plot to indicate which distribution is which. Draw vertical lines on the\n",
        "plot (using the `vlines` function) to indicate the mean score for each\n",
        "class format. Make sure that the distributions and vertical lines are\n",
        "different colors so that you can tell them apart."
      ],
      "id": "cb7e75f6-7722-41d3-ae60-90ac8de34fe2"
    },
    {
      "cell_type": "code",
      "execution_count": 14,
      "metadata": {},
      "outputs": [],
      "source": [
        "# your code here"
      ],
      "id": "59755c1d"
    },
    {
      "cell_type": "markdown",
      "metadata": {},
      "source": [
        "## Q2.2\n",
        "\n",
        "Follow the steps from class to estimate the average treatment effect\n",
        "(ATE) of the online format, using the blended format as the control\n",
        "group. Use using the **difference in sample means** as your estimator.\n",
        "Print each sample average and your point estimate of the ATE, along with\n",
        "the standard error of each mean and the standard error of the ATE. Can\n",
        "you reasonably conclude (at the **90% confidence level**) that the\n",
        "online format causes lower test scores than the blended format? Explain\n",
        "in the markdown cell below."
      ],
      "id": "be81a972-8e11-45b4-a8c8-9908b24bdc0c"
    },
    {
      "cell_type": "code",
      "execution_count": 17,
      "metadata": {},
      "outputs": [],
      "source": [
        "# your code here"
      ],
      "id": "5033c1ce"
    },
    {
      "cell_type": "markdown",
      "metadata": {},
      "source": [
        "(double click to edit your answer)"
      ],
      "id": "6317228f-b07b-481a-8126-082596bf0a56"
    },
    {
      "cell_type": "markdown",
      "metadata": {},
      "source": [
        "## Q2.3\n",
        "\n",
        "In class we noticed that there are not all that many observations in the\n",
        "dataset. It also looks like the distribution of scores is not normal (in\n",
        "fact, we know it’s not, since the score is bounded below at 0 and above\n",
        "at 100). So we might be concerned that this, plus the limited amount of\n",
        "data, means that our asymptotic standard errors are not very accurate.\n",
        "\n",
        "Use bootstrapping to estimate the standard error of the ATE. You should\n",
        "use 1000 bootstrap samples. Print the standard errors and the 90%\n",
        "confidence interval for the ATE. How are the results different?\n",
        "\n",
        "Is this what you expected? Does it seem like we have enough data for the\n",
        "estimator to approach its asymptotic distribution? Explain in the\n",
        "markdown cell below.\n",
        "\n",
        "Hint: like before, start by splitting the data into treatment (online)\n",
        "and control (blended) groups. Define a function that will resample the\n",
        "dataframes. Then resample each group separately to maintain the right\n",
        "proportion of treatment and control observations."
      ],
      "id": "70148059-787a-46fb-9208-0ac2fcaac667"
    },
    {
      "cell_type": "code",
      "execution_count": 19,
      "metadata": {},
      "outputs": [],
      "source": [
        "np.random.seed(100) # do not change this line\n",
        "# your code here"
      ],
      "id": "927851fd"
    },
    {
      "cell_type": "markdown",
      "metadata": {},
      "source": [
        "(double click to edit your answer)"
      ],
      "id": "5395254e-3936-4fa4-8aa2-b89cbccb0754"
    }
  ],
  "nbformat": 4,
  "nbformat_minor": 5,
  "metadata": {
    "kernelspec": {
      "name": "python3",
      "display_name": "Python 3 (ipykernel)",
      "language": "python"
    },
    "language_info": {
      "name": "python",
      "codemirror_mode": {
        "name": "ipython",
        "version": "3"
      },
      "file_extension": ".py",
      "mimetype": "text/x-python",
      "nbconvert_exporter": "python",
      "pygments_lexer": "ipython3",
      "version": "3.11.4"
    }
  }
}