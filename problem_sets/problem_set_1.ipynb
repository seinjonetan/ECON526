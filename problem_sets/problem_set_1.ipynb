{
  "cells": [
    {
      "cell_type": "markdown",
      "id": "c0264e49-4b64-4573-9566-710b2f1037f8",
      "metadata": {},
      "source": [
        "# ECON526: Assignment 1\n",
        "\n",
        "Jesse Perla, Paul Schrimpf, and Phil Solimine\n",
        "\n",
        "## Setup"
      ]
    },
    {
      "cell_type": "code",
      "execution_count": 6,
      "id": "eda8fe9c-2eed-48b8-90f0-1686e73682ac",
      "metadata": {},
      "outputs": [],
      "source": [
        "import numpy as np\n",
        "import matplotlib.pyplot as plt\n",
        "import math"
      ]
    },
    {
      "cell_type": "markdown",
      "id": "6c64d1fb-8149-401a-bfa5-dfd05ed41b2f",
      "metadata": {},
      "source": [
        "Install Python (with Jupyter and/or VS Code as you wish) and git.\n",
        "\n",
        "-   See [here](https://github.com/ubcecon/ECON526#computing-environment)\n",
        "    for very instructions and links.\n",
        "-   VS Code is optional but recommended.\n",
        "\n",
        "## Q1\n",
        "\n",
        "Modify the next cell with some math text with the Pythagorean theorem\n",
        "(e.g. $x^2 + y^2 = z^2$)"
      ]
    },
    {
      "cell_type": "markdown",
      "id": "0b688641-b35e-41cc-b0ba-92450e2deaee",
      "metadata": {},
      "source": [
        "x**2 + y**2 = z**2"
      ]
    },
    {
      "cell_type": "markdown",
      "id": "c9d5908f-2638-4a74-ba0f-42f8aa7beae4",
      "metadata": {},
      "source": [
        "## Q2\n",
        "\n",
        "Modify the next cell to create a function which takes the sides of the\n",
        "rectangle and calculates the hypotenuse (i.e., code up\n",
        "$z(x,y) = \\sqrt{x^2 + y^2}$) then calculate $z(3,4)$"
      ]
    },
    {
      "cell_type": "code",
      "execution_count": 8,
      "id": "b0c57d02-109f-47b8-a517-c8d73ba3a612",
      "metadata": {},
      "outputs": [
        {
          "name": "stdout",
          "output_type": "stream",
          "text": [
            "3.605551275463989\n"
          ]
        }
      ],
      "source": [
        "# modify here\n",
        "def pyth(x , y):\n",
        "    return math.sqrt(x**2 + y**2)\n",
        "\n",
        "print(pyth(2 , 3))"
      ]
    },
    {
      "cell_type": "markdown",
      "id": "2a079517-ce46-4ac0-ad83-4922a98bda3a",
      "metadata": {},
      "source": [
        "## Q3\n",
        "\n",
        "Take the following system of equations, build a matrix, and solve for\n",
        "the system of equations using numpy’s `linalg.solve` function.\n",
        "\n",
        "$$\n",
        "\\begin{align}\n",
        "2 x_1 + 3 x_2 &= 5 \\\\\n",
        "4 x_1 + 9 x_2 &= 20\n",
        "\\end{align}\n",
        "$$"
      ]
    },
    {
      "cell_type": "code",
      "execution_count": 9,
      "id": "c8bd7a40-7516-460b-ad46-e63d34a4bb48",
      "metadata": {},
      "outputs": [
        {
          "data": {
            "text/plain": [
              "array([-2.5       ,  3.33333333])"
            ]
          },
          "execution_count": 9,
          "metadata": {},
          "output_type": "execute_result"
        }
      ],
      "source": [
        "# modify here\n",
        "a = [[2 , 3] , [4 , 9]]\n",
        "b = [5 , 20]\n",
        "np.linalg.solve(a, b)"
      ]
    },
    {
      "cell_type": "markdown",
      "id": "a7ae4741-4223-4225-bbe1-464f76464ae7",
      "metadata": {},
      "source": [
        "## Q4\n",
        "\n",
        "Now take the following system\n",
        "\n",
        "$$\n",
        "\\begin{align}\n",
        "x_1 + 2 x_2 &= 5 \\\\\n",
        "2 x_1 + 4 x_2 &= 10\n",
        "\\end{align}\n",
        "$$\n",
        "\n",
        "Try this with `linalg.solve`. Why doesn’t it work? If this has a\n",
        "solution, find it and explain."
      ]
    },
    {
      "cell_type": "code",
      "execution_count": 4,
      "id": "95f021d9",
      "metadata": {},
      "outputs": [
        {
          "ename": "LinAlgError",
          "evalue": "Singular matrix",
          "output_type": "error",
          "traceback": [
            "\u001b[0;31m---------------------------------------------------------------------------\u001b[0m",
            "\u001b[0;31mLinAlgError\u001b[0m                               Traceback (most recent call last)",
            "Cell \u001b[0;32mIn[4], line 3\u001b[0m\n\u001b[1;32m      1\u001b[0m c \u001b[39m=\u001b[39m [[\u001b[39m1\u001b[39m , \u001b[39m2\u001b[39m] , [\u001b[39m2\u001b[39m , \u001b[39m4\u001b[39m]]\n\u001b[1;32m      2\u001b[0m d \u001b[39m=\u001b[39m [\u001b[39m5\u001b[39m , \u001b[39m10\u001b[39m]\n\u001b[0;32m----> 3\u001b[0m np\u001b[39m.\u001b[39;49mlinalg\u001b[39m.\u001b[39;49msolve(c , d)\n",
            "File \u001b[0;32m~/.local/lib/python3.10/site-packages/numpy/linalg/linalg.py:409\u001b[0m, in \u001b[0;36msolve\u001b[0;34m(a, b)\u001b[0m\n\u001b[1;32m    407\u001b[0m signature \u001b[39m=\u001b[39m \u001b[39m'\u001b[39m\u001b[39mDD->D\u001b[39m\u001b[39m'\u001b[39m \u001b[39mif\u001b[39;00m isComplexType(t) \u001b[39melse\u001b[39;00m \u001b[39m'\u001b[39m\u001b[39mdd->d\u001b[39m\u001b[39m'\u001b[39m\n\u001b[1;32m    408\u001b[0m extobj \u001b[39m=\u001b[39m get_linalg_error_extobj(_raise_linalgerror_singular)\n\u001b[0;32m--> 409\u001b[0m r \u001b[39m=\u001b[39m gufunc(a, b, signature\u001b[39m=\u001b[39;49msignature, extobj\u001b[39m=\u001b[39;49mextobj)\n\u001b[1;32m    411\u001b[0m \u001b[39mreturn\u001b[39;00m wrap(r\u001b[39m.\u001b[39mastype(result_t, copy\u001b[39m=\u001b[39m\u001b[39mFalse\u001b[39;00m))\n",
            "File \u001b[0;32m~/.local/lib/python3.10/site-packages/numpy/linalg/linalg.py:112\u001b[0m, in \u001b[0;36m_raise_linalgerror_singular\u001b[0;34m(err, flag)\u001b[0m\n\u001b[1;32m    111\u001b[0m \u001b[39mdef\u001b[39;00m \u001b[39m_raise_linalgerror_singular\u001b[39m(err, flag):\n\u001b[0;32m--> 112\u001b[0m     \u001b[39mraise\u001b[39;00m LinAlgError(\u001b[39m\"\u001b[39m\u001b[39mSingular matrix\u001b[39m\u001b[39m\"\u001b[39m)\n",
            "\u001b[0;31mLinAlgError\u001b[0m: Singular matrix"
          ]
        }
      ],
      "source": [
        "c = [[1 , 2] , [2 , 4]]\n",
        "d = [5 , 10]\n",
        "np.linalg.solve(c , d)"
      ]
    },
    {
      "cell_type": "markdown",
      "id": "5c6f74a6-4d22-4b44-bab3-c33ba490c34b",
      "metadata": {},
      "source": [
        "Because it's a singular matrix"
      ]
    },
    {
      "cell_type": "markdown",
      "id": "ce441a22-574c-41e7-bd39-c547e32ed6c6",
      "metadata": {},
      "source": [
        "## Q5\n",
        "\n",
        "Plot $f(x) = x^2$ for a grid of 20 points of $x \\in [0,1]$. Hint: You\n",
        "can make a grid with `np.linspace(...)` and use matplotlib’s\n",
        "`plt.plot(...)` function."
      ]
    },
    {
      "cell_type": "code",
      "execution_count": 5,
      "id": "4b01b40b-6c2a-4990-af03-6883f30dbf2f",
      "metadata": {},
      "outputs": [
        {
          "data": {
            "text/plain": [
              "[<matplotlib.lines.Line2D at 0x7f6802f38e80>]"
            ]
          },
          "execution_count": 5,
          "metadata": {},
          "output_type": "execute_result"
        },
        {
          "data": {
            "image/png": "[encoded data removed]",
            "text/plain": [
              "<Figure size 640x480 with 1 Axes>"
            ]
          },
          "metadata": {},
          "output_type": "display_data"
        }
      ],
      "source": [
        "# modify here\n",
        "x = np.linspace(1 , 0)\n",
        "f = x**2\n",
        "plt.plot(f)"
      ]
    }
  ],
  "metadata": {
    "kernelspec": {
      "display_name": "Python 3 (ipykernel)",
      "language": "python",
      "name": "python3"
    },
    "language_info": {
      "codemirror_mode": {
        "name": "ipython",
        "version": 3
      },
      "file_extension": ".py",
      "mimetype": "text/x-python",
      "name": "python",
      "nbconvert_exporter": "python",
      "pygments_lexer": "ipython3",
      "version": "3.10.12"
    }
  },
  "nbformat": 4,
  "nbformat_minor": 5
}
