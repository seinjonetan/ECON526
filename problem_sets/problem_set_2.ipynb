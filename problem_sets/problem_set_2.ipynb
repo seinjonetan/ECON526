{
  "cells": [
    {
      "cell_type": "markdown",
      "id": "f017bda7-0519-4f64-9eb3-64177abb7391",
      "metadata": {},
      "source": [
        "# ECON526: Assignment 2\n",
        "\n",
        "Jesse Perla, Paul Schrimpf, and Phil Solamine\n",
        "\n",
        "## Setup\n",
        "\n",
        "Use the following packages and imports"
      ]
    },
    {
      "cell_type": "code",
      "execution_count": 2,
      "id": "8bd24128",
      "metadata": {},
      "outputs": [],
      "source": [
        "import numpy as np\n",
        "import matplotlib.pyplot as plt\n",
        "import scipy\n",
        "from numpy.linalg import cond, matrix_rank, norm\n",
        "from scipy.linalg import inv, solve, det, eig, lu, eigvals\n",
        "from scipy.linalg import solve_triangular, eigvalsh, cholesky"
      ]
    },
    {
      "cell_type": "markdown",
      "id": "489224f0-63e4-46de-bbc6-0f5132b5216e",
      "metadata": {},
      "source": [
        "## Q1.1\n",
        "\n",
        "Generate a random matrix $A \\in \\mathbb{R}^{10\\times 10}$ and random\n",
        "vector $b\\in\\mathbb{R}^{10}$ of uniformly distributed floating points\n",
        "between 0 and 1. Hint: use `np.random.rand(10, 10)`\n",
        "\n",
        "and solve $A x = b$ as a linear system with\n",
        "\n",
        "1.  `scipy.linalg.solve`\n",
        "2.  `scipy.linalg.inv`\n",
        "\n",
        "Modify"
      ]
    },
    {
      "cell_type": "code",
      "execution_count": 3,
      "id": "e0080391",
      "metadata": {},
      "outputs": [
        {
          "data": {
            "text/plain": [
              "array([[-4.99787397],\n",
              "       [-2.02885253],\n",
              "       [-3.11267476],\n",
              "       [-4.11492604],\n",
              "       [ 4.15446897],\n",
              "       [-3.51203026],\n",
              "       [ 7.5379146 ],\n",
              "       [ 4.92859614],\n",
              "       [ 3.3924742 ],\n",
              "       [-0.57380905]])"
            ]
          },
          "execution_count": 3,
          "metadata": {},
          "output_type": "execute_result"
        }
      ],
      "source": [
        "N = 10\n",
        "# modify here\n",
        "A = np.random.rand(10, 10)\n",
        "b = np.random.rand(10, 1)\n",
        "scipy.linalg.solve(A, b)"
      ]
    },
    {
      "cell_type": "markdown",
      "id": "05e3bd9c-e4cc-448b-a467-50600408ecf1",
      "metadata": {},
      "source": [
        "What matrix decomposition would `scipy.linalg.solve` likely use in this\n",
        "case?"
      ]
    },
    {
      "cell_type": "markdown",
      "id": "8f07bda3-3e43-4716-abff-1c7f3bc795ba",
      "metadata": {},
      "source": [
        "LU Decomposition"
      ]
    },
    {
      "cell_type": "markdown",
      "id": "393f6d0d-26ed-4436-94ac-e9f2037a01fc",
      "metadata": {},
      "source": [
        "## Q1.2\n",
        "\n",
        "The product of any matrix with its transpose is symmetric. Prove it.\n",
        "Hint: the definition of symmetric matrix $B$ is if $B = B^T$. Use this\n",
        "to take the transpose of $B \\equiv A^T A$."
      ]
    },
    {
      "cell_type": "markdown",
      "id": "03c94db0-e656-4caf-8008-510d9b505a90",
      "metadata": {},
      "source": [
        "(double click to edit your answer)\n",
        "$\\\\ B = A^T A \\\\$\n",
        "$B^T = (A^T A)^T \\\\$\n",
        "$B^T = A^T (A^T)^T \\\\$\n",
        "$B^T = A^T A \\\\$\n",
        "$B^T = B$"
      ]
    },
    {
      "cell_type": "markdown",
      "id": "f77b36f8-59d8-4829-8e14-0084dcf24f8e",
      "metadata": {},
      "source": [
        "## Q1.3\n",
        "\n",
        "Using your matrix $A$ from before, construct the symmetric $B = A^T A$.\n",
        "\n",
        "Verify it is symmetric, and then find out if it is positive definite.\n",
        "Hint: you will need to use `eigvals` or `eigs`."
      ]
    },
    {
      "cell_type": "code",
      "execution_count": 4,
      "id": "17ac67cd",
      "metadata": {},
      "outputs": [
        {
          "name": "stdout",
          "output_type": "stream",
          "text": [
            "True\n",
            "True\n"
          ]
        }
      ],
      "source": [
        "# modify here, using A from above\n",
        "B = A.T @ A\n",
        "def is_symmetric(A):\n",
        "    return np.allclose(A, A.T)\n",
        "print(is_symmetric(B))\n",
        "print(np.all(eigvals(B) > 0))\n"
      ]
    },
    {
      "cell_type": "markdown",
      "id": "f6074a80-e8e3-4c31-8331-c69c7d82acf8",
      "metadata": {},
      "source": [
        "## Q1.4\n",
        "\n",
        "Now solve the system $B x = b$ using `solve` and `inv`. If the matrix\n",
        "was shown to be symmetric or positive definite before, then use that in\n",
        "your solution"
      ]
    },
    {
      "cell_type": "code",
      "execution_count": 5,
      "id": "2152a7fc",
      "metadata": {},
      "outputs": [
        {
          "data": {
            "text/plain": [
              "array([[-248.89673305],\n",
              "       [ -76.64286527],\n",
              "       [-186.39763485],\n",
              "       [-192.59405574],\n",
              "       [ 204.63303978],\n",
              "       [-176.73875954],\n",
              "       [ 347.94068003],\n",
              "       [ 214.54924091],\n",
              "       [ 172.3875136 ],\n",
              "       [ -31.02717749]])"
            ]
          },
          "execution_count": 5,
          "metadata": {},
          "output_type": "execute_result"
        }
      ],
      "source": [
        "# modify here\n",
        "scipy.linalg.solve(B, b)"
      ]
    },
    {
      "cell_type": "markdown",
      "id": "a9898da4-5a5f-4f4f-8c87-0c7522fc1e6f",
      "metadata": {},
      "source": [
        "## Q2.1\n",
        "\n",
        "Take the matrix $A \\in \\mathbb{R}^{100 \\times 5}$\n",
        "\n",
        "Check if it is full rank"
      ]
    },
    {
      "cell_type": "code",
      "execution_count": 6,
      "id": "9ae1c8fe",
      "metadata": {},
      "outputs": [
        {
          "data": {
            "text/plain": [
              "5"
            ]
          },
          "execution_count": 6,
          "metadata": {},
          "output_type": "execute_result"
        }
      ],
      "source": [
        "# modify here\n",
        "N = 100\n",
        "K = 5\n",
        "A = np.random.rand(N, K)\n",
        "\n",
        "np.linalg.matrix_rank(A)"
      ]
    },
    {
      "cell_type": "markdown",
      "id": "897a910c-a486-4acd-a068-5b60678df604",
      "metadata": {},
      "source": [
        "## Q2.2\n",
        "\n",
        "Take that previous matrix in Q2.1 and append a new column to it, so that\n",
        "it is now $\\hat{A} \\in \\mathbb{R}^{100 \\times 6}$ such that the matrix\n",
        "will still have a rank of $5$ and not 6. Hint: lots of ways to append a\n",
        "vector to a matrix in numpy, including `numpy.column_stack` and\n",
        "`numpy.concatenate`"
      ]
    },
    {
      "cell_type": "code",
      "execution_count": 7,
      "id": "55b53a26",
      "metadata": {},
      "outputs": [],
      "source": [
        "# modify here\n",
        "add_A = np.random.rand(N, 1)\n",
        "A_hat = np.concatenate((A, add_A), axis=1)"
      ]
    },
    {
      "cell_type": "markdown",
      "id": "cb8e5731-5bec-453a-9611-60c7ab7d7788",
      "metadata": {},
      "source": [
        "## Q2.3\n",
        "\n",
        "Take the $A$ and the $\\hat{A}$ from before, and form $B = A A^T$ and\n",
        "$\\hat{B} = \\hat{A} \\hat{A}^T$. What are there ranks?"
      ]
    },
    {
      "cell_type": "code",
      "execution_count": 8,
      "id": "ef325cd2",
      "metadata": {},
      "outputs": [
        {
          "name": "stdout",
          "output_type": "stream",
          "text": [
            "6\n",
            "5\n"
          ]
        }
      ],
      "source": [
        "# modify here\n",
        "B = A.T @ A\n",
        "B_hat = A_hat.T @ A_hat\n",
        "print(np.linalg.matrix_rank(B_hat))\n",
        "print(np.linalg.matrix_rank(B))"
      ]
    },
    {
      "cell_type": "markdown",
      "id": "886fae2f-2ab7-49cf-a652-ea80b1964e47",
      "metadata": {},
      "source": [
        "Could we do a cholesky decomposition of this matrix? Check and/or\n",
        "explain why not if you can’t"
      ]
    },
    {
      "cell_type": "code",
      "execution_count": 9,
      "id": "d1557575",
      "metadata": {},
      "outputs": [
        {
          "data": {
            "text/plain": [
              "array([[5.68443103, 0.        , 0.        , 0.        , 0.        ,\n",
              "        0.        ],\n",
              "       [4.03287096, 3.83513184, 0.        , 0.        , 0.        ,\n",
              "        0.        ],\n",
              "       [4.42418919, 1.32212627, 3.60229639, 0.        , 0.        ,\n",
              "        0.        ],\n",
              "       [4.1461783 , 1.75973088, 1.70227121, 3.10758746, 0.        ,\n",
              "        0.        ],\n",
              "       [3.94331922, 1.58987339, 1.09230519, 0.59274247, 3.1603318 ,\n",
              "        0.        ],\n",
              "       [3.84202729, 1.6782859 , 1.0342292 , 0.76521368, 0.93110416,\n",
              "        3.30182009]])"
            ]
          },
          "execution_count": 9,
          "metadata": {},
          "output_type": "execute_result"
        }
      ],
      "source": [
        "np.linalg.cholesky(B_hat)"
      ]
    },
    {
      "cell_type": "markdown",
      "id": "d993da96-3f27-455a-ad7e-a937212e09c0",
      "metadata": {},
      "source": [
        "Yes we can"
      ]
    },
    {
      "cell_type": "markdown",
      "id": "a67a8760-b8b5-4b52-b699-6f5b9e6c6eb9",
      "metadata": {},
      "source": [
        "## Q3.1\n",
        "\n",
        "Take the following $B\\in\\mathbb{R}^{N\\times N}$ symmetric matrix and do\n",
        "an eigendecomposition (spectral decomposition in this case since\n",
        "symmetric), and print out the eigenvalues"
      ]
    },
    {
      "cell_type": "code",
      "execution_count": 10,
      "id": "008e1ef5",
      "metadata": {},
      "outputs": [
        {
          "name": "stdout",
          "output_type": "stream",
          "text": [
            "[1.21339493e+02+0.j 8.85899536e+00+0.j 8.74021679e+00+0.j\n",
            " 5.17818805e+00+0.j 3.84469338e+00+0.j 1.53184957e+00+0.j\n",
            " 1.02873412e+00+0.j 5.46076497e-01+0.j 4.88629672e-03+0.j\n",
            " 2.27308732e-01+0.j]\n"
          ]
        }
      ],
      "source": [
        "N = 10\n",
        "A = 2.0 * np.random.rand(N, N)\n",
        "B = A.T @ A\n",
        "\n",
        "# modify here\n",
        "# Lambda, Q = .... \n",
        "Lambda, Q = eig(B)\n",
        "print(Lambda)"
      ]
    },
    {
      "cell_type": "markdown",
      "id": "0bb9d8f0-d21c-4591-bfa6-c2827c38f2a8",
      "metadata": {},
      "source": [
        "## Q3.2\n",
        "\n",
        "For your matrix above, calculate its spectral radius"
      ]
    },
    {
      "cell_type": "code",
      "execution_count": 11,
      "id": "7d2e88f7",
      "metadata": {},
      "outputs": [
        {
          "data": {
            "text/plain": [
              "121.33949313323035"
            ]
          },
          "execution_count": 11,
          "metadata": {},
          "output_type": "execute_result"
        }
      ],
      "source": [
        "# modify here\n",
        "def spectral_radius(matrix):\n",
        "    eigenvalues = np.linalg.eigvals(matrix)\n",
        "    return np.max(np.abs(eigenvalues))\n",
        "spectral_radius(B)"
      ]
    },
    {
      "cell_type": "markdown",
      "id": "674bf341-7897-4dda-ad55-79a924e31ddf",
      "metadata": {},
      "source": [
        "## Q4.1\n",
        "\n",
        "Take the vector $\\hat{x}_1\\in \\mathbb{R}^2$"
      ]
    },
    {
      "cell_type": "code",
      "execution_count": 12,
      "id": "8779ce34",
      "metadata": {},
      "outputs": [],
      "source": [
        "x_hat_1 = np.array([1, 2])"
      ]
    },
    {
      "cell_type": "markdown",
      "id": "e107ee72-16ee-464d-aab2-3a9bc2cff528",
      "metadata": {},
      "source": [
        "Verify that it is not a unit length vector (i.e. $\\|\\hat{x}_1\\| \\neq 1$)\n",
        "then create a new $x_1$ that is a unit length vector in the same\n",
        "direction as $\\hat{x}_1$ (i.e. $||x_1|| = 1$)"
      ]
    },
    {
      "cell_type": "code",
      "execution_count": 13,
      "id": "1ac23ff0",
      "metadata": {},
      "outputs": [],
      "source": [
        "# modify here\n",
        "# x_1 = ...\n",
        "x_hat_1_norm = np.square(x_hat_1)\n",
        "x_hat_1_norm = np.sum(x_hat_1_norm)\n",
        "x_hat_1_norm = np.sqrt(x_hat_1_norm)\n",
        "\n",
        "x_1 = x_hat_1 / x_hat_1_norm"
      ]
    },
    {
      "cell_type": "markdown",
      "id": "eebd3f71-9452-4eb7-ad8d-498f11fc9240",
      "metadata": {},
      "source": [
        "## Q4.2\n",
        "\n",
        "Now find a $x_2$ which is also a unit length vector, but is orthogonal\n",
        "to $x_1$. Check it with `np.dot(x_1, x_2)` approx 0 and `norm(x_2)`\n",
        "approx 1. Hint: many ways to do this by hand in $\\mathbb{R}^2$ and\n",
        "fulfill the requirements, such as simple rotations."
      ]
    },
    {
      "cell_type": "code",
      "execution_count": 14,
      "id": "2d05284e",
      "metadata": {},
      "outputs": [
        {
          "name": "stdout",
          "output_type": "stream",
          "text": [
            "0.0\n",
            "0.9999999999999999\n"
          ]
        }
      ],
      "source": [
        "# modify here\n",
        "# x_2 = ...\n",
        "\n",
        "x_2 = [x_1[1], -x_1[0]]\n",
        "print(np.dot(x_1, x_2))\n",
        "print(norm(x_2))"
      ]
    },
    {
      "cell_type": "markdown",
      "id": "c189a124-69aa-47fc-95d2-ad203d340c21",
      "metadata": {},
      "source": [
        "## Q4.3\n",
        "\n",
        "The vectors $x_1$ and $x_2$ are now an orthonormal set. Form the matrix\n",
        "$Q = \\begin{bmatrix} x_1 & | & x_2\\end{bmatrix}$ and verify the\n",
        "condition for orthonormality (i.e. $Q^T Q = I\\implies Q^{-1} = Q^T$)"
      ]
    },
    {
      "cell_type": "code",
      "execution_count": 15,
      "id": "7d6ee13f",
      "metadata": {},
      "outputs": [
        {
          "data": {
            "text/plain": [
              "array([[ 1.00000000e+00, -1.25949234e-17],\n",
              "       [-1.25949234e-17,  1.00000000e+00]])"
            ]
          },
          "execution_count": 15,
          "metadata": {},
          "output_type": "execute_result"
        }
      ],
      "source": [
        "# Q = np.column_stack((x_1, x_2))\n",
        "# modify here\n",
        "Q = np.column_stack((x_1, x_2))\n",
        "Q.T @ Q"
      ]
    },
    {
      "cell_type": "markdown",
      "id": "7ad92676-56ba-43a0-8a63-29343cd5d0e6",
      "metadata": {},
      "source": [
        "## Q4.4\n",
        "\n",
        "Create a matrix $A$ such that: 1. $Q$ are its eigenvectors 2. The\n",
        "spectral radius of $A$ is $1.0$ 3. $A$ is positive definite.\n",
        "\n",
        "Hint: create a matrix of eigenvalues $\\Lambda$ and then do an\n",
        "eigendecomposition in reverse"
      ]
    },
    {
      "cell_type": "code",
      "execution_count": 16,
      "id": "1a7d438b",
      "metadata": {},
      "outputs": [
        {
          "name": "stdout",
          "output_type": "stream",
          "text": [
            "[[0.6 0.2]\n",
            " [0.2 0.9]]\n"
          ]
        }
      ],
      "source": [
        "# modify here\n",
        "_lambda = [[1 , 0] , [0 , 0.5]]\n",
        "A = Q @ _lambda @ Q.T\n",
        "print(A)"
      ]
    },
    {
      "cell_type": "code",
      "execution_count": null,
      "id": "8f838c76",
      "metadata": {},
      "outputs": [],
      "source": []
    }
  ],
  "metadata": {
    "kernelspec": {
      "display_name": "Python 3 (ipykernel)",
      "language": "python",
      "name": "python3"
    },
    "language_info": {
      "codemirror_mode": {
        "name": "ipython",
        "version": 3
      },
      "file_extension": ".py",
      "mimetype": "text/x-python",
      "name": "python",
      "nbconvert_exporter": "python",
      "pygments_lexer": "ipython3",
      "version": "3.10.12"
    }
  },
  "nbformat": 4,
  "nbformat_minor": 5
}
