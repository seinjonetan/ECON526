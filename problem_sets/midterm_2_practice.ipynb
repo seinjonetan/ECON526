{
  "cells": [
    {
      "cell_type": "markdown",
      "id": "52dbea29-e95f-462d-93e5-2546575cc392",
      "metadata": {},
      "source": [
        "# ECON526: Midterm 2 Practice"
      ]
    },
    {
      "cell_type": "markdown",
      "id": "f4a4ae2a-5deb-46fd-959f-516788482efb",
      "metadata": {},
      "source": [
        "## Student Name/Number: (doubleclick to edit)"
      ]
    },
    {
      "cell_type": "markdown",
      "id": "2292e15d-aaa2-4076-9c2a-86d88cd51e08",
      "metadata": {},
      "source": [
        "This is an **ungraded** practice for editing and submitting the online\n",
        "exam.\n",
        "\n",
        "Note that many (not all) of the problems are (very) similar to homework\n",
        "problems. The problems have been chosen to give you a sense of the types\n",
        "of questions that will be asked, the general difficulty, and length. But\n",
        "the actual exam will obviously be different. You should make sure that\n",
        "you are comfortable with the material covered in the homeworks, the\n",
        "lectures, and the readings.\n",
        "\n",
        "### Instructions\n",
        "\n",
        "-   Ensure you modify the field with your **name and student number\n",
        "    above immediately**\n",
        "-   **Execute the file** to begin, which will also check your setup. To\n",
        "    do this in Jupyter, in the menu go `> Run > Run All Cells` or the\n",
        "    equivalent buttons\n",
        "-   Edit this file directly, and in-place as an `ipynb` file, which we\n",
        "    will automatically download at the end of the exam time directly. -\n",
        "    In particular\n",
        "    -   **DO NOT** rename this file with your name. It is automatically\n",
        "        associated with your canvas account\n",
        "    -   **DO NOT** save-as the file, move it, or export to pdf or html\n",
        "    -   **DO NOT** add any additional packages\n",
        "-   **Save** the notebook as you are working.\n",
        "    -   We will only grade what is saved at the end of the exam in this\n",
        "        exact file, and it is your responsibility to ensure the file is\n",
        "        saved\n",
        "    -   We will **not** execute the notebook, so ensure all code,\n",
        "        figures, etc. are ready as-is upon saving for submission\n",
        "-   Ensure you **edit the results in the code blocks or markup blocks\n",
        "    indicated** as we will not grade anything outside of those\n",
        "    -   You will not be judged on code quality directly, but code\n",
        "        clarity may be required for us to ensure you understood the\n",
        "        problem directly\n",
        "    -   If a question requires math, you can try to put latex inside of\n",
        "        the cells but will not be judged on whether you write latex\n",
        "        vs. math in text that doesn’t quite match latex. But it should\n",
        "        be clear\n",
        "-   The exam is **closed book** except for a **one page cheat-sheet**\n",
        "    with anything on it.\n",
        "-   Accessing the internet **is not permitted**, though feel free to use\n",
        "    the internal help in Jupyter."
      ]
    },
    {
      "cell_type": "code",
      "execution_count": 1,
      "id": "11f646e6",
      "metadata": {},
      "outputs": [],
      "source": [
        "import pandas as pd\n",
        "import numpy as np\n",
        "import matplotlib.pyplot as plt\n",
        "import seaborn as sns\n",
        "import statsmodels.api as sm\n",
        "import statsmodels.formula.api as smf\n",
        "from linearmodels.iv import IV2SLS\n",
        "import graphviz as gr"
      ]
    },
    {
      "cell_type": "markdown",
      "id": "cd096f82-9959-4b17-85f8-65d11a5a3702",
      "metadata": {},
      "source": [
        "# Question 1\n",
        "\n",
        "In class we analyzed the effect of online class formats on student\n",
        "scores in a course. We found that the online format produced a negative\n",
        "effect on scores.\n",
        "\n",
        "The dataset is stored in `data/online_classroom.csv`. Read the data into\n",
        "a pandas dataframe and print the head."
      ]
    },
    {
      "cell_type": "code",
      "execution_count": 2,
      "id": "ac8bd313",
      "metadata": {},
      "outputs": [
        {
          "data": {
            "text/html": [
              "\n",
              "</div>"
            ]
          },
          "metadata": {},
          "output_type": "display_data"
        }
      ],
      "source": [
        "df = pd.read_csv(\"data/online_classroom.csv\")\n",
        "df.head()"
      ]
    },
    {
      "cell_type": "markdown",
      "id": "98db90b8-7802-4a9d-9486-0c2ae9dfdb95",
      "metadata": {},
      "source": [
        "## Q1.1\n",
        "\n",
        "Estimate the average treatment effect (ATE) of the blended format, using\n",
        "face-to-face as the control group. Use the **difference in sample\n",
        "means** as your estimator. Print each sample average and your point\n",
        "estimate of the ATE, along with the standard error of each mean and the\n",
        "standard error of the ATE. Can you reasonably conclude (at the **90%\n",
        "confidence level**) that the online format causes lower test scores than\n",
        "the blended format? Explain in the markdown cell below."
      ]
    },
    {
      "cell_type": "code",
      "execution_count": 3,
      "id": "5b4c4849",
      "metadata": {},
      "outputs": [],
      "source": [
        "df_f2f = df[df[\"format_ol\"] == 0]\n",
        "df_f2f = df_f2f[df_f2f[\"format_blended\"] == 0]\n",
        "df_blended = df[df[\"format_blended\"] == 1]\n",
        "\n",
        "# your code here"
      ]
    },
    {
      "cell_type": "markdown",
      "id": "a49b31e1-58d7-4c35-bca6-b226ee9c0a72",
      "metadata": {},
      "source": [
        "(double click to edit your answer)"
      ]
    },
    {
      "cell_type": "markdown",
      "id": "3edcea72-d588-444c-8b32-fc24fb0d9589",
      "metadata": {},
      "source": [
        "## Q1.3\n",
        "\n",
        "In class we noticed that there are not all that many observations in the\n",
        "dataset. It also looks like the distribution of scores is not normal (in\n",
        "fact, we know it’s not, since the score is bounded below at 0 and above\n",
        "at 100). So we might be concerned that this, plus the limited amount of\n",
        "data, means that our asymptotic standard errors are not very accurate.\n",
        "\n",
        "Use bootstrapping to estimate the standard error of the ATE. You should\n",
        "use 1000 bootstrap samples. Print the standard errors and the 90%\n",
        "confidence interval for the ATE. How are the results different?\n",
        "\n",
        "Is this what you expected? Does it seem like we have enough data for the\n",
        "estimator to approach its asymptotic distribution? Explain in the\n",
        "markdown cell below.\n",
        "\n",
        "Hint: like before, start by splitting the data into treatment (online)\n",
        "and control (blended) groups. Define a function that will resample the\n",
        "dataframes. Then resample each group separately to maintain the right\n",
        "proportion of treatment and control observations."
      ]
    },
    {
      "cell_type": "code",
      "execution_count": 5,
      "id": "57c42e29",
      "metadata": {},
      "outputs": [],
      "source": [
        "np.random.seed(100) # do not change this line\n",
        "\n",
        "def sample_ate(df_1,df_2):\n",
        "    # your code here\n",
        "    return ate\n",
        "\n",
        "estimates = [sample_ate(None,None) for _ in range(1000)] # replace None with your code, using pd.sample()\n",
        "\n",
        "# now calculate the standard error and confidence interval"
      ]
    },
    {
      "cell_type": "markdown",
      "id": "d619b628-dcb9-4d4d-8047-056f8f60d409",
      "metadata": {},
      "source": [
        "(double click to edit your answer)"
      ]
    },
    {
      "cell_type": "markdown",
      "id": "a557d29b-e414-49cb-9686-e8d3934a9d5a",
      "metadata": {},
      "source": [
        "# Question 2\n",
        "\n",
        "Consider the following causal graph:"
      ]
    },
    {
      "cell_type": "code",
      "execution_count": 1,
      "id": "53f202b8",
      "metadata": {},
      "outputs": [
        {
          "data": {
            "image/svg+xml": [
              "<?xml version=\"1.0\" encoding=\"UTF-8\" standalone=\"no\"?>\n",
              "<!DOCTYPE svg PUBLIC \"-//W3C//DTD SVG 1.1//EN\"\n",
              " \"http://www.w3.org/Graphics/SVG/1.1/DTD/svg11.dtd\">\n",
              "<!-- Generated by graphviz version 2.50.0 (0)\n",
              " -->\n",
              "<!-- Pages: 1 -->\n",
              "<svg width=\"206pt\" height=\"332pt\"\n",
              " viewBox=\"0.00 0.00 206.00 332.00\" xmlns=\"http://www.w3.org/2000/svg\" xmlns:xlink=\"http://www.w3.org/1999/xlink\">\n",
              "<g id=\"graph0\" class=\"graph\" transform=\"scale(1 1) rotate(0) translate(4 328)\">\n",
              "<polygon fill=\"white\" stroke=\"transparent\" points=\"-4,4 -4,-328 202,-328 202,4 -4,4\"/>\n",
              "<!-- A -->\n",
              "<g id=\"node1\" class=\"node\">\n",
              "<title>A</title>\n",
              "<ellipse fill=\"none\" stroke=\"black\" cx=\"99\" cy=\"-306\" rx=\"27\" ry=\"18\"/>\n",
              "<text text-anchor=\"middle\" x=\"99\" y=\"-302.3\" font-family=\"Times New Roman,serif\" font-size=\"14.00\">A</text>\n",
              "</g>\n",
              "<!-- B -->\n",
              "<g id=\"node2\" class=\"node\">\n",
              "<title>B</title>\n",
              "<ellipse fill=\"none\" stroke=\"black\" cx=\"27\" cy=\"-234\" rx=\"27\" ry=\"18\"/>\n",
              "<text text-anchor=\"middle\" x=\"27\" y=\"-230.3\" font-family=\"Times New Roman,serif\" font-size=\"14.00\">B</text>\n",
              "</g>\n",
              "<!-- A&#45;&gt;B -->\n",
              "<g id=\"edge1\" class=\"edge\">\n",
              "<title>A&#45;&gt;B</title>\n",
              "<path fill=\"none\" stroke=\"black\" d=\"M84.43,-290.83C74.25,-280.94 60.48,-267.55 48.97,-256.36\"/>\n",
              "<polygon fill=\"black\" stroke=\"black\" points=\"51.41,-253.85 41.8,-249.38 46.53,-258.87 51.41,-253.85\"/>\n",
              "</g>\n",
              "<!-- C -->\n",
              "<g id=\"node3\" class=\"node\">\n",
              "<title>C</title>\n",
              "<ellipse fill=\"none\" stroke=\"black\" cx=\"99\" cy=\"-234\" rx=\"27\" ry=\"18\"/>\n",
              "<text text-anchor=\"middle\" x=\"99\" y=\"-230.3\" font-family=\"Times New Roman,serif\" font-size=\"14.00\">C</text>\n",
              "</g>\n",
              "<!-- A&#45;&gt;C -->\n",
              "<g id=\"edge2\" class=\"edge\">\n",
              "<title>A&#45;&gt;C</title>\n",
              "<path fill=\"none\" stroke=\"black\" d=\"M99,-287.7C99,-279.98 99,-270.71 99,-262.11\"/>\n",
              "<polygon fill=\"black\" stroke=\"black\" points=\"102.5,-262.1 99,-252.1 95.5,-262.1 102.5,-262.1\"/>\n",
              "</g>\n",
              "<!-- F -->\n",
              "<g id=\"node7\" class=\"node\">\n",
              "<title>F</title>\n",
              "<ellipse fill=\"none\" stroke=\"black\" cx=\"171\" cy=\"-162\" rx=\"27\" ry=\"18\"/>\n",
              "<text text-anchor=\"middle\" x=\"171\" y=\"-158.3\" font-family=\"Times New Roman,serif\" font-size=\"14.00\">F</text>\n",
              "</g>\n",
              "<!-- A&#45;&gt;F -->\n",
              "<g id=\"edge8\" class=\"edge\">\n",
              "<title>A&#45;&gt;F</title>\n",
              "<path fill=\"none\" stroke=\"black\" d=\"M110.95,-289.32C118.44,-279.05 127.98,-265.15 135,-252 145.81,-231.75 155.41,-207.53 161.97,-189.47\"/>\n",
              "<polygon fill=\"black\" stroke=\"black\" points=\"165.33,-190.47 165.38,-179.88 158.73,-188.13 165.33,-190.47\"/>\n",
              "</g>\n",
              "<!-- D -->\n",
              "<g id=\"node4\" class=\"node\">\n",
              "<title>D</title>\n",
              "<ellipse fill=\"none\" stroke=\"black\" cx=\"27\" cy=\"-162\" rx=\"27\" ry=\"18\"/>\n",
              "<text text-anchor=\"middle\" x=\"27\" y=\"-158.3\" font-family=\"Times New Roman,serif\" font-size=\"14.00\">D</text>\n",
              "</g>\n",
              "<!-- B&#45;&gt;D -->\n",
              "<g id=\"edge3\" class=\"edge\">\n",
              "<title>B&#45;&gt;D</title>\n",
              "<path fill=\"none\" stroke=\"black\" d=\"M27,-215.7C27,-207.98 27,-198.71 27,-190.11\"/>\n",
              "<polygon fill=\"black\" stroke=\"black\" points=\"30.5,-190.1 27,-180.1 23.5,-190.1 30.5,-190.1\"/>\n",
              "</g>\n",
              "<!-- C&#45;&gt;D -->\n",
              "<g id=\"edge4\" class=\"edge\">\n",
              "<title>C&#45;&gt;D</title>\n",
              "<path fill=\"none\" stroke=\"black\" d=\"M84.43,-218.83C74.25,-208.94 60.48,-195.55 48.97,-184.36\"/>\n",
              "<polygon fill=\"black\" stroke=\"black\" points=\"51.41,-181.85 41.8,-177.38 46.53,-186.87 51.41,-181.85\"/>\n",
              "</g>\n",
              "<!-- E -->\n",
              "<g id=\"node5\" class=\"node\">\n",
              "<title>E</title>\n",
              "<ellipse fill=\"none\" stroke=\"black\" cx=\"99\" cy=\"-162\" rx=\"27\" ry=\"18\"/>\n",
              "<text text-anchor=\"middle\" x=\"99\" y=\"-158.3\" font-family=\"Times New Roman,serif\" font-size=\"14.00\">E</text>\n",
              "</g>\n",
              "<!-- C&#45;&gt;E -->\n",
              "<g id=\"edge5\" class=\"edge\">\n",
              "<title>C&#45;&gt;E</title>\n",
              "<path fill=\"none\" stroke=\"black\" d=\"M99,-215.7C99,-207.98 99,-198.71 99,-190.11\"/>\n",
              "<polygon fill=\"black\" stroke=\"black\" points=\"102.5,-190.1 99,-180.1 95.5,-190.1 102.5,-190.1\"/>\n",
              "</g>\n",
              "<!-- H -->\n",
              "<g id=\"node6\" class=\"node\">\n",
              "<title>H</title>\n",
              "<ellipse fill=\"none\" stroke=\"black\" cx=\"99\" cy=\"-90\" rx=\"27\" ry=\"18\"/>\n",
              "<text text-anchor=\"middle\" x=\"99\" y=\"-86.3\" font-family=\"Times New Roman,serif\" font-size=\"14.00\">H</text>\n",
              "</g>\n",
              "<!-- D&#45;&gt;H -->\n",
              "<g id=\"edge9\" class=\"edge\">\n",
              "<title>D&#45;&gt;H</title>\n",
              "<path fill=\"none\" stroke=\"black\" d=\"M41.57,-146.83C51.75,-136.94 65.52,-123.55 77.03,-112.36\"/>\n",
              "<polygon fill=\"black\" stroke=\"black\" points=\"79.47,-114.87 84.2,-105.38 74.59,-109.85 79.47,-114.87\"/>\n",
              "</g>\n",
              "<!-- E&#45;&gt;H -->\n",
              "<g id=\"edge6\" class=\"edge\">\n",
              "<title>E&#45;&gt;H</title>\n",
              "<path fill=\"none\" stroke=\"black\" d=\"M99,-143.7C99,-135.98 99,-126.71 99,-118.11\"/>\n",
              "<polygon fill=\"black\" stroke=\"black\" points=\"102.5,-118.1 99,-108.1 95.5,-118.1 102.5,-118.1\"/>\n",
              "</g>\n",
              "<!-- Z -->\n",
              "<g id=\"node8\" class=\"node\">\n",
              "<title>Z</title>\n",
              "<ellipse fill=\"none\" stroke=\"black\" cx=\"99\" cy=\"-18\" rx=\"27\" ry=\"18\"/>\n",
              "<text text-anchor=\"middle\" x=\"99\" y=\"-14.3\" font-family=\"Times New Roman,serif\" font-size=\"14.00\">Z</text>\n",
              "</g>\n",
              "<!-- H&#45;&gt;Z -->\n",
              "<g id=\"edge10\" class=\"edge\">\n",
              "<title>H&#45;&gt;Z</title>\n",
              "<path fill=\"none\" stroke=\"black\" d=\"M99,-71.7C99,-63.98 99,-54.71 99,-46.11\"/>\n",
              "<polygon fill=\"black\" stroke=\"black\" points=\"102.5,-46.1 99,-36.1 95.5,-46.1 102.5,-46.1\"/>\n",
              "</g>\n",
              "<!-- F&#45;&gt;H -->\n",
              "<g id=\"edge7\" class=\"edge\">\n",
              "<title>F&#45;&gt;H</title>\n",
              "<path fill=\"none\" stroke=\"black\" d=\"M156.43,-146.83C146.25,-136.94 132.48,-123.55 120.97,-112.36\"/>\n",
              "<polygon fill=\"black\" stroke=\"black\" points=\"123.41,-109.85 113.8,-105.38 118.53,-114.87 123.41,-109.85\"/>\n",
              "</g>\n",
              "</g>\n",
              "</svg>\n"
            ],
            "text/plain": [
              "<graphviz.graphs.Digraph at 0x1aa5cb0cf10>"
            ]
          },
          "execution_count": 1,
          "metadata": {},
          "output_type": "execute_result"
        }
      ],
      "source": [
        "from graphviz import Digraph\n",
        "g = Digraph()\n",
        "g.edge('A', 'B')\n",
        "g.edge('A', 'C')\n",
        "g.edge('B', 'D')\n",
        "g.edge('C', 'D')\n",
        "g.edge('C', 'E')\n",
        "g.edge('E', 'H')\n",
        "g.edge('F', 'H')\n",
        "g.edge('A', 'F')\n",
        "g.edge('D', 'H')\n",
        "g.edge('H', 'Z')\n",
        "\n",
        "g"
      ]
    },
    {
      "cell_type": "markdown",
      "id": "5ef27ee7-9b17-411d-8635-324486cb3d9d",
      "metadata": {},
      "source": [
        "Evaluate each of the following statements as true or false. Explain why\n",
        "your answer is correct.\n",
        "\n",
        "## Q2.1\n",
        "\n",
        "-   Answer the following questions as true or false, and explain:\n",
        "    1.  $H \\perp A$\n",
        "    2.  $H \\perp A \\mid E$\n",
        "    3.  $H \\perp A \\mid F$\n",
        "    4.  $C \\perp B \\mid A$\n",
        "    5.  $D \\perp A \\mid C$\n",
        "    6.  $D \\perp H$\n",
        "    7.  $B \\perp C \\mid D$\n",
        "    8.  $F \\perp E \\mid H$\n",
        "    9.  $D \\perp E \\mid Z$"
      ]
    },
    {
      "cell_type": "markdown",
      "id": "efbdcd5f-a5b3-4452-963f-00dfb62625ab",
      "metadata": {},
      "source": [
        "(double click to edit your answer)"
      ]
    },
    {
      "cell_type": "markdown",
      "id": "4b8e9162-eae9-4931-a1a4-384b8a51057a",
      "metadata": {},
      "source": [
        "## Q2.2\n",
        "\n",
        "Suppose we are interested in finding the treatment effect of A on D. We\n",
        "have data on all of the variables in the graph, and we want to use the\n",
        "backdoor criterion to identify the causal effect. Which variables should\n",
        "we condition on? Explain your answer."
      ]
    },
    {
      "cell_type": "markdown",
      "id": "8cd79286-ae4c-4296-a59d-87cee63269ad",
      "metadata": {},
      "source": [
        "(double click to edit your answer)"
      ]
    },
    {
      "cell_type": "markdown",
      "id": "b03d6517-bd6c-4501-8656-dc8b2b1f0153",
      "metadata": {},
      "source": [
        "## Q2.3\n",
        "\n",
        "Suppose we are interested in finding the treatment effect of A on H.\n",
        "Which variables should we condition on? Explain your answer."
      ]
    },
    {
      "cell_type": "markdown",
      "id": "2aa13df2-0833-4d07-a555-8886d79eac4b",
      "metadata": {},
      "source": [
        "(double click to edit your answer)"
      ]
    },
    {
      "cell_type": "markdown",
      "id": "ec7d9419-7295-4a69-b49a-8c6714ca215a",
      "metadata": {},
      "source": [
        "## Q2.4\n",
        "\n",
        "Suppose we are interested in finding the treatment effect of F on H. We\n",
        "have data on A. Should we condition on A or C, or both? Explain your\n",
        "answer."
      ]
    },
    {
      "cell_type": "markdown",
      "id": "631bf044-cf98-4cb9-915f-f8c7eeb446e6",
      "metadata": {},
      "source": [
        "(double click to edit your answer)"
      ]
    },
    {
      "cell_type": "markdown",
      "id": "1fff4522-b15c-4d57-b259-bd298b83460f",
      "metadata": {},
      "source": [
        "# Question 3\n",
        "\n",
        "-   Suppose we had data on the following six variables:\n",
        "    1.  $Yield$: the amount of corn produced by a farm\n",
        "    2.  $Seeds$: the amount of seeds planted by the farm\n",
        "    3.  $Rain$: the amount of rain that fell during the growing season\n",
        "    4.  $Fertilizer$: the amount of fertilizer applied to the crop\n",
        "    5.  $Equipment$: the investment value of equipment owned by the farm\n",
        "    6.  $Subsidy$: the amount of government subsidy received by the farm\n",
        "        to grow corn\n",
        "    7.  $Demand$: the demand for corn\n",
        "\n",
        "At the beginning of the season, the farmer measures demand, gets a\n",
        "subsidy (which also depends on demand), and then uses this information\n",
        "to choose how much to invest in seeds,equipment, and fertilizer, which\n",
        "will be applied at the beginning of the season and eventually will\n",
        "partially determine the yield at the end of the season. During the\n",
        "season, rain falls exogenously on the corn and becomes the final factor\n",
        "in how much corn is produced.\n",
        "\n",
        "Assume that this is the true data generating process, and that we have\n",
        "data on all of the variables.\n",
        "\n",
        "## Q3.1\n",
        "\n",
        "Use the graphviz library to draw a DAG that represents the causal\n",
        "relationships between the variables in this example."
      ]
    },
    {
      "cell_type": "code",
      "execution_count": 8,
      "id": "2a6f72c6",
      "metadata": {},
      "outputs": [],
      "source": [
        "# your code here"
      ]
    },
    {
      "cell_type": "markdown",
      "id": "6202382f-b93f-4e6a-a80b-36af1efc82a8",
      "metadata": {},
      "source": [
        "## Q3.2\n",
        "\n",
        "Are there any variables that we can remove in order to simplify this\n",
        "model? If so, explain which ones and why."
      ]
    },
    {
      "cell_type": "markdown",
      "id": "c4dc927b-d45d-421d-94b8-29acbdf08b4f",
      "metadata": {},
      "source": [
        "(double click to edit your answer)"
      ]
    },
    {
      "cell_type": "markdown",
      "id": "9c1dae95-d2ef-4934-8d45-6a652b9c6229",
      "metadata": {},
      "source": [
        "## Q3.3\n",
        "\n",
        "Suppose we are interested in finding the effect of government subsidies\n",
        "on crop yields. Which variables should we condition on? Explain your\n",
        "answer."
      ]
    },
    {
      "cell_type": "markdown",
      "id": "b96991ef-58f8-483a-8a9d-d5a19808ad42",
      "metadata": {},
      "source": [
        "(double click to edit your answer)"
      ]
    },
    {
      "cell_type": "markdown",
      "id": "8ad8fc97-acfd-41aa-863d-1fe993bc6ebf",
      "metadata": {},
      "source": [
        "# Question 4\n",
        "\n",
        "For this problem, we will use the data from Angrist and Kreuger (1991)\n",
        "on the effect of education on earnings. The data is stored in\n",
        "`data/ak91.csv`.\n",
        "\n",
        "## Q4.1\n",
        "\n",
        "Read in the data and print the head"
      ]
    },
    {
      "cell_type": "code",
      "execution_count": 10,
      "id": "0135fb4f",
      "metadata": {},
      "outputs": [],
      "source": [
        "# your code here"
      ]
    },
    {
      "cell_type": "markdown",
      "id": "5822f2ae-ba9b-44e0-bfcf-89b0add0118c",
      "metadata": {},
      "source": [
        "## Q4.2\n",
        "\n",
        "Estimate the effect of education on earnings using OLS in `statsmodels`.\n",
        "Print the results. Interpret the coefficient on education. Is it\n",
        "statistically significant? What can we say about the causal effect of\n",
        "education on earnings due to this regression? Explain in the markdown\n",
        "cell below."
      ]
    },
    {
      "cell_type": "code",
      "execution_count": 12,
      "id": "869d54e3",
      "metadata": {},
      "outputs": [],
      "source": [
        "# your code here"
      ]
    },
    {
      "cell_type": "markdown",
      "id": "32da3348-9b7a-4e21-959f-af5004f416c7",
      "metadata": {},
      "source": [
        "(double click to edit your answer)"
      ]
    },
    {
      "cell_type": "markdown",
      "id": "9336dd83-d894-4378-baa1-9a8315887217",
      "metadata": {},
      "source": [
        "## Q4.3\n",
        "\n",
        "Estimate the effect of education on earnings using IV regression and the\n",
        "IV2SLS method from the linearmodels.iv package. Use just\n",
        "`quarter_of_birth==4` as your instrument.\n",
        "\n",
        "What is the actual causal effect of education on earnings? How is this\n",
        "different than what we found before? Is it statistically significant?\n",
        "Explain in the markdown cell below which of these results you would\n",
        "prefer."
      ]
    },
    {
      "cell_type": "code",
      "execution_count": 14,
      "id": "4effe569",
      "metadata": {},
      "outputs": [],
      "source": [
        "# your code here"
      ]
    },
    {
      "cell_type": "markdown",
      "id": "92344054-50ea-426e-9d90-9f132f7a5169",
      "metadata": {},
      "source": [
        "(double click to edit your answer)"
      ]
    }
  ],
  "metadata": {
    "kernelspec": {
      "display_name": "Python 3 (ipykernel)",
      "language": "python",
      "name": "python3"
    },
    "language_info": {
      "codemirror_mode": {
        "name": "ipython",
        "version": 3
      },
      "file_extension": ".py",
      "mimetype": "text/x-python",
      "name": "python",
      "nbconvert_exporter": "python",
      "pygments_lexer": "ipython3",
      "version": "3.11.4"
    }
  },
  "nbformat": 4,
  "nbformat_minor": 5
}
