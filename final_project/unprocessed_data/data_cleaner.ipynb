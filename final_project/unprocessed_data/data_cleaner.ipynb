{
 "cells": [
  {
   "cell_type": "code",
   "execution_count": 10,
   "metadata": {},
   "outputs": [],
   "source": [
    "import pandas as pd\n",
    "\n",
    "df = pd.read_csv('prices.csv')\n",
    "df = df.set_index('Date')\n",
    "df.index = pd.to_datetime(df.index)\n",
    "df['Year'] = df.index.year\n",
    "\n",
    "df_yearly_average = df.groupby('Year').mean()\n",
    "# df_yearly_average.to_csv('price_processed.csv')\n",
    "\n",
    "df = pd.read_csv('climate_data.csv')\n",
    "df = df.set_index('Date/Time')\n",
    "df.index = pd.to_datetime(df.index)\n",
    "df['Year'] = df.index.year\n",
    "df = df[(df.index.month >= 6) & (df.index.month <= 11)]\n",
    "df_yearly_average = df.groupby('Year').mean()\n",
    "df_yearly_total = df.groupby('Year').sum()\n",
    "result = pd.concat([df_yearly_average.iloc[:, [0, 2]], df_yearly_total.iloc[:, [1, 3]]], axis=1)\n",
    "# result.to_csv('climate_processed.csv')"
   ]
  }
 ],
 "metadata": {
  "kernelspec": {
   "display_name": "Python 3",
   "language": "python",
   "name": "python3"
  },
  "language_info": {
   "codemirror_mode": {
    "name": "ipython",
    "version": 3
   },
   "file_extension": ".py",
   "mimetype": "text/x-python",
   "name": "python",
   "nbconvert_exporter": "python",
   "pygments_lexer": "ipython3",
   "version": "3.10.12"
  }
 },
 "nbformat": 4,
 "nbformat_minor": 2
}
