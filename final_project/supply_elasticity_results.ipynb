{
 "cells": [
  {
   "cell_type": "code",
   "execution_count": 8,
   "metadata": {},
   "outputs": [],
   "source": [
    "import pandas as pd\n",
    "import numpy as np\n",
    "\n",
    "price = pd.read_csv('price_processed.csv')\n",
    "production = pd.read_csv('production_values.csv')\n",
    "climate = pd.read_csv('climate_processed.csv')\n",
    "\n",
    "dataframes = [price, production, climate]\n",
    "\n",
    "for df in dataframes:\n",
    "    df.set_index('Year', inplace=True)\n",
    "\n",
    "price['Average Price Index'] = price.mean(axis=1)\n",
    "\n",
    "climate['Average Mean Temperature (C) [June - Nov]'] = climate.iloc[:, 0:2].mean(axis=1)\n",
    "climate['Average Total Precipitation (mm) [June - Nov]'] = climate.iloc[:, 2:4].mean(axis=1)\n",
    "\n",
    "average_price = price[['Average Price Index']]\n",
    "average_climate_temp = climate[['Average Mean Temperature (C) [June - Nov]']]\n",
    "average_climate_precip = climate[['Average Total Precipitation (mm) [June - Nov]']]\n",
    "\n",
    "df = pd.concat([production, average_price, average_climate_temp, average_climate_precip], axis=1)\n",
    "df = df.dropna()\n",
    "\n",
    "df = df.rename(columns={df.columns[0]: 'Quantity', \n",
    "                        df.columns[1]: 'Price', \n",
    "                        df.columns[2]: 'Temp', \n",
    "                        df.columns[3]: 'Rainfall'})\n",
    "\n",
    "df['Quantity'] = df['Quantity'].str.replace(',', '').astype(float)\n",
    "df['Log_Price'] = df['Price'].apply(lambda x: np.log(x))\n",
    "df['Log_Quantity'] = df['Quantity'].apply(lambda x: np.log(x))"
   ]
  },
  {
   "cell_type": "code",
   "execution_count": 19,
   "metadata": {},
   "outputs": [
    {
     "name": "stdout",
     "output_type": "stream",
     "text": [
      "                          IV-2SLS Estimation Summary                          \n",
      "==============================================================================\n",
      "Dep. Variable:              Log_Price   R-squared:                     -1.3201\n",
      "Estimator:                    IV-2SLS   Adj. R-squared:                -1.4361\n",
      "No. Observations:                  22   F-statistic:                    0.6585\n",
      "Date:                Tue, Dec 05 2023   P-value (F-stat)                0.4171\n",
      "Time:                        03:07:29   Distribution:                  chi2(1)\n",
      "Cov. Estimator:                robust                                         \n",
      "                                                                              \n",
      "                              Parameter Estimates                               \n",
      "================================================================================\n",
      "              Parameter  Std. Err.     T-stat    P-value    Lower CI    Upper CI\n",
      "--------------------------------------------------------------------------------\n",
      "Intercept       -17.915     27.720    -0.6463     0.5181     -72.245      36.414\n",
      "Log_Quantity     1.3768     1.6967     0.8115     0.4171     -1.9487      4.7022\n",
      "================================================================================\n",
      "\n",
      "Endogenous: Log_Quantity\n",
      "Instruments: Temp, Rainfall\n",
      "Robust Covariance (Heteroskedastic)\n",
      "Debiased: False\n"
     ]
    }
   ],
   "source": [
    "from linearmodels.iv import IV2SLS\n",
    "\n",
    "formula = 'Log_Price ~ [Log_Quantity ~ Temp + Rainfall]'\n",
    "model = IV2SLS.from_formula(formula, df)\n",
    "results = model.fit()\n",
    "\n",
    "print(results.summary)"
   ]
  }
 ],
 "metadata": {
  "kernelspec": {
   "display_name": "Python 3",
   "language": "python",
   "name": "python3"
  },
  "language_info": {
   "codemirror_mode": {
    "name": "ipython",
    "version": 3
   },
   "file_extension": ".py",
   "mimetype": "text/x-python",
   "name": "python",
   "nbconvert_exporter": "python",
   "pygments_lexer": "ipython3",
   "version": "3.10.12"
  }
 },
 "nbformat": 4,
 "nbformat_minor": 2
}
