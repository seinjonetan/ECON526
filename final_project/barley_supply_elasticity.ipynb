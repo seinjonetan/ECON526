{
 "cells": [
  {
   "cell_type": "code",
   "execution_count": 10,
   "metadata": {},
   "outputs": [
    {
     "data": {
      "text/html": [
       "<div>\n",
       "<style scoped>\n",
       "    .dataframe tbody tr th:only-of-type {\n",
       "        vertical-align: middle;\n",
       "    }\n",
       "\n",
       "    .dataframe tbody tr th {\n",
       "        vertical-align: top;\n",
       "    }\n",
       "\n",
       "    .dataframe thead th {\n",
       "        text-align: right;\n",
       "    }\n",
       "</style>\n",
       "<table border=\"1\" class=\"dataframe\">\n",
       "  <thead>\n",
       "    <tr style=\"text-align: right;\">\n",
       "      <th></th>\n",
       "      <th>Year</th>\n",
       "      <th>Barley Production (Metric Tons)</th>\n",
       "      <th>Average Price Index</th>\n",
       "      <th>Average Mean Temperature (C) [June - Nov]</th>\n",
       "      <th>Average Total Precipitation (mm) [June - Nov]</th>\n",
       "    </tr>\n",
       "  </thead>\n",
       "  <tbody>\n",
       "    <tr>\n",
       "      <th>0</th>\n",
       "      <td>1985.0</td>\n",
       "      <td>12,387,000</td>\n",
       "      <td>112.260833</td>\n",
       "      <td>7.308333</td>\n",
       "      <td>214.0</td>\n",
       "    </tr>\n",
       "    <tr>\n",
       "      <th>1</th>\n",
       "      <td>1986.0</td>\n",
       "      <td>14,568,000</td>\n",
       "      <td>79.617083</td>\n",
       "      <td>9.283333</td>\n",
       "      <td>183.7</td>\n",
       "    </tr>\n",
       "    <tr>\n",
       "      <th>2</th>\n",
       "      <td>1987.0</td>\n",
       "      <td>13,916,100</td>\n",
       "      <td>59.656250</td>\n",
       "      <td>10.983333</td>\n",
       "      <td>261.0</td>\n",
       "    </tr>\n",
       "    <tr>\n",
       "      <th>3</th>\n",
       "      <td>1988.0</td>\n",
       "      <td>10,326,100</td>\n",
       "      <td>81.370833</td>\n",
       "      <td>11.008333</td>\n",
       "      <td>147.1</td>\n",
       "    </tr>\n",
       "    <tr>\n",
       "      <th>4</th>\n",
       "      <td>1989.0</td>\n",
       "      <td>11,784,100</td>\n",
       "      <td>102.227500</td>\n",
       "      <td>10.883333</td>\n",
       "      <td>262.8</td>\n",
       "    </tr>\n",
       "  </tbody>\n",
       "</table>\n",
       "</div>"
      ],
      "text/plain": [
       "     Year Barley Production (Metric Tons)  Average Price Index  \\\n",
       "0  1985.0                      12,387,000           112.260833   \n",
       "1  1986.0                      14,568,000            79.617083   \n",
       "2  1987.0                      13,916,100            59.656250   \n",
       "3  1988.0                      10,326,100            81.370833   \n",
       "4  1989.0                      11,784,100           102.227500   \n",
       "\n",
       "   Average Mean Temperature (C) [June - Nov]  \\\n",
       "0                                   7.308333   \n",
       "1                                   9.283333   \n",
       "2                                  10.983333   \n",
       "3                                  11.008333   \n",
       "4                                  10.883333   \n",
       "\n",
       "   Average Total Precipitation (mm) [June - Nov]  \n",
       "0                                          214.0  \n",
       "1                                          183.7  \n",
       "2                                          261.0  \n",
       "3                                          147.1  \n",
       "4                                          262.8  "
      ]
     },
     "execution_count": 10,
     "metadata": {},
     "output_type": "execute_result"
    }
   ],
   "source": [
    "import pandas as pd\n",
    "\n",
    "df = pd.read_csv('descriptive_table.csv')\n",
    "df.head()"
   ]
  },
  {
   "cell_type": "code",
   "execution_count": 8,
   "metadata": {},
   "outputs": [
    {
     "name": "stdout",
     "output_type": "stream",
     "text": [
      "                          IV-2SLS Estimation Summary                          \n",
      "==============================================================================\n",
      "Dep. Variable:              Log_Price   R-squared:                      0.9973\n",
      "Estimator:                    IV-2SLS   Adj. R-squared:                 0.9972\n",
      "No. Observations:                  22   F-statistic:                    7665.0\n",
      "Date:                Tue, Dec 05 2023   P-value (F-stat)                0.0000\n",
      "Time:                        03:55:42   Distribution:                  chi2(1)\n",
      "Cov. Estimator:                robust                                         \n",
      "                                                                              \n",
      "                              Parameter Estimates                               \n",
      "================================================================================\n",
      "              Parameter  Std. Err.     T-stat    P-value    Lower CI    Upper CI\n",
      "--------------------------------------------------------------------------------\n",
      "Log_Quantity     0.2781     0.0032     87.550     0.0000      0.2719      0.2843\n",
      "================================================================================\n",
      "\n",
      "Endogenous: Log_Quantity\n",
      "Instruments: Temp, Rainfall\n",
      "Robust Covariance (Heteroskedastic)\n",
      "Debiased: False\n"
     ]
    }
   ],
   "source": [
    "from linearmodels.iv import IV2SLS\n",
    "\n",
    "df = pd.read_csv('data_table.csv')\n",
    "\n",
    "formula = 'Log_Price ~ [Log_Quantity ~ Temp + Rainfall]'\n",
    "model = IV2SLS.from_formula(formula, df)\n",
    "results = model.fit()\n",
    "\n",
    "print(results.summary)"
   ]
  },
  {
   "cell_type": "code",
   "execution_count": 15,
   "metadata": {},
   "outputs": [
    {
     "data": {
      "image/svg+xml": [
       "<?xml version=\"1.0\" encoding=\"UTF-8\" standalone=\"no\"?>\n",
       "<!DOCTYPE svg PUBLIC \"-//W3C//DTD SVG 1.1//EN\"\n",
       " \"http://www.w3.org/Graphics/SVG/1.1/DTD/svg11.dtd\">\n",
       "<!-- Generated by graphviz version 2.43.0 (0)\n",
       " -->\n",
       "<!-- Title: %3 Pages: 1 -->\n",
       "<svg width=\"254pt\" height=\"218pt\"\n",
       " viewBox=\"0.00 0.00 253.79 218.00\" xmlns=\"http://www.w3.org/2000/svg\" xmlns:xlink=\"http://www.w3.org/1999/xlink\">\n",
       "<g id=\"graph0\" class=\"graph\" transform=\"scale(1 1) rotate(0) translate(4 214)\">\n",
       "<title>%3</title>\n",
       "<polygon fill=\"white\" stroke=\"transparent\" points=\"-4,4 -4,-214 249.79,-214 249.79,4 -4,4\"/>\n",
       "<text text-anchor=\"middle\" x=\"122.9\" y=\"-190\" font-family=\"Times,serif\" font-size=\"20.00\">IV Regression</text>\n",
       "<!-- Supply -->\n",
       "<g id=\"node1\" class=\"node\">\n",
       "<title>Supply</title>\n",
       "<ellipse fill=\"none\" stroke=\"black\" cx=\"159.4\" cy=\"-90\" rx=\"42.79\" ry=\"18\"/>\n",
       "<text text-anchor=\"middle\" x=\"159.4\" y=\"-86.3\" font-family=\"Times,serif\" font-size=\"14.00\">Supply</text>\n",
       "</g>\n",
       "<!-- Price &amp; Quantity -->\n",
       "<g id=\"node2\" class=\"node\">\n",
       "<title>Price &amp; Quantity</title>\n",
       "<ellipse fill=\"none\" stroke=\"black\" cx=\"104.4\" cy=\"-18\" rx=\"89.08\" ry=\"18\"/>\n",
       "<text text-anchor=\"middle\" x=\"104.4\" y=\"-14.3\" font-family=\"Times,serif\" font-size=\"14.00\">Price &amp; Quantity</text>\n",
       "</g>\n",
       "<!-- Supply&#45;&gt;Price &amp; Quantity -->\n",
       "<g id=\"edge1\" class=\"edge\">\n",
       "<title>Supply&#45;&gt;Price &amp; Quantity</title>\n",
       "<path fill=\"none\" stroke=\"black\" stroke-dasharray=\"5,2\" d=\"M146.64,-72.76C139.96,-64.27 131.64,-53.68 124.15,-44.15\"/>\n",
       "<polygon fill=\"black\" stroke=\"black\" points=\"126.78,-41.82 117.85,-36.12 121.28,-46.15 126.78,-41.82\"/>\n",
       "</g>\n",
       "<!-- Demand -->\n",
       "<g id=\"node3\" class=\"node\">\n",
       "<title>Demand</title>\n",
       "<ellipse fill=\"none\" stroke=\"black\" cx=\"49.4\" cy=\"-90\" rx=\"49.29\" ry=\"18\"/>\n",
       "<text text-anchor=\"middle\" x=\"49.4\" y=\"-86.3\" font-family=\"Times,serif\" font-size=\"14.00\">Demand</text>\n",
       "</g>\n",
       "<!-- Demand&#45;&gt;Price &amp; Quantity -->\n",
       "<g id=\"edge2\" class=\"edge\">\n",
       "<title>Demand&#45;&gt;Price &amp; Quantity</title>\n",
       "<path fill=\"none\" stroke=\"black\" d=\"M62.43,-72.41C69.11,-63.91 77.39,-53.37 84.82,-43.91\"/>\n",
       "<polygon fill=\"black\" stroke=\"black\" points=\"87.65,-45.98 91.07,-35.96 82.14,-41.66 87.65,-45.98\"/>\n",
       "</g>\n",
       "<!-- Rainfall -->\n",
       "<g id=\"node4\" class=\"node\">\n",
       "<title>Rainfall</title>\n",
       "<ellipse fill=\"lightblue\" stroke=\"black\" cx=\"108.4\" cy=\"-162\" rx=\"46.29\" ry=\"18\"/>\n",
       "<text text-anchor=\"middle\" x=\"108.4\" y=\"-158.3\" font-family=\"Times,serif\" font-size=\"14.00\">Rainfall</text>\n",
       "</g>\n",
       "<!-- Rainfall&#45;&gt;Supply -->\n",
       "<g id=\"edge3\" class=\"edge\">\n",
       "<title>Rainfall&#45;&gt;Supply</title>\n",
       "<path fill=\"none\" stroke=\"black\" d=\"M120.48,-144.41C126.71,-135.87 134.42,-125.28 141.34,-115.79\"/>\n",
       "<polygon fill=\"black\" stroke=\"black\" points=\"144.34,-117.61 147.4,-107.47 138.68,-113.49 144.34,-117.61\"/>\n",
       "</g>\n",
       "<!-- Temp -->\n",
       "<g id=\"node5\" class=\"node\">\n",
       "<title>Temp</title>\n",
       "<ellipse fill=\"lightblue\" stroke=\"black\" cx=\"209.4\" cy=\"-162\" rx=\"36.29\" ry=\"18\"/>\n",
       "<text text-anchor=\"middle\" x=\"209.4\" y=\"-158.3\" font-family=\"Times,serif\" font-size=\"14.00\">Temp</text>\n",
       "</g>\n",
       "<!-- Temp&#45;&gt;Supply -->\n",
       "<g id=\"edge4\" class=\"edge\">\n",
       "<title>Temp&#45;&gt;Supply</title>\n",
       "<path fill=\"none\" stroke=\"black\" d=\"M197.8,-144.76C191.7,-136.23 184.1,-125.58 177.27,-116.02\"/>\n",
       "<polygon fill=\"black\" stroke=\"black\" points=\"179.94,-113.74 171.28,-107.63 174.24,-117.81 179.94,-113.74\"/>\n",
       "</g>\n",
       "</g>\n",
       "</svg>\n"
      ],
      "text/plain": [
       "<graphviz.graphs.Digraph at 0x7fca116eba60>"
      ]
     },
     "execution_count": 15,
     "metadata": {},
     "output_type": "execute_result"
    }
   ],
   "source": [
    "import graphviz\n",
    "import matplotlib.pyplot as plt\n",
    "import numpy as np\n",
    "\n",
    "g = graphviz.Digraph()\n",
    "g.attr('graph', label='IV Regression', labelloc='t', fontsize='20')\n",
    "g.edge('Supply', 'Price & Quantity', _attributes={'style': 'dashed'})\n",
    "g.edge('Demand', 'Price & Quantity')\n",
    "g.edge('Rainfall', 'Supply')\n",
    "g.edge('Temp', 'Supply')\n",
    "\n",
    "g.node('Rainfall', fillcolor='lightblue', style='filled')\n",
    "g.node('Temp', fillcolor='lightblue', style='filled')\n",
    "\n",
    "g"
   ]
  },
  {
   "cell_type": "markdown",
   "metadata": {},
   "source": [
    "The first stage regression is as follows:\n",
    "\n",
    "$Log(Price) = \\beta_1 \\cdot Total Rainfall + \\beta_2 \\cdot Average Temp$\n",
    "\n",
    "Where $TotalRainfall$ is the total rainfall in the growing season and $AverageTemp$ is the average temperature in the growing season. The growing season is defined as the months from June to November which is when barley is typcally grown.\n",
    "\n",
    "The second stage regression is as follows:\n",
    "\n",
    "$Log(Quantity) = \\beta_1 \\cdot Log(Price)$\n",
    "\n",
    "$Log(Quantity)$ and $Log(Price)$ were chosen in order to recover teh price elastcity of supply. "
   ]
  },
  {
   "cell_type": "markdown",
   "metadata": {},
   "source": [
    "Data for the produciton of barley was obatained from StatCan, specifically the  32-10-0359-01 table, this provided us with production data for the whole of Canada. The data stretches all the way back to 1908.\n",
    "\n",
    "For our pricing data, we obtained it from StatCan, specifically the 32-10-0077-01 table, this provided us with pricing indexes brokwn down by province. While there was a slight discrepancy in teh prices between provinces, we felt it appropriate to get the average prices using both Alberta and Saskatchewan as they are the two largest producers of barley in Canada. This data however only stretches back to 1980, limitng our number of observations. \n",
    "\n",
    "Getting climate data was the most challenging and would be teh factor that would limit our number of observations the most. We obtained our climate data from the Government of Canada's Climate Data Online website. This data was broken down by various weather stations across Canada, which presented an opportunity to fine tune our data to specific regions. After obatining a map that showed the concentration of barley production in Canada from the USDA, we setteled on weather station data for Lethbridge in Alberta and Prince Albert in Saskatchewan. Further, we limited our data to the months of June to November, which is when barley is typically grown. Computing the average temperature and total rainfall for each year in those months giving us our climate data. The data from oth weather stations stretched all the way back to 1937, but unfortunately only had data till 2007.\n",
    "\n",
    "Accounting for all those limitations, we ended up with 22 years of observations. \n",
    "\n",
    "Given that almost 89% of barley production in Canada is in Alberta and Saskatchewan, we felt that the data we had was representative of the whole of Canada.\n",
    "\n",
    "While the data we obatined had monthly observations, we felt that it would be more appropriate to use yearly averages for our analysis. This is because farmers would be making their planting decisions on a yearly basis, and would not be able to significantly adjust their output once the growing season has started."
   ]
  },
  {
   "cell_type": "markdown",
   "metadata": {},
   "source": [
    "Looking  at the results from the IV regression, we see that the first stage regression is significant at the 1% level, and that the F-statistic is 7665, which is well above the 2.5 threshold. This indicates that our instruments are strong. We also found an extremely high R-squared value of 0.99, which indicates that prices are highly correlated with quantity. Additionally, in spite of the low number of observations, the standard erros for our log quantity variable are very low, resluting in a tight confidence interval."
   ]
  },
  {
   "cell_type": "markdown",
   "metadata": {},
   "source": [
    "https://www150.statcan.gc.ca/t1/tbl1/en/tv.action?pid=3210035901&pickMembers%5B0%5D=2.19&cubeTimeFrame.startYear=1985&cubeTimeFrame.endYear=2023&referencePeriods=19850101%2C20230101\n",
    "\n",
    "https://www150.statcan.gc.ca/t1/tbl1/en/tv.action?pid=3210007701\n",
    "\n",
    "https://climate.weather.gc.ca/climate_data/monthly_data_e.html?hlyRange=1953-01-01%7C2013-11-14&dlyRange=1942-12-01%7C2013-11-13&mlyRange=1942-01-01%7C2007-11-01&StationID=3322&Prov=SK&urlExtension=_e.html&searchType=stnName&optLimit=yearRange&StartYear=1985&EndYear=2023&selRowPerPage=25&Line=1&searchMethod=contains&Month=12&Day=3&txtStationName=PRINCE+ALBERT&timeframe=3&Year=2007\n",
    "\n",
    "https://climate.weather.gc.ca/climate_data/monthly_data_e.html?hlyRange=1953-01-01%7C2012-06-07&dlyRange=1938-01-01%7C2008-07-28&mlyRange=1938-01-01%7C2007-08-01&StationID=2263&Prov=AB&urlExtension=_e.html&searchType=stnName&optLimit=yearRange&StartYear=1985&EndYear=2023&selRowPerPage=25&Line=0&searchMethod=contains&Month=12&Day=3&txtStationName=LETHBRIDGE+A&timeframe=3&Year=2007"
   ]
  },
  {
   "cell_type": "markdown",
   "metadata": {},
   "source": [
    "https://weather.gc.ca/forecast/canada/index_e.html?id=AB\n",
    "\n",
    "https://weather.gc.ca/forecast/canada/index_e.html?id=SK\n",
    "\n",
    "https://ipad.fas.usda.gov/rssiws/al/crop_production_maps/Canada/Canada_Barley.png"
   ]
  }
 ],
 "metadata": {
  "kernelspec": {
   "display_name": "Python 3",
   "language": "python",
   "name": "python3"
  },
  "language_info": {
   "codemirror_mode": {
    "name": "ipython",
    "version": 3
   },
   "file_extension": ".py",
   "mimetype": "text/x-python",
   "name": "python",
   "nbconvert_exporter": "python",
   "pygments_lexer": "ipython3",
   "version": "3.10.12"
  }
 },
 "nbformat": 4,
 "nbformat_minor": 2
}
